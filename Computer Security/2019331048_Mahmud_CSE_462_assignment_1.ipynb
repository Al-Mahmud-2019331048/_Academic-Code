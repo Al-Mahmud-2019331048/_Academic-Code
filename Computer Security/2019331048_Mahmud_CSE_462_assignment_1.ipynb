{
  "nbformat": 4,
  "nbformat_minor": 0,
  "metadata": {
    "colab": {
      "provenance": []
    },
    "kernelspec": {
      "name": "python3",
      "display_name": "Python 3"
    },
    "language_info": {
      "name": "python"
    }
  },
  "cells": [
    {
      "cell_type": "markdown",
      "source": [
        "# **Assignment - 1**\n",
        "\n",
        "# **CSE 462**\n",
        "\n",
        "# **Introduction To Computer Security & Forensics**"
      ],
      "metadata": {
        "id": "VxsEg55qtU6G"
      }
    },
    {
      "cell_type": "markdown",
      "source": [
        "| Submitted by                   | Submitted to                                                |\n",
        "|-------------------------------|-------------------------------------------------------------|\n",
        "| Abdulla Al Mahmud Mugdo      | Md. Shadmim Hasan Sifat                                     |\n",
        "| Reg no: 2019331048           | Lecturer,                                                   |\n",
        "| Submission Date: 14 February, 2024 | Computer Science & Engineering,                           |\n",
        "|                               | Shahjalal University of Science and Technology              |\n",
        "|                               | Email: shadmim-cse@sust.edu                                 |\n"
      ],
      "metadata": {
        "id": "4B0WAXNluo56"
      }
    },
    {
      "cell_type": "markdown",
      "source": [
        "# **Task-01**"
      ],
      "metadata": {
        "id": "hEhqxL3jKM08"
      }
    },
    {
      "cell_type": "markdown",
      "source": [
        "**1.(a) Implement the Decryption part of Caesar Cipher which will take a key\n",
        "and a ciphertext as inputs and give a plaintext as output.**\n",
        "\n",
        "***Solution:***"
      ],
      "metadata": {
        "id": "oFEW2kLLAfI5"
      }
    },
    {
      "cell_type": "code",
      "execution_count": 1,
      "metadata": {
        "colab": {
          "base_uri": "https://localhost:8080/"
        },
        "id": "aKQq7EK7AH0R",
        "outputId": "e25cca1b-07ef-4c3e-ee3d-06e34a3e918f"
      },
      "outputs": [
        {
          "output_type": "stream",
          "name": "stdout",
          "text": [
            "Key 21: CSE CARNIVAL AT IICT BUILDING SUST IS GOING TO BE GREAT AGAIN\n"
          ]
        }
      ],
      "source": [
        "# a\n",
        "\n",
        "def caesar_decrypt(ciphertext, key):\n",
        "    decrypted_text = \"\"\n",
        "\n",
        "    for char in ciphertext:\n",
        "        if char.isalpha():\n",
        "            # Shift the character by the key value\n",
        "            shifted_char = chr((ord(char) - key - ord('A')) % 26 + ord('A')) if char.isupper() else chr((ord(char) - key - ord('a')) % 26 + ord('a'))\n",
        "            decrypted_text += shifted_char\n",
        "        else:\n",
        "            # Leave non-alphabetic characters unchanged\n",
        "            decrypted_text += char\n",
        "\n",
        "    return decrypted_text\n",
        "\n",
        "# Example usage\n",
        "ciphertext = \"XNZ XVMIDQVG VO DDXO WPDGYDIB NPNO DN BJDIB OJ WZ BMZVO VBVDI\"\n",
        "key=21\n",
        "decrypted_text = caesar_decrypt(ciphertext, key)\n",
        "print(f\"Key {key}: {decrypted_text}\")\n"
      ]
    },
    {
      "cell_type": "markdown",
      "source": [
        "**1.(b) Use the above code to crack the following Caesar ciphertext, to identify\n",
        "the text encrypted:**\n",
        "\n",
        "##XNZ XVMIDQVG VO DDXO WPDGYDIB NPNO DN BJDIB OJ WZ BMZVO VBVDI.\n",
        "**Also describe in detail (with code) how you have identified the plaintext.**\n",
        "\n",
        "***Solution:***"
      ],
      "metadata": {
        "id": "DbYvkC2vA6Yo"
      }
    },
    {
      "cell_type": "code",
      "source": [
        "# b\n",
        "# try all possible keys to generate all possible text that encrypted and we can choose appropriate plaintext from that\n",
        "def try_all_possible_keys(ciphertext):\n",
        "    for key in range(1, 26):\n",
        "        decrypted_text = caesar_decrypt(ciphertext, key)\n",
        "        print(f\"Key {key}: {decrypted_text}\")\n",
        "\n",
        "# Example usage\n",
        "ciphertext = \"XNZ XVMIDQVG VO DDXO WPDGYDIB NPNO DN BJDIB OJ WZ BMZVO VBVDI\"\n",
        "\n",
        "try_all_possible_keys(ciphertext)\n",
        "\n",
        "# key=25"
      ],
      "metadata": {
        "colab": {
          "base_uri": "https://localhost:8080/"
        },
        "id": "iK0o4FbYA6sx",
        "outputId": "3f817631-1573-49e8-efba-9e133c2713f9"
      },
      "execution_count": 2,
      "outputs": [
        {
          "output_type": "stream",
          "name": "stdout",
          "text": [
            "Key 1: WMY WULHCPUF UN CCWN VOCFXCHA MOMN CM AICHA NI VY ALYUN UAUCH\n",
            "Key 2: VLX VTKGBOTE TM BBVM UNBEWBGZ LNLM BL ZHBGZ MH UX ZKXTM TZTBG\n",
            "Key 3: UKW USJFANSD SL AAUL TMADVAFY KMKL AK YGAFY LG TW YJWSL SYSAF\n",
            "Key 4: TJV TRIEZMRC RK ZZTK SLZCUZEX JLJK ZJ XFZEX KF SV XIVRK RXRZE\n",
            "Key 5: SIU SQHDYLQB QJ YYSJ RKYBTYDW IKIJ YI WEYDW JE RU WHUQJ QWQYD\n",
            "Key 6: RHT RPGCXKPA PI XXRI QJXASXCV HJHI XH VDXCV ID QT VGTPI PVPXC\n",
            "Key 7: QGS QOFBWJOZ OH WWQH PIWZRWBU GIGH WG UCWBU HC PS UFSOH OUOWB\n",
            "Key 8: PFR PNEAVINY NG VVPG OHVYQVAT FHFG VF TBVAT GB OR TERNG NTNVA\n",
            "Key 9: OEQ OMDZUHMX MF UUOF NGUXPUZS EGEF UE SAUZS FA NQ SDQMF MSMUZ\n",
            "Key 10: NDP NLCYTGLW LE TTNE MFTWOTYR DFDE TD RZTYR EZ MP RCPLE LRLTY\n",
            "Key 11: MCO MKBXSFKV KD SSMD LESVNSXQ CECD SC QYSXQ DY LO QBOKD KQKSX\n",
            "Key 12: LBN LJAWREJU JC RRLC KDRUMRWP BDBC RB PXRWP CX KN PANJC JPJRW\n",
            "Key 13: KAM KIZVQDIT IB QQKB JCQTLQVO ACAB QA OWQVO BW JM OZMIB IOIQV\n",
            "Key 14: JZL JHYUPCHS HA PPJA IBPSKPUN ZBZA PZ NVPUN AV IL NYLHA HNHPU\n",
            "Key 15: IYK IGXTOBGR GZ OOIZ HAORJOTM YAYZ OY MUOTM ZU HK MXKGZ GMGOT\n",
            "Key 16: HXJ HFWSNAFQ FY NNHY GZNQINSL XZXY NX LTNSL YT GJ LWJFY FLFNS\n",
            "Key 17: GWI GEVRMZEP EX MMGX FYMPHMRK WYWX MW KSMRK XS FI KVIEX EKEMR\n",
            "Key 18: FVH FDUQLYDO DW LLFW EXLOGLQJ VXVW LV JRLQJ WR EH JUHDW DJDLQ\n",
            "Key 19: EUG ECTPKXCN CV KKEV DWKNFKPI UWUV KU IQKPI VQ DG ITGCV CICKP\n",
            "Key 20: DTF DBSOJWBM BU JJDU CVJMEJOH TVTU JT HPJOH UP CF HSFBU BHBJO\n",
            "Key 21: CSE CARNIVAL AT IICT BUILDING SUST IS GOING TO BE GREAT AGAIN\n",
            "Key 22: BRD BZQMHUZK ZS HHBS ATHKCHMF RTRS HR FNHMF SN AD FQDZS ZFZHM\n",
            "Key 23: AQC AYPLGTYJ YR GGAR ZSGJBGLE QSQR GQ EMGLE RM ZC EPCYR YEYGL\n",
            "Key 24: ZPB ZXOKFSXI XQ FFZQ YRFIAFKD PRPQ FP DLFKD QL YB DOBXQ XDXFK\n",
            "Key 25: YOA YWNJERWH WP EEYP XQEHZEJC OQOP EO CKEJC PK XA CNAWP WCWEJ\n"
          ]
        }
      ]
    },
    {
      "cell_type": "markdown",
      "source": [
        "It can be seen from the all possible result that for the ***key 21*** there is a meaningful sentence. All the other decrypted texts are meaningless. So, the plaintext will be:\n",
        "\n",
        "###CSE CARNIVAL AT IICT BUILDING SUST IS GOING TO BE GREAT AGAIN"
      ],
      "metadata": {
        "id": "ZrxhGA_gBpoX"
      }
    },
    {
      "cell_type": "markdown",
      "source": [
        "**1.(c) Use the above code to decode these messages, which were encoded using the same Caesar cipher (among these 03 cipher blocks) and fill up the boxes.**\n",
        "\n",
        "***Solution:***"
      ],
      "metadata": {
        "id": "bm-Ra7dpCOJ-"
      }
    },
    {
      "cell_type": "code",
      "source": [
        "# c\n",
        "\n",
        "ciphertext = \"ZKDW GR BRX JHW ZKHQ BRX FURVV D VQRZPDQ ZLWK D YDPSLUH? IURVWELWH\"\n",
        "try_all_possible_keys(ciphertext)\n",
        "\n",
        "# key=3"
      ],
      "metadata": {
        "colab": {
          "base_uri": "https://localhost:8080/"
        },
        "id": "4y4RjkYRCNxW",
        "outputId": "c3be170d-daa4-4b1b-9a5e-4d657299655c"
      },
      "execution_count": 3,
      "outputs": [
        {
          "output_type": "stream",
          "name": "stdout",
          "text": [
            "Key 1: YJCV FQ AQW IGV YJGP AQW ETQUU C UPQYOCP YKVJ C XCORKTG? HTQUVDKVG\n",
            "Key 2: XIBU EP ZPV HFU XIFO ZPV DSPTT B TOPXNBO XJUI B WBNQJSF? GSPTUCJUF\n",
            "Key 3: WHAT DO YOU GET WHEN YOU CROSS A SNOWMAN WITH A VAMPIRE? FROSTBITE\n",
            "Key 4: VGZS CN XNT FDS VGDM XNT BQNRR Z RMNVLZM VHSG Z UZLOHQD? EQNRSAHSD\n",
            "Key 5: UFYR BM WMS ECR UFCL WMS APMQQ Y QLMUKYL UGRF Y TYKNGPC? DPMQRZGRC\n",
            "Key 6: TEXQ AL VLR DBQ TEBK VLR ZOLPP X PKLTJXK TFQE X SXJMFOB? COLPQYFQB\n",
            "Key 7: SDWP ZK UKQ CAP SDAJ UKQ YNKOO W OJKSIWJ SEPD W RWILENA? BNKOPXEPA\n",
            "Key 8: RCVO YJ TJP BZO RCZI TJP XMJNN V NIJRHVI RDOC V QVHKDMZ? AMJNOWDOZ\n",
            "Key 9: QBUN XI SIO AYN QBYH SIO WLIMM U MHIQGUH QCNB U PUGJCLY? ZLIMNVCNY\n",
            "Key 10: PATM WH RHN ZXM PAXG RHN VKHLL T LGHPFTG PBMA T OTFIBKX? YKHLMUBMX\n",
            "Key 11: OZSL VG QGM YWL OZWF QGM UJGKK S KFGOESF OALZ S NSEHAJW? XJGKLTALW\n",
            "Key 12: NYRK UF PFL XVK NYVE PFL TIFJJ R JEFNDRE NZKY R MRDGZIV? WIFJKSZKV\n",
            "Key 13: MXQJ TE OEK WUJ MXUD OEK SHEII Q IDEMCQD MYJX Q LQCFYHU? VHEIJRYJU\n",
            "Key 14: LWPI SD NDJ VTI LWTC NDJ RGDHH P HCDLBPC LXIW P KPBEXGT? UGDHIQXIT\n",
            "Key 15: KVOH RC MCI USH KVSB MCI QFCGG O GBCKAOB KWHV O JOADWFS? TFCGHPWHS\n",
            "Key 16: JUNG QB LBH TRG JURA LBH PEBFF N FABJZNA JVGU N INZCVER? SEBFGOVGR\n",
            "Key 17: ITMF PA KAG SQF ITQZ KAG ODAEE M EZAIYMZ IUFT M HMYBUDQ? RDAEFNUFQ\n",
            "Key 18: HSLE OZ JZF RPE HSPY JZF NCZDD L DYZHXLY HTES L GLXATCP? QCZDEMTEP\n",
            "Key 19: GRKD NY IYE QOD GROX IYE MBYCC K CXYGWKX GSDR K FKWZSBO? PBYCDLSDO\n",
            "Key 20: FQJC MX HXD PNC FQNW HXD LAXBB J BWXFVJW FRCQ J EJVYRAN? OAXBCKRCN\n",
            "Key 21: EPIB LW GWC OMB EPMV GWC KZWAA I AVWEUIV EQBP I DIUXQZM? NZWABJQBM\n",
            "Key 22: DOHA KV FVB NLA DOLU FVB JYVZZ H ZUVDTHU DPAO H CHTWPYL? MYVZAIPAL\n",
            "Key 23: CNGZ JU EUA MKZ CNKT EUA IXUYY G YTUCSGT COZN G BGSVOXK? LXUYZHOZK\n",
            "Key 24: BMFY IT DTZ LJY BMJS DTZ HWTXX F XSTBRFS BNYM F AFRUNWJ? KWTXYGNYJ\n",
            "Key 25: ALEX HS CSY KIX ALIR CSY GVSWW E WRSAQER AMXL E ZEQTMVI? JVSWXFMXI\n"
          ]
        }
      ]
    },
    {
      "cell_type": "markdown",
      "source": [
        "After observing the all possible key with the decyphered plaintext we can see that for ***key 3*** there is a meaningful text. But for all other case there is no meaningful texts. So, the plaintext will be:\n",
        "\n",
        "| Z | K | D | W |   | G | R |   | B | R | X |   | J | H | W |   | Z | K | H | Q |   | B | R | X |   | F | U | R | V | V |   | D |   | V | Q | R | Z | P | D | Q |   | Z | L | W | K |   | D |   | Y | D | P | S | L | U | H | ? |   | I | U | R | V |   | W | E | L | W | H |\n",
        "|---|---|---|---|---|---|---|---|---|---|---|---|---|---|---|---|---|---|---|---|---|---|---|---|---|---|---|---|---|---|---|---|---|---|---|---|---|---|---|---|---|---|---|---|---|---|---|---|---|---|---|---|---|---|---|---|---|---|---|---|---|---|---|---|---|---|---|\n",
        "| W | H | A | T |   | D | O |   | Y | O | U |   | G | E | T |   | W | H | E | N |   | Y | O | U |   | C | R | O | S | S |   | A |   | S | N | O | W | M | A | N |   | W | I | T | H |   | A |   | V | A | M | P | I | R | E | ? |   | F | R | O | S |   | T | B | I | T | E |\n",
        "\n",
        "###WHAT DO YOU GET WHEN YOU CROSS A SNOWMAN WITH A VAMPIRE? FROSTBITE"
      ],
      "metadata": {
        "id": "pdN9H6UREj-6"
      }
    },
    {
      "cell_type": "markdown",
      "source": [
        "# **Task-02**"
      ],
      "metadata": {
        "id": "_xk4ksJYFvIT"
      }
    },
    {
      "cell_type": "markdown",
      "source": [
        "**The following ciphers have been created using a substitution cipher. While\n",
        "decrypting them, describe in detail (step by step) how you have identified the\n",
        "plaintext.\n",
        "You may add necessary programs like frequency analysis, checking by trial-\n",
        "and-error etc. you have used while deciphering them.\n",
        "You may add necessary programs like frequency analysis, checking by trial-\n",
        "and-error etc. you have used while deciphering them.\n",
        "For your convenience, a frequency distribution of English characters and list of\n",
        "hints are given.**\n",
        "\n"
      ],
      "metadata": {
        "id": "TA6WD_xPF5SU"
      }
    },
    {
      "cell_type": "code",
      "source": [
        "from collections import Counter\n",
        "\n",
        "def freq_analyze(ciphertext):\n",
        "    ciphertext = ''.join(char for char in ciphertext if char.isalpha())\n",
        "    frequencies_counter = Counter(ciphertext)\n",
        "    sorted_frequencies = sorted(frequencies_counter.items(), key=lambda x: x[1], reverse=True)\n",
        "    print(\"Character frequencies in the ciphertext (descending order):\")\n",
        "    for char, count in sorted_frequencies:\n",
        "        print(f\"'{char}': {count}\")"
      ],
      "metadata": {
        "id": "8k22zSQ_GzA_"
      },
      "execution_count": 4,
      "outputs": []
    },
    {
      "cell_type": "code",
      "source": [
        " def algo(ciphertext, mapping, words_per_line):\n",
        "    print(\"Ciphertext:\")\n",
        "    print_formatted_text(ciphertext, words_per_line)\n",
        "    encrypted_text = ''.join(mapping.get(char, '*') if char.isalpha() else char for char in ciphertext)\n",
        "    print(\"\\nDecrypted Text:\")\n",
        "    print_formatted_text(encrypted_text, words_per_line)\n",
        "    check_duplicate_mapping(mapping)\n",
        "\n",
        "def check_duplicate_mapping(mapping):\n",
        "    seen = set()\n",
        "    duplicates = set()\n",
        "    for key, value in mapping.items():\n",
        "        if value in seen:\n",
        "            duplicates.add(value)\n",
        "        else:\n",
        "            seen.add(value)\n",
        "    if duplicates:\n",
        "        print(\"\\nDuplicate mappings found:\")\n",
        "        for value in duplicates:\n",
        "            print(f\"{value}: {', '.join([key for key, val in mapping.items() if val == value])}\")\n",
        "\n",
        "def print_formatted_text(text, words_per_line):\n",
        "    words = text.split()\n",
        "    for i in range(0, len(words), words_per_line):\n",
        "        print(' '.join(words[i:i+words_per_line]))\n",
        "\n",
        "words_per_line = 10\n"
      ],
      "metadata": {
        "id": "HdWY8GbfG1NT"
      },
      "execution_count": 5,
      "outputs": []
    },
    {
      "cell_type": "markdown",
      "source": [
        "##**2.(a)**"
      ],
      "metadata": {
        "id": "yFhrEUFCGZzi"
      }
    },
    {
      "cell_type": "markdown",
      "source": [
        "*gtd bsvgl vf fgedsugt dffml dkcymvsf gtmg gtd chjde ha aevdsxftvc tdycf bf gh id fgehsu aehz tmexftvcf. aevdsxf qms uvod bf gtd fgedsugt jd sddx jtds yvad udgf ghbut. vs mxxvgvhs, cdhcyd dkcedff bsvgl gtehbut yhod,amzvyl, aevdsxf, msx hgtdef ftmed fghevdf ha avsxvsu qhzzhs uehbsx jvgt fhzdhsd.gtded med zmsl idsdavgf ha fgmlvsu bsvgdx vs ghbut gvzdf, mf vg tdycf gh amqd qtmyydsuvsu fvgbmgvhsf jvgt qhbemud. gtd vzchegmsqd ha fgmlvsu bsvgdx tmf fgebqp m qthex mzhsu zmsl cdhcyd gtehbuthbg tvfghel.pddcvsu zdzhevdf ha jtmg jd tmod mqqhzcyvftdx gtehbuthbg tvfghel qms tdyc bf fdd thj vsxvovxbmyf msx qhzzbsvgvdf tmod cdefdodedx gtehbut ghbut gvzdf msx vsgh m ievutgde abgbed.*"
      ],
      "metadata": {
        "id": "eiV8YVLCcT1V"
      }
    },
    {
      "cell_type": "code",
      "source": [
        "# Provided ciphertext\n",
        "ciphertext = \"\"\"gtd bsvgl vf fgedsugt dffml dkcymvsf gtmg gtd chjde ha aevdsxftvc tdycf\n",
        "bf gh id fgehsu aehz tmexftvcf. aevdsxf qms uvod bf gtd fgedsugt jd sddx\n",
        "jtds yvad udgf ghbut. vs mxxvgvhs, cdhcyd dkcedff bsvgl gtehbut\n",
        "yhod,amzvyl, aevdsxf, msx hgtdef ftmed fghevdf ha avsxvsu qhzzhs\n",
        "uehbsx jvgt fhzdhsd.gtded med zmsl idsdavgf ha fgmlvsubsvgdx vs ghbut\n",
        "gvzdf, mf vg tdycf gh amqd qtmyydsuvsu fvgbmgvhsf jvgt qhbemud. gtd\n",
        "vzchegmsqd ha fgmlvsu bsvgdx tmf fgebqp m qthex mzhsu zmsl cdhcyd\n",
        "gtehbuthbg tvfghel.pddcvsu zdzhevdf ha jtmg jd tmod mqqhzcyvftdx\n",
        "gtehbuthbg tvfghel qms tdyc bf fdd thj vsxvovxbmyf msx qhzzbsvgvdf\n",
        "tmod cdefdodedx gtehbut ghbut gvzdf msx vsgh m ievutgde abgbed.\n",
        "\"\"\""
      ],
      "metadata": {
        "id": "mvSM8lbhF2I6"
      },
      "execution_count": 6,
      "outputs": []
    },
    {
      "cell_type": "markdown",
      "source": [
        "Initial mapping is empty and frequency analysis is shown below:"
      ],
      "metadata": {
        "id": "QRfmBM0ZHVyQ"
      }
    },
    {
      "cell_type": "code",
      "source": [
        "mapping = {}\n",
        "algo(ciphertext, mapping, words_per_line)\n",
        "freq_analyze(ciphertext)"
      ],
      "metadata": {
        "colab": {
          "base_uri": "https://localhost:8080/"
        },
        "id": "E1f7Ls-rHQ98",
        "outputId": "007fd34f-dc53-4666-8ff2-d96c912859aa"
      },
      "execution_count": 7,
      "outputs": [
        {
          "output_type": "stream",
          "name": "stdout",
          "text": [
            "Ciphertext:\n",
            "gtd bsvgl vf fgedsugt dffml dkcymvsf gtmg gtd chjde ha\n",
            "aevdsxftvc tdycf bf gh id fgehsu aehz tmexftvcf. aevdsxf qms\n",
            "uvod bf gtd fgedsugt jd sddx jtds yvad udgf ghbut.\n",
            "vs mxxvgvhs, cdhcyd dkcedff bsvgl gtehbut yhod,amzvyl, aevdsxf, msx hgtdef\n",
            "ftmed fghevdf ha avsxvsu qhzzhs uehbsx jvgt fhzdhsd.gtded med zmsl\n",
            "idsdavgf ha fgmlvsubsvgdx vs ghbut gvzdf, mf vg tdycf gh\n",
            "amqd qtmyydsuvsu fvgbmgvhsf jvgt qhbemud. gtd vzchegmsqd ha fgmlvsu bsvgdx\n",
            "tmf fgebqp m qthex mzhsu zmsl cdhcyd gtehbuthbg tvfghel.pddcvsu zdzhevdf\n",
            "ha jtmg jd tmod mqqhzcyvftdx gtehbuthbg tvfghel qms tdyc bf\n",
            "fdd thj vsxvovxbmyf msx qhzzbsvgvdf tmod cdefdodedx gtehbut ghbut gvzdf\n",
            "msx vsgh m ievutgde abgbed.\n",
            "\n",
            "Decrypted Text:\n",
            "*** ***** ** ******** ***** ******** **** *** ***** **\n",
            "********** ***** ** ** ** ****** **** *********. ******* ***\n",
            "**** ** *** ******** ** **** **** **** **** *****.\n",
            "** ********, ****** ******* ***** ******* ****,******, *******, *** ******\n",
            "***** ******* ** ******* ****** ****** **** *******.***** *** ****\n",
            "******** ** ************* ** ***** *****, ** ** ***** **\n",
            "**** *********** ********** **** *******. *** ********** ** ******* ******\n",
            "*** ****** * ***** ***** **** ****** ********** *******.******* ********\n",
            "** **** ** **** ************ ********** ******* *** **** **\n",
            "*** *** *********** *** *********** **** ********** ******* ***** *****\n",
            "*** **** * ******** ******.\n",
            "Character frequencies in the ciphertext (descending order):\n",
            "'d': 65\n",
            "'g': 50\n",
            "'v': 45\n",
            "'f': 43\n",
            "'h': 42\n",
            "'t': 41\n",
            "'s': 40\n",
            "'e': 32\n",
            "'m': 32\n",
            "'b': 24\n",
            "'u': 22\n",
            "'x': 19\n",
            "'c': 16\n",
            "'z': 16\n",
            "'a': 15\n",
            "'y': 13\n",
            "'q': 12\n",
            "'l': 10\n",
            "'j': 8\n",
            "'o': 6\n",
            "'i': 3\n",
            "'k': 2\n",
            "'p': 2\n"
          ]
        }
      ]
    },
    {
      "cell_type": "markdown",
      "source": [
        "The first word of 8th line is a one letter word and that is in the middle of the sentence. There are two one letter word **a** and **I**. So I replace **a** with **m** as it is the middle of the sentence. The mapping:\n",
        "\n",
        "**m : a**"
      ],
      "metadata": {
        "id": "1j2ptDJeISat"
      }
    },
    {
      "cell_type": "code",
      "source": [
        "mapping = {'m':'a'}\n",
        "algo(ciphertext, mapping, words_per_line)"
      ],
      "metadata": {
        "colab": {
          "base_uri": "https://localhost:8080/"
        },
        "id": "u1KJJvy_LSFU",
        "outputId": "deaeca80-d5b9-4235-baa4-d908798b51fc"
      },
      "execution_count": 8,
      "outputs": [
        {
          "output_type": "stream",
          "name": "stdout",
          "text": [
            "Ciphertext:\n",
            "gtd bsvgl vf fgedsugt dffml dkcymvsf gtmg gtd chjde ha\n",
            "aevdsxftvc tdycf bf gh id fgehsu aehz tmexftvcf. aevdsxf qms\n",
            "uvod bf gtd fgedsugt jd sddx jtds yvad udgf ghbut.\n",
            "vs mxxvgvhs, cdhcyd dkcedff bsvgl gtehbut yhod,amzvyl, aevdsxf, msx hgtdef\n",
            "ftmed fghevdf ha avsxvsu qhzzhs uehbsx jvgt fhzdhsd.gtded med zmsl\n",
            "idsdavgf ha fgmlvsubsvgdx vs ghbut gvzdf, mf vg tdycf gh\n",
            "amqd qtmyydsuvsu fvgbmgvhsf jvgt qhbemud. gtd vzchegmsqd ha fgmlvsu bsvgdx\n",
            "tmf fgebqp m qthex mzhsu zmsl cdhcyd gtehbuthbg tvfghel.pddcvsu zdzhevdf\n",
            "ha jtmg jd tmod mqqhzcyvftdx gtehbuthbg tvfghel qms tdyc bf\n",
            "fdd thj vsxvovxbmyf msx qhzzbsvgvdf tmod cdefdodedx gtehbut ghbut gvzdf\n",
            "msx vsgh m ievutgde abgbed.\n",
            "\n",
            "Decrypted Text:\n",
            "*** ***** ** ******** ***a* ****a*** **a* *** ***** **\n",
            "********** ***** ** ** ** ****** **** *a*******. ******* *a*\n",
            "**** ** *** ******** ** **** **** **** **** *****.\n",
            "** a*******, ****** ******* ***** ******* ****,*a****, *******, a** ******\n",
            "**a** ******* ** ******* ****** ****** **** *******.***** a** *a**\n",
            "******** ** **a********** ** ***** *****, a* ** ***** **\n",
            "*a** **a******** ****a***** **** ****a**. *** ******a*** ** **a**** ******\n",
            "*a* ****** a ***** a**** *a** ****** ********** *******.******* ********\n",
            "** **a* ** *a** a*********** ********** ******* *a* **** **\n",
            "*** *** ********a** a** *********** *a** ********** ******* ***** *****\n",
            "a** **** a ******** ******.\n"
          ]
        }
      ]
    },
    {
      "cell_type": "markdown",
      "source": [
        "There are many 3 letter word with **gtd** and for three later words **the** is the most frequent. So, I replace-\n",
        "\n",
        "**g : t**\n",
        "\n",
        "**t : h**\n",
        "\n",
        "**d : e**"
      ],
      "metadata": {
        "id": "-9FA0UgAMRh5"
      }
    },
    {
      "cell_type": "code",
      "source": [
        "mapping = {'m':'a','g':'t','t':'h','d':'e'}\n",
        "algo(ciphertext, mapping, words_per_line)"
      ],
      "metadata": {
        "colab": {
          "base_uri": "https://localhost:8080/"
        },
        "id": "29mdGg5ENWqE",
        "outputId": "0044f48f-dc24-4ec0-b5df-7a72b92933a6"
      },
      "execution_count": 9,
      "outputs": [
        {
          "output_type": "stream",
          "name": "stdout",
          "text": [
            "Ciphertext:\n",
            "gtd bsvgl vf fgedsugt dffml dkcymvsf gtmg gtd chjde ha\n",
            "aevdsxftvc tdycf bf gh id fgehsu aehz tmexftvcf. aevdsxf qms\n",
            "uvod bf gtd fgedsugt jd sddx jtds yvad udgf ghbut.\n",
            "vs mxxvgvhs, cdhcyd dkcedff bsvgl gtehbut yhod,amzvyl, aevdsxf, msx hgtdef\n",
            "ftmed fghevdf ha avsxvsu qhzzhs uehbsx jvgt fhzdhsd.gtded med zmsl\n",
            "idsdavgf ha fgmlvsubsvgdx vs ghbut gvzdf, mf vg tdycf gh\n",
            "amqd qtmyydsuvsu fvgbmgvhsf jvgt qhbemud. gtd vzchegmsqd ha fgmlvsu bsvgdx\n",
            "tmf fgebqp m qthex mzhsu zmsl cdhcyd gtehbuthbg tvfghel.pddcvsu zdzhevdf\n",
            "ha jtmg jd tmod mqqhzcyvftdx gtehbuthbg tvfghel qms tdyc bf\n",
            "fdd thj vsxvovxbmyf msx qhzzbsvgvdf tmod cdefdodedx gtehbut ghbut gvzdf\n",
            "msx vsgh m ievutgde abgbed.\n",
            "\n",
            "Decrypted Text:\n",
            "the ***t* ** *t*e**th e**a* e***a*** that the ***e* **\n",
            "***e***h** he*** ** t* *e *t**** **** ha***h***. ***e*** *a*\n",
            "***e ** the *t*e**th *e *ee* *he* ***e *et* t***h.\n",
            "** a***t***, *e***e e***e** ***t* th****h ***e,*a****, ***e***, a** *the**\n",
            "*ha*e *t***e* ** ******* ****** ****** **th ***e**e.the*e a*e *a**\n",
            "*e*e**t* ** *ta*******te* ** t***h t**e*, a* *t he*** t*\n",
            "*a*e *ha**e***** **t*at**** **th ****a*e. the *****ta**e ** *ta**** ***te*\n",
            "ha* *t**** a *h*** a**** *a** *e***e th****h**t h**t***.*ee**** *e****e*\n",
            "** *hat *e ha*e a********he* th****h**t h**t*** *a* he** **\n",
            "*ee h** ********a** a** *******t*e* ha*e *e**e*e*e* th****h t***h t**e*\n",
            "a** **t* a ****hte* **t**e.\n"
          ]
        }
      ]
    },
    {
      "cell_type": "markdown",
      "source": [
        "The 4th word of 2nd line would be **to**. So, mapping will be:\n",
        "\n",
        "**h : o**\n"
      ],
      "metadata": {
        "id": "aF4YPZVoOgNl"
      }
    },
    {
      "cell_type": "code",
      "source": [
        "mapping = {'m':'a','g':'t','t':'h','d':'e','h':'o'}\n",
        "algo(ciphertext, mapping, words_per_line)"
      ],
      "metadata": {
        "colab": {
          "base_uri": "https://localhost:8080/"
        },
        "id": "8oQnrHftP2Lu",
        "outputId": "a60b3491-8f22-4c61-9ef1-35ec84621975"
      },
      "execution_count": 10,
      "outputs": [
        {
          "output_type": "stream",
          "name": "stdout",
          "text": [
            "Ciphertext:\n",
            "gtd bsvgl vf fgedsugt dffml dkcymvsf gtmg gtd chjde ha\n",
            "aevdsxftvc tdycf bf gh id fgehsu aehz tmexftvcf. aevdsxf qms\n",
            "uvod bf gtd fgedsugt jd sddx jtds yvad udgf ghbut.\n",
            "vs mxxvgvhs, cdhcyd dkcedff bsvgl gtehbut yhod,amzvyl, aevdsxf, msx hgtdef\n",
            "ftmed fghevdf ha avsxvsu qhzzhs uehbsx jvgt fhzdhsd.gtded med zmsl\n",
            "idsdavgf ha fgmlvsubsvgdx vs ghbut gvzdf, mf vg tdycf gh\n",
            "amqd qtmyydsuvsu fvgbmgvhsf jvgt qhbemud. gtd vzchegmsqd ha fgmlvsu bsvgdx\n",
            "tmf fgebqp m qthex mzhsu zmsl cdhcyd gtehbuthbg tvfghel.pddcvsu zdzhevdf\n",
            "ha jtmg jd tmod mqqhzcyvftdx gtehbuthbg tvfghel qms tdyc bf\n",
            "fdd thj vsxvovxbmyf msx qhzzbsvgvdf tmod cdefdodedx gtehbut ghbut gvzdf\n",
            "msx vsgh m ievutgde abgbed.\n",
            "\n",
            "Decrypted Text:\n",
            "the ***t* ** *t*e**th e**a* e***a*** that the *o*e* o*\n",
            "***e***h** he*** ** to *e *t*o** **o* ha***h***. ***e*** *a*\n",
            "***e ** the *t*e**th *e *ee* *he* ***e *et* to**h.\n",
            "** a***t*o*, *eo**e e***e** ***t* th*o**h *o*e,*a****, ***e***, a** othe**\n",
            "*ha*e *to**e* o* ******* *o**o* **o*** **th *o*eo*e.the*e a*e *a**\n",
            "*e*e**t* o* *ta*******te* ** to**h t**e*, a* *t he*** to\n",
            "*a*e *ha**e***** **t*at*o** **th *o**a*e. the ***o*ta**e o* *ta**** ***te*\n",
            "ha* *t**** a *ho** a*o** *a** *eo**e th*o**ho*t h**to**.*ee**** *e*o**e*\n",
            "o* *hat *e ha*e a**o*****he* th*o**ho*t h**to** *a* he** **\n",
            "*ee ho* ********a** a** *o*****t*e* ha*e *e**e*e*e* th*o**h to**h t**e*\n",
            "a** **to a ****hte* **t**e.\n"
          ]
        }
      ]
    },
    {
      "cell_type": "markdown",
      "source": [
        "In the 3rd word of 2nd last line the word **ha*e**  may be **hate** or **have**. From the frequency for four word **have** is more frequent. So, mapping:\n",
        "**o : v**\n"
      ],
      "metadata": {
        "id": "wZg0U-XTQIU3"
      }
    },
    {
      "cell_type": "code",
      "source": [
        "mapping = {'m':'a','g':'t','t':'h','d':'e','h':'o','o':'v'}\n",
        "algo(ciphertext, mapping, words_per_line)"
      ],
      "metadata": {
        "colab": {
          "base_uri": "https://localhost:8080/"
        },
        "id": "bWd8UzBzRaYI",
        "outputId": "f306003d-71c0-4801-ce76-9a29bdd750b6"
      },
      "execution_count": 11,
      "outputs": [
        {
          "output_type": "stream",
          "name": "stdout",
          "text": [
            "Ciphertext:\n",
            "gtd bsvgl vf fgedsugt dffml dkcymvsf gtmg gtd chjde ha\n",
            "aevdsxftvc tdycf bf gh id fgehsu aehz tmexftvcf. aevdsxf qms\n",
            "uvod bf gtd fgedsugt jd sddx jtds yvad udgf ghbut.\n",
            "vs mxxvgvhs, cdhcyd dkcedff bsvgl gtehbut yhod,amzvyl, aevdsxf, msx hgtdef\n",
            "ftmed fghevdf ha avsxvsu qhzzhs uehbsx jvgt fhzdhsd.gtded med zmsl\n",
            "idsdavgf ha fgmlvsubsvgdx vs ghbut gvzdf, mf vg tdycf gh\n",
            "amqd qtmyydsuvsu fvgbmgvhsf jvgt qhbemud. gtd vzchegmsqd ha fgmlvsu bsvgdx\n",
            "tmf fgebqp m qthex mzhsu zmsl cdhcyd gtehbuthbg tvfghel.pddcvsu zdzhevdf\n",
            "ha jtmg jd tmod mqqhzcyvftdx gtehbuthbg tvfghel qms tdyc bf\n",
            "fdd thj vsxvovxbmyf msx qhzzbsvgvdf tmod cdefdodedx gtehbut ghbut gvzdf\n",
            "msx vsgh m ievutgde abgbed.\n",
            "\n",
            "Decrypted Text:\n",
            "the ***t* ** *t*e**th e**a* e***a*** that the *o*e* o*\n",
            "***e***h** he*** ** to *e *t*o** **o* ha***h***. ***e*** *a*\n",
            "**ve ** the *t*e**th *e *ee* *he* ***e *et* to**h.\n",
            "** a***t*o*, *eo**e e***e** ***t* th*o**h *ove,*a****, ***e***, a** othe**\n",
            "*ha*e *to**e* o* ******* *o**o* **o*** **th *o*eo*e.the*e a*e *a**\n",
            "*e*e**t* o* *ta*******te* ** to**h t**e*, a* *t he*** to\n",
            "*a*e *ha**e***** **t*at*o** **th *o**a*e. the ***o*ta**e o* *ta**** ***te*\n",
            "ha* *t**** a *ho** a*o** *a** *eo**e th*o**ho*t h**to**.*ee**** *e*o**e*\n",
            "o* *hat *e have a**o*****he* th*o**ho*t h**to** *a* he** **\n",
            "*ee ho* ****v***a** a** *o*****t*e* have *e**eve*e* th*o**h to**h t**e*\n",
            "a** **to a ****hte* **t**e.\n"
          ]
        }
      ]
    },
    {
      "cell_type": "markdown",
      "source": [
        "The 8th word of 5th line ( **a*e**) can be **are** as it is the most frequent three letter sentence. So, the mapping:\n",
        "\n",
        "**e : r**"
      ],
      "metadata": {
        "id": "gOCh03KmPD4F"
      }
    },
    {
      "cell_type": "code",
      "source": [
        "mapping = {'m':'a','g':'t','t':'h','d':'e','h':'o',\n",
        "            'o':'v','e':'r'}\n",
        "algo(ciphertext, mapping, words_per_line)"
      ],
      "metadata": {
        "colab": {
          "base_uri": "https://localhost:8080/"
        },
        "id": "zRGVZXjlP67f",
        "outputId": "6d7c08e2-4817-47be-bf4f-f3d4d9e12753"
      },
      "execution_count": 12,
      "outputs": [
        {
          "output_type": "stream",
          "name": "stdout",
          "text": [
            "Ciphertext:\n",
            "gtd bsvgl vf fgedsugt dffml dkcymvsf gtmg gtd chjde ha\n",
            "aevdsxftvc tdycf bf gh id fgehsu aehz tmexftvcf. aevdsxf qms\n",
            "uvod bf gtd fgedsugt jd sddx jtds yvad udgf ghbut.\n",
            "vs mxxvgvhs, cdhcyd dkcedff bsvgl gtehbut yhod,amzvyl, aevdsxf, msx hgtdef\n",
            "ftmed fghevdf ha avsxvsu qhzzhs uehbsx jvgt fhzdhsd.gtded med zmsl\n",
            "idsdavgf ha fgmlvsubsvgdx vs ghbut gvzdf, mf vg tdycf gh\n",
            "amqd qtmyydsuvsu fvgbmgvhsf jvgt qhbemud. gtd vzchegmsqd ha fgmlvsu bsvgdx\n",
            "tmf fgebqp m qthex mzhsu zmsl cdhcyd gtehbuthbg tvfghel.pddcvsu zdzhevdf\n",
            "ha jtmg jd tmod mqqhzcyvftdx gtehbuthbg tvfghel qms tdyc bf\n",
            "fdd thj vsxvovxbmyf msx qhzzbsvgvdf tmod cdefdodedx gtehbut ghbut gvzdf\n",
            "msx vsgh m ievutgde abgbed.\n",
            "\n",
            "Decrypted Text:\n",
            "the ***t* ** *tre**th e**a* e***a*** that the *o*er o*\n",
            "*r*e***h** he*** ** to *e *tro** *ro* har**h***. *r*e*** *a*\n",
            "**ve ** the *tre**th *e *ee* *he* ***e *et* to**h.\n",
            "** a***t*o*, *eo**e e**re** ***t* thro**h *ove,*a****, *r*e***, a** other*\n",
            "*hare *tor*e* o* ******* *o**o* *ro*** **th *o*eo*e.there are *a**\n",
            "*e*e**t* o* *ta*******te* ** to**h t**e*, a* *t he*** to\n",
            "*a*e *ha**e***** **t*at*o** **th *o*ra*e. the ***orta**e o* *ta**** ***te*\n",
            "ha* *tr*** a *hor* a*o** *a** *eo**e thro**ho*t h**tor*.*ee**** *e*or*e*\n",
            "o* *hat *e have a**o*****he* thro**ho*t h**tor* *a* he** **\n",
            "*ee ho* ****v***a** a** *o*****t*e* have *er*evere* thro**h to**h t**e*\n",
            "a** **to a *r**hter **t*re.\n"
          ]
        }
      ]
    },
    {
      "cell_type": "markdown",
      "source": [
        "The 5th word of 4th line (thro** h) could be nothing except **through**. So, the mapping:\n",
        "\n",
        "**b:u**\n",
        "\n",
        "**u:g**"
      ],
      "metadata": {
        "id": "yBnMEC0EQKzq"
      }
    },
    {
      "cell_type": "code",
      "source": [
        "mapping = {'m':'a','g':'t','t':'h','d':'e','h':'o',\n",
        "           'o':'v','e':'r','b':'u','u':'g'}\n",
        "algo(ciphertext, mapping, words_per_line)"
      ],
      "metadata": {
        "colab": {
          "base_uri": "https://localhost:8080/"
        },
        "id": "enkcX56xRt56",
        "outputId": "55092e97-3c1d-4326-feca-25c33b398bfb"
      },
      "execution_count": 13,
      "outputs": [
        {
          "output_type": "stream",
          "name": "stdout",
          "text": [
            "Ciphertext:\n",
            "gtd bsvgl vf fgedsugt dffml dkcymvsf gtmg gtd chjde ha\n",
            "aevdsxftvc tdycf bf gh id fgehsu aehz tmexftvcf. aevdsxf qms\n",
            "uvod bf gtd fgedsugt jd sddx jtds yvad udgf ghbut.\n",
            "vs mxxvgvhs, cdhcyd dkcedff bsvgl gtehbut yhod,amzvyl, aevdsxf, msx hgtdef\n",
            "ftmed fghevdf ha avsxvsu qhzzhs uehbsx jvgt fhzdhsd.gtded med zmsl\n",
            "idsdavgf ha fgmlvsubsvgdx vs ghbut gvzdf, mf vg tdycf gh\n",
            "amqd qtmyydsuvsu fvgbmgvhsf jvgt qhbemud. gtd vzchegmsqd ha fgmlvsu bsvgdx\n",
            "tmf fgebqp m qthex mzhsu zmsl cdhcyd gtehbuthbg tvfghel.pddcvsu zdzhevdf\n",
            "ha jtmg jd tmod mqqhzcyvftdx gtehbuthbg tvfghel qms tdyc bf\n",
            "fdd thj vsxvovxbmyf msx qhzzbsvgvdf tmod cdefdodedx gtehbut ghbut gvzdf\n",
            "msx vsgh m ievutgde abgbed.\n",
            "\n",
            "Decrypted Text:\n",
            "the u**t* ** *tre*gth e**a* e***a*** that the *o*er o*\n",
            "*r*e***h** he*** u* to *e *tro*g *ro* har**h***. *r*e*** *a*\n",
            "g*ve u* the *tre*gth *e *ee* *he* ***e get* tough.\n",
            "** a***t*o*, *eo**e e**re** u**t* through *ove,*a****, *r*e***, a** other*\n",
            "*hare *tor*e* o* ******g *o**o* grou** **th *o*eo*e.there are *a**\n",
            "*e*e**t* o* *ta***gu**te* ** tough t**e*, a* *t he*** to\n",
            "*a*e *ha**e*g**g **tuat*o** **th *ourage. the ***orta**e o* *ta***g u**te*\n",
            "ha* *tru** a *hor* a*o*g *a** *eo**e throughout h**tor*.*ee***g *e*or*e*\n",
            "o* *hat *e have a**o*****he* throughout h**tor* *a* he** u*\n",
            "*ee ho* ****v**ua** a** *o**u**t*e* have *er*evere* through tough t**e*\n",
            "a** **to a *r*ghter *uture.\n"
          ]
        }
      ]
    },
    {
      "cell_type": "markdown",
      "source": [
        "The 3rd word of 1st ine (* tre * gth) would be nothing except **strength**. The mapping:\n",
        "\n",
        "**f:s**\n",
        "\n",
        "**s:n**"
      ],
      "metadata": {
        "id": "7BKBCRbBR6vX"
      }
    },
    {
      "cell_type": "code",
      "source": [
        "mapping = {'m':'a','g':'t','t':'h','d':'e','h':'o','o':'v',\n",
        "  'e':'r','b':'u','u':'g','f':'s','s':'n'}\n",
        "algo(ciphertext, mapping, words_per_line)"
      ],
      "metadata": {
        "colab": {
          "base_uri": "https://localhost:8080/"
        },
        "id": "2YCpt8R2SZOb",
        "outputId": "60a6fa63-d55c-4dd1-b628-c33b88ae60ad"
      },
      "execution_count": 14,
      "outputs": [
        {
          "output_type": "stream",
          "name": "stdout",
          "text": [
            "Ciphertext:\n",
            "gtd bsvgl vf fgedsugt dffml dkcymvsf gtmg gtd chjde ha\n",
            "aevdsxftvc tdycf bf gh id fgehsu aehz tmexftvcf. aevdsxf qms\n",
            "uvod bf gtd fgedsugt jd sddx jtds yvad udgf ghbut.\n",
            "vs mxxvgvhs, cdhcyd dkcedff bsvgl gtehbut yhod,amzvyl, aevdsxf, msx hgtdef\n",
            "ftmed fghevdf ha avsxvsu qhzzhs uehbsx jvgt fhzdhsd.gtded med zmsl\n",
            "idsdavgf ha fgmlvsubsvgdx vs ghbut gvzdf, mf vg tdycf gh\n",
            "amqd qtmyydsuvsu fvgbmgvhsf jvgt qhbemud. gtd vzchegmsqd ha fgmlvsu bsvgdx\n",
            "tmf fgebqp m qthex mzhsu zmsl cdhcyd gtehbuthbg tvfghel.pddcvsu zdzhevdf\n",
            "ha jtmg jd tmod mqqhzcyvftdx gtehbuthbg tvfghel qms tdyc bf\n",
            "fdd thj vsxvovxbmyf msx qhzzbsvgvdf tmod cdefdodedx gtehbut ghbut gvzdf\n",
            "msx vsgh m ievutgde abgbed.\n",
            "\n",
            "Decrypted Text:\n",
            "the un*t* *s strength essa* e***a*ns that the *o*er o*\n",
            "*r*en*sh** he**s us to *e strong *ro* har*sh**s. *r*en*s *an\n",
            "g*ve us the strength *e nee* *hen ***e gets tough.\n",
            "*n a***t*on, *eo**e e**ress un*t* through *ove,*a****, *r*en*s, an* others\n",
            "share stor*es o* **n**ng *o**on groun* **th so*eone.there are *an*\n",
            "*ene**ts o* sta**ngun*te* *n tough t**es, as *t he**s to\n",
            "*a*e *ha**eng*ng s*tuat*ons **th *ourage. the ***ortan*e o* sta**ng un*te*\n",
            "has stru** a *hor* a*ong *an* *eo**e throughout h*stor*.*ee**ng *e*or*es\n",
            "o* *hat *e have a**o****she* throughout h*stor* *an he** us\n",
            "see ho* *n**v**ua*s an* *o**un*t*es have *ersevere* through tough t**es\n",
            "an* *nto a *r*ghter *uture.\n"
          ]
        }
      ]
    },
    {
      "cell_type": "markdown",
      "source": [
        "For the word '*s'  the most frequent two  word is 'is'. The mapping:\n",
        "\n",
        "**v : i**\n"
      ],
      "metadata": {
        "id": "M75SrHXJTGRf"
      }
    },
    {
      "cell_type": "code",
      "source": [
        "mapping = {'m':'a','g':'t','t':'h','d':'e','h':'o','o':'v',\n",
        "           'e':'r','b':'u','u':'g','f':'s','s':'n','v':'i'}\n",
        "algo(ciphertext, mapping, words_per_line)"
      ],
      "metadata": {
        "colab": {
          "base_uri": "https://localhost:8080/"
        },
        "id": "TYGIczDlTj6w",
        "outputId": "102d68d0-f742-409c-81aa-e6103a68a49b"
      },
      "execution_count": 15,
      "outputs": [
        {
          "output_type": "stream",
          "name": "stdout",
          "text": [
            "Ciphertext:\n",
            "gtd bsvgl vf fgedsugt dffml dkcymvsf gtmg gtd chjde ha\n",
            "aevdsxftvc tdycf bf gh id fgehsu aehz tmexftvcf. aevdsxf qms\n",
            "uvod bf gtd fgedsugt jd sddx jtds yvad udgf ghbut.\n",
            "vs mxxvgvhs, cdhcyd dkcedff bsvgl gtehbut yhod,amzvyl, aevdsxf, msx hgtdef\n",
            "ftmed fghevdf ha avsxvsu qhzzhs uehbsx jvgt fhzdhsd.gtded med zmsl\n",
            "idsdavgf ha fgmlvsubsvgdx vs ghbut gvzdf, mf vg tdycf gh\n",
            "amqd qtmyydsuvsu fvgbmgvhsf jvgt qhbemud. gtd vzchegmsqd ha fgmlvsu bsvgdx\n",
            "tmf fgebqp m qthex mzhsu zmsl cdhcyd gtehbuthbg tvfghel.pddcvsu zdzhevdf\n",
            "ha jtmg jd tmod mqqhzcyvftdx gtehbuthbg tvfghel qms tdyc bf\n",
            "fdd thj vsxvovxbmyf msx qhzzbsvgvdf tmod cdefdodedx gtehbut ghbut gvzdf\n",
            "msx vsgh m ievutgde abgbed.\n",
            "\n",
            "Decrypted Text:\n",
            "the unit* is strength essa* e***ains that the *o*er o*\n",
            "*rien*shi* he**s us to *e strong *ro* har*shi*s. *rien*s *an\n",
            "give us the strength *e nee* *hen *i*e gets tough.\n",
            "in a**ition, *eo**e e**ress unit* through *ove,*a*i**, *rien*s, an* others\n",
            "share stories o* *in*ing *o**on groun* *ith so*eone.there are *an*\n",
            "*ene*its o* sta*ingunite* in tough ti*es, as it he**s to\n",
            "*a*e *ha**enging situations *ith *ourage. the i**ortan*e o* sta*ing unite*\n",
            "has stru** a *hor* a*ong *an* *eo**e throughout histor*.*ee*ing *e*ories\n",
            "o* *hat *e have a**o***ishe* throughout histor* *an he** us\n",
            "see ho* in*ivi*ua*s an* *o**unities have *ersevere* through tough ti*es\n",
            "an* into a *righter *uture.\n"
          ]
        }
      ]
    },
    {
      "cell_type": "markdown",
      "source": [
        "The 2nd word of first line (unit*) would be 'unity'. The mapping:\n",
        "\n",
        "**l : y**"
      ],
      "metadata": {
        "id": "mqOVs564TxJm"
      }
    },
    {
      "cell_type": "code",
      "source": [
        "mapping = {'m':'a','g':'t','t':'h','d':'e','h':'o','o':'v',\n",
        "           'e':'r','b':'u','u':'g','f':'s','s':'n','v':'i','l':'y'}\n",
        "algo(ciphertext, mapping, words_per_line)"
      ],
      "metadata": {
        "colab": {
          "base_uri": "https://localhost:8080/"
        },
        "id": "_j0td2ChUAKi",
        "outputId": "51b96304-f47d-447a-9751-1d647c045fa8"
      },
      "execution_count": 16,
      "outputs": [
        {
          "output_type": "stream",
          "name": "stdout",
          "text": [
            "Ciphertext:\n",
            "gtd bsvgl vf fgedsugt dffml dkcymvsf gtmg gtd chjde ha\n",
            "aevdsxftvc tdycf bf gh id fgehsu aehz tmexftvcf. aevdsxf qms\n",
            "uvod bf gtd fgedsugt jd sddx jtds yvad udgf ghbut.\n",
            "vs mxxvgvhs, cdhcyd dkcedff bsvgl gtehbut yhod,amzvyl, aevdsxf, msx hgtdef\n",
            "ftmed fghevdf ha avsxvsu qhzzhs uehbsx jvgt fhzdhsd.gtded med zmsl\n",
            "idsdavgf ha fgmlvsubsvgdx vs ghbut gvzdf, mf vg tdycf gh\n",
            "amqd qtmyydsuvsu fvgbmgvhsf jvgt qhbemud. gtd vzchegmsqd ha fgmlvsu bsvgdx\n",
            "tmf fgebqp m qthex mzhsu zmsl cdhcyd gtehbuthbg tvfghel.pddcvsu zdzhevdf\n",
            "ha jtmg jd tmod mqqhzcyvftdx gtehbuthbg tvfghel qms tdyc bf\n",
            "fdd thj vsxvovxbmyf msx qhzzbsvgvdf tmod cdefdodedx gtehbut ghbut gvzdf\n",
            "msx vsgh m ievutgde abgbed.\n",
            "\n",
            "Decrypted Text:\n",
            "the unity is strength essay e***ains that the *o*er o*\n",
            "*rien*shi* he**s us to *e strong *ro* har*shi*s. *rien*s *an\n",
            "give us the strength *e nee* *hen *i*e gets tough.\n",
            "in a**ition, *eo**e e**ress unity through *ove,*a*i*y, *rien*s, an* others\n",
            "share stories o* *in*ing *o**on groun* *ith so*eone.there are *any\n",
            "*ene*its o* stayingunite* in tough ti*es, as it he**s to\n",
            "*a*e *ha**enging situations *ith *ourage. the i**ortan*e o* staying unite*\n",
            "has stru** a *hor* a*ong *any *eo**e throughout history.*ee*ing *e*ories\n",
            "o* *hat *e have a**o***ishe* throughout history *an he** us\n",
            "see ho* in*ivi*ua*s an* *o**unities have *ersevere* through tough ti*es\n",
            "an* into a *righter *uture.\n"
          ]
        }
      ]
    },
    {
      "cell_type": "markdown",
      "source": [
        "The very last word of the text (*uture) would be 'future'. The mapping:\n",
        "\n",
        "**a : f**"
      ],
      "metadata": {
        "id": "r4M7_Kv-Uzv8"
      }
    },
    {
      "cell_type": "code",
      "source": [
        "mapping = {'m':'a','g':'t','t':'h','d':'e','h':'o','o':'v',\n",
        "           'e':'r','b':'u','u':'g','f':'s','s':'n','v':'i',\n",
        "           'l':'y','a':'f'}\n",
        "algo(ciphertext, mapping, words_per_line)"
      ],
      "metadata": {
        "colab": {
          "base_uri": "https://localhost:8080/"
        },
        "id": "gneoRvjMVALX",
        "outputId": "b224f6d6-465d-4116-8793-4011631ec017"
      },
      "execution_count": 17,
      "outputs": [
        {
          "output_type": "stream",
          "name": "stdout",
          "text": [
            "Ciphertext:\n",
            "gtd bsvgl vf fgedsugt dffml dkcymvsf gtmg gtd chjde ha\n",
            "aevdsxftvc tdycf bf gh id fgehsu aehz tmexftvcf. aevdsxf qms\n",
            "uvod bf gtd fgedsugt jd sddx jtds yvad udgf ghbut.\n",
            "vs mxxvgvhs, cdhcyd dkcedff bsvgl gtehbut yhod,amzvyl, aevdsxf, msx hgtdef\n",
            "ftmed fghevdf ha avsxvsu qhzzhs uehbsx jvgt fhzdhsd.gtded med zmsl\n",
            "idsdavgf ha fgmlvsubsvgdx vs ghbut gvzdf, mf vg tdycf gh\n",
            "amqd qtmyydsuvsu fvgbmgvhsf jvgt qhbemud. gtd vzchegmsqd ha fgmlvsu bsvgdx\n",
            "tmf fgebqp m qthex mzhsu zmsl cdhcyd gtehbuthbg tvfghel.pddcvsu zdzhevdf\n",
            "ha jtmg jd tmod mqqhzcyvftdx gtehbuthbg tvfghel qms tdyc bf\n",
            "fdd thj vsxvovxbmyf msx qhzzbsvgvdf tmod cdefdodedx gtehbut ghbut gvzdf\n",
            "msx vsgh m ievutgde abgbed.\n",
            "\n",
            "Decrypted Text:\n",
            "the unity is strength essay e***ains that the *o*er of\n",
            "frien*shi* he**s us to *e strong fro* har*shi*s. frien*s *an\n",
            "give us the strength *e nee* *hen *ife gets tough.\n",
            "in a**ition, *eo**e e**ress unity through *ove,fa*i*y, frien*s, an* others\n",
            "share stories of fin*ing *o**on groun* *ith so*eone.there are *any\n",
            "*enefits of stayingunite* in tough ti*es, as it he**s to\n",
            "fa*e *ha**enging situations *ith *ourage. the i**ortan*e of staying unite*\n",
            "has stru** a *hor* a*ong *any *eo**e throughout history.*ee*ing *e*ories\n",
            "of *hat *e have a**o***ishe* throughout history *an he** us\n",
            "see ho* in*ivi*ua*s an* *o**unities have *ersevere* through tough ti*es\n",
            "an* into a *righter future.\n"
          ]
        }
      ]
    },
    {
      "cell_type": "markdown",
      "source": [
        "In the 2nd line the phrase  'to *e strong'  would be  'to be strong' . The mapping:\n",
        "\n",
        "**i : b**\n",
        "\n"
      ],
      "metadata": {
        "id": "VXvy_YezVI3n"
      }
    },
    {
      "cell_type": "code",
      "source": [
        "mapping = {'m':'a','g':'t','t':'h','d':'e','h':'o','o':'v',\n",
        "           'e':'r','b':'u','u':'g','f':'s','s':'n','v':'i',\n",
        "           'l':'y','a':'f','i':'b'}\n",
        "algo(ciphertext, mapping, words_per_line)"
      ],
      "metadata": {
        "colab": {
          "base_uri": "https://localhost:8080/"
        },
        "id": "_o90SmvqVkxy",
        "outputId": "d2bb067c-9d4b-43e7-c179-b02cf70e37a4"
      },
      "execution_count": 18,
      "outputs": [
        {
          "output_type": "stream",
          "name": "stdout",
          "text": [
            "Ciphertext:\n",
            "gtd bsvgl vf fgedsugt dffml dkcymvsf gtmg gtd chjde ha\n",
            "aevdsxftvc tdycf bf gh id fgehsu aehz tmexftvcf. aevdsxf qms\n",
            "uvod bf gtd fgedsugt jd sddx jtds yvad udgf ghbut.\n",
            "vs mxxvgvhs, cdhcyd dkcedff bsvgl gtehbut yhod,amzvyl, aevdsxf, msx hgtdef\n",
            "ftmed fghevdf ha avsxvsu qhzzhs uehbsx jvgt fhzdhsd.gtded med zmsl\n",
            "idsdavgf ha fgmlvsubsvgdx vs ghbut gvzdf, mf vg tdycf gh\n",
            "amqd qtmyydsuvsu fvgbmgvhsf jvgt qhbemud. gtd vzchegmsqd ha fgmlvsu bsvgdx\n",
            "tmf fgebqp m qthex mzhsu zmsl cdhcyd gtehbuthbg tvfghel.pddcvsu zdzhevdf\n",
            "ha jtmg jd tmod mqqhzcyvftdx gtehbuthbg tvfghel qms tdyc bf\n",
            "fdd thj vsxvovxbmyf msx qhzzbsvgvdf tmod cdefdodedx gtehbut ghbut gvzdf\n",
            "msx vsgh m ievutgde abgbed.\n",
            "\n",
            "Decrypted Text:\n",
            "the unity is strength essay e***ains that the *o*er of\n",
            "frien*shi* he**s us to be strong fro* har*shi*s. frien*s *an\n",
            "give us the strength *e nee* *hen *ife gets tough.\n",
            "in a**ition, *eo**e e**ress unity through *ove,fa*i*y, frien*s, an* others\n",
            "share stories of fin*ing *o**on groun* *ith so*eone.there are *any\n",
            "benefits of stayingunite* in tough ti*es, as it he**s to\n",
            "fa*e *ha**enging situations *ith *ourage. the i**ortan*e of staying unite*\n",
            "has stru** a *hor* a*ong *any *eo**e throughout history.*ee*ing *e*ories\n",
            "of *hat *e have a**o***ishe* throughout history *an he** us\n",
            "see ho* in*ivi*ua*s an* *o**unities have *ersevere* through tough ti*es\n",
            "an* into a brighter future.\n"
          ]
        }
      ]
    },
    {
      "cell_type": "markdown",
      "source": [
        "The 7th word of 4rd line(*ife) would be life. The mapping:\n",
        "\n",
        "**y : l**\n",
        "\n"
      ],
      "metadata": {
        "id": "8BM_Dk79WDj7"
      }
    },
    {
      "cell_type": "code",
      "source": [
        "mapping = {'m':'a','g':'t','t':'h','d':'e','h':'o','o':'v',\n",
        "           'e':'r','b':'u','u':'g','f':'s','s':'n','v':'i','l':'y',\n",
        "           'a':'f','i':'b','y':'l'}\n",
        "algo(ciphertext, mapping, words_per_line)\n",
        "freq_analyze(ciphertext)"
      ],
      "metadata": {
        "colab": {
          "base_uri": "https://localhost:8080/"
        },
        "id": "FO1pPQQ8WZiI",
        "outputId": "333186b0-49fa-4915-9cb3-e601be1cd01d"
      },
      "execution_count": 19,
      "outputs": [
        {
          "output_type": "stream",
          "name": "stdout",
          "text": [
            "Ciphertext:\n",
            "gtd bsvgl vf fgedsugt dffml dkcymvsf gtmg gtd chjde ha\n",
            "aevdsxftvc tdycf bf gh id fgehsu aehz tmexftvcf. aevdsxf qms\n",
            "uvod bf gtd fgedsugt jd sddx jtds yvad udgf ghbut.\n",
            "vs mxxvgvhs, cdhcyd dkcedff bsvgl gtehbut yhod,amzvyl, aevdsxf, msx hgtdef\n",
            "ftmed fghevdf ha avsxvsu qhzzhs uehbsx jvgt fhzdhsd.gtded med zmsl\n",
            "idsdavgf ha fgmlvsubsvgdx vs ghbut gvzdf, mf vg tdycf gh\n",
            "amqd qtmyydsuvsu fvgbmgvhsf jvgt qhbemud. gtd vzchegmsqd ha fgmlvsu bsvgdx\n",
            "tmf fgebqp m qthex mzhsu zmsl cdhcyd gtehbuthbg tvfghel.pddcvsu zdzhevdf\n",
            "ha jtmg jd tmod mqqhzcyvftdx gtehbuthbg tvfghel qms tdyc bf\n",
            "fdd thj vsxvovxbmyf msx qhzzbsvgvdf tmod cdefdodedx gtehbut ghbut gvzdf\n",
            "msx vsgh m ievutgde abgbed.\n",
            "\n",
            "Decrypted Text:\n",
            "the unity is strength essay e**lains that the *o*er of\n",
            "frien*shi* hel*s us to be strong fro* har*shi*s. frien*s *an\n",
            "give us the strength *e nee* *hen life gets tough.\n",
            "in a**ition, *eo*le e**ress unity through love,fa*ily, frien*s, an* others\n",
            "share stories of fin*ing *o**on groun* *ith so*eone.there are *any\n",
            "benefits of stayingunite* in tough ti*es, as it hel*s to\n",
            "fa*e *hallenging situations *ith *ourage. the i**ortan*e of staying unite*\n",
            "has stru** a *hor* a*ong *any *eo*le throughout history.*ee*ing *e*ories\n",
            "of *hat *e have a**o**lishe* throughout history *an hel* us\n",
            "see ho* in*ivi*uals an* *o**unities have *ersevere* through tough ti*es\n",
            "an* into a brighter future.\n",
            "Character frequencies in the ciphertext (descending order):\n",
            "'d': 65\n",
            "'g': 50\n",
            "'v': 45\n",
            "'f': 43\n",
            "'h': 42\n",
            "'t': 41\n",
            "'s': 40\n",
            "'e': 32\n",
            "'m': 32\n",
            "'b': 24\n",
            "'u': 22\n",
            "'x': 19\n",
            "'c': 16\n",
            "'z': 16\n",
            "'a': 15\n",
            "'y': 13\n",
            "'q': 12\n",
            "'l': 10\n",
            "'j': 8\n",
            "'o': 6\n",
            "'i': 3\n",
            "'k': 2\n",
            "'p': 2\n"
          ]
        }
      ]
    },
    {
      "cell_type": "markdown",
      "source": [
        "The 5th word of 5th line (groun*) would be nothing but 'ground'. The mapping:\n",
        "\n",
        "**x : d**"
      ],
      "metadata": {
        "id": "QnM6D_4_XQS1"
      }
    },
    {
      "cell_type": "code",
      "source": [
        "mapping = {'m':'a','g':'t','t':'h','d':'e','h':'o','o':'v','e':'r',\n",
        "           'b':'u','u':'g','f':'s','s':'n','v':'i','l':'y','a':'f',\n",
        "           'i':'b','y':'l','x':'d'}\n",
        "algo(ciphertext, mapping, words_per_line)"
      ],
      "metadata": {
        "colab": {
          "base_uri": "https://localhost:8080/"
        },
        "id": "QBhHgk1pXfFN",
        "outputId": "ac2584e0-e75d-4c5a-f09e-7b3a9320f499"
      },
      "execution_count": 20,
      "outputs": [
        {
          "output_type": "stream",
          "name": "stdout",
          "text": [
            "Ciphertext:\n",
            "gtd bsvgl vf fgedsugt dffml dkcymvsf gtmg gtd chjde ha\n",
            "aevdsxftvc tdycf bf gh id fgehsu aehz tmexftvcf. aevdsxf qms\n",
            "uvod bf gtd fgedsugt jd sddx jtds yvad udgf ghbut.\n",
            "vs mxxvgvhs, cdhcyd dkcedff bsvgl gtehbut yhod,amzvyl, aevdsxf, msx hgtdef\n",
            "ftmed fghevdf ha avsxvsu qhzzhs uehbsx jvgt fhzdhsd.gtded med zmsl\n",
            "idsdavgf ha fgmlvsubsvgdx vs ghbut gvzdf, mf vg tdycf gh\n",
            "amqd qtmyydsuvsu fvgbmgvhsf jvgt qhbemud. gtd vzchegmsqd ha fgmlvsu bsvgdx\n",
            "tmf fgebqp m qthex mzhsu zmsl cdhcyd gtehbuthbg tvfghel.pddcvsu zdzhevdf\n",
            "ha jtmg jd tmod mqqhzcyvftdx gtehbuthbg tvfghel qms tdyc bf\n",
            "fdd thj vsxvovxbmyf msx qhzzbsvgvdf tmod cdefdodedx gtehbut ghbut gvzdf\n",
            "msx vsgh m ievutgde abgbed.\n",
            "\n",
            "Decrypted Text:\n",
            "the unity is strength essay e**lains that the *o*er of\n",
            "friendshi* hel*s us to be strong fro* hardshi*s. friends *an\n",
            "give us the strength *e need *hen life gets tough.\n",
            "in addition, *eo*le e**ress unity through love,fa*ily, friends, and others\n",
            "share stories of finding *o**on ground *ith so*eone.there are *any\n",
            "benefits of stayingunited in tough ti*es, as it hel*s to\n",
            "fa*e *hallenging situations *ith *ourage. the i**ortan*e of staying united\n",
            "has stru** a *hord a*ong *any *eo*le throughout history.*ee*ing *e*ories\n",
            "of *hat *e have a**o**lished throughout history *an hel* us\n",
            "see ho* individuals and *o**unities have *ersevered through tough ti*es\n",
            "and into a brighter future.\n"
          ]
        }
      ]
    },
    {
      "cell_type": "markdown",
      "source": [
        "The 1st word of 2nd line (friendshi*) would be friendship. The mapping:\n",
        "\n",
        "**c : p**"
      ],
      "metadata": {
        "id": "WRmvePgqXmK2"
      }
    },
    {
      "cell_type": "code",
      "source": [
        "mapping = {'m':'a','g':'t','t':'h','d':'e','h':'o','o':'v',\n",
        "           'e':'r','b':'u','u':'g','f':'s','s':'n','v':'i','l':'y',\n",
        "           'a':'f','i':'b','y':'l','x':'d','c':'p'}\n",
        "algo(ciphertext, mapping, words_per_line)"
      ],
      "metadata": {
        "colab": {
          "base_uri": "https://localhost:8080/"
        },
        "id": "aLdCq084XwZM",
        "outputId": "cf6584b4-c7f3-457d-d058-a966dad216ce"
      },
      "execution_count": 21,
      "outputs": [
        {
          "output_type": "stream",
          "name": "stdout",
          "text": [
            "Ciphertext:\n",
            "gtd bsvgl vf fgedsugt dffml dkcymvsf gtmg gtd chjde ha\n",
            "aevdsxftvc tdycf bf gh id fgehsu aehz tmexftvcf. aevdsxf qms\n",
            "uvod bf gtd fgedsugt jd sddx jtds yvad udgf ghbut.\n",
            "vs mxxvgvhs, cdhcyd dkcedff bsvgl gtehbut yhod,amzvyl, aevdsxf, msx hgtdef\n",
            "ftmed fghevdf ha avsxvsu qhzzhs uehbsx jvgt fhzdhsd.gtded med zmsl\n",
            "idsdavgf ha fgmlvsubsvgdx vs ghbut gvzdf, mf vg tdycf gh\n",
            "amqd qtmyydsuvsu fvgbmgvhsf jvgt qhbemud. gtd vzchegmsqd ha fgmlvsu bsvgdx\n",
            "tmf fgebqp m qthex mzhsu zmsl cdhcyd gtehbuthbg tvfghel.pddcvsu zdzhevdf\n",
            "ha jtmg jd tmod mqqhzcyvftdx gtehbuthbg tvfghel qms tdyc bf\n",
            "fdd thj vsxvovxbmyf msx qhzzbsvgvdf tmod cdefdodedx gtehbut ghbut gvzdf\n",
            "msx vsgh m ievutgde abgbed.\n",
            "\n",
            "Decrypted Text:\n",
            "the unity is strength essay e*plains that the po*er of\n",
            "friendship helps us to be strong fro* hardships. friends *an\n",
            "give us the strength *e need *hen life gets tough.\n",
            "in addition, people e*press unity through love,fa*ily, friends, and others\n",
            "share stories of finding *o**on ground *ith so*eone.there are *any\n",
            "benefits of stayingunited in tough ti*es, as it helps to\n",
            "fa*e *hallenging situations *ith *ourage. the i*portan*e of staying united\n",
            "has stru** a *hord a*ong *any people throughout history.*eeping *e*ories\n",
            "of *hat *e have a**o*plished throughout history *an help us\n",
            "see ho* individuals and *o**unities have persevered through tough ti*es\n",
            "and into a brighter future.\n"
          ]
        }
      ]
    },
    {
      "cell_type": "markdown",
      "source": [
        "The word 'e * plains' and 'po * er' in the first line would be 'explains' and 'power' respectively. The mapping:  \n",
        "\n",
        "**k : x**\n",
        "\n",
        "**j : w**"
      ],
      "metadata": {
        "id": "bDyHkH7qX9Sx"
      }
    },
    {
      "cell_type": "code",
      "source": [
        "mapping = {'m':'a','g':'t','t':'h','d':'e','h':'o','o':'v',\n",
        "           'e':'r','b':'u','u':'g','f':'s','s':'n','v':'i','l':'y',\n",
        "           'a':'f','i':'b','y':'l','x':'d','c':'p','k':'x','j':'w'}\n",
        "algo(ciphertext, mapping, words_per_line)"
      ],
      "metadata": {
        "colab": {
          "base_uri": "https://localhost:8080/"
        },
        "id": "RaBImDo3Yhfv",
        "outputId": "e3c1a921-451f-4afa-a2a9-a3a3f85f8feb"
      },
      "execution_count": 22,
      "outputs": [
        {
          "output_type": "stream",
          "name": "stdout",
          "text": [
            "Ciphertext:\n",
            "gtd bsvgl vf fgedsugt dffml dkcymvsf gtmg gtd chjde ha\n",
            "aevdsxftvc tdycf bf gh id fgehsu aehz tmexftvcf. aevdsxf qms\n",
            "uvod bf gtd fgedsugt jd sddx jtds yvad udgf ghbut.\n",
            "vs mxxvgvhs, cdhcyd dkcedff bsvgl gtehbut yhod,amzvyl, aevdsxf, msx hgtdef\n",
            "ftmed fghevdf ha avsxvsu qhzzhs uehbsx jvgt fhzdhsd.gtded med zmsl\n",
            "idsdavgf ha fgmlvsubsvgdx vs ghbut gvzdf, mf vg tdycf gh\n",
            "amqd qtmyydsuvsu fvgbmgvhsf jvgt qhbemud. gtd vzchegmsqd ha fgmlvsu bsvgdx\n",
            "tmf fgebqp m qthex mzhsu zmsl cdhcyd gtehbuthbg tvfghel.pddcvsu zdzhevdf\n",
            "ha jtmg jd tmod mqqhzcyvftdx gtehbuthbg tvfghel qms tdyc bf\n",
            "fdd thj vsxvovxbmyf msx qhzzbsvgvdf tmod cdefdodedx gtehbut ghbut gvzdf\n",
            "msx vsgh m ievutgde abgbed.\n",
            "\n",
            "Decrypted Text:\n",
            "the unity is strength essay explains that the power of\n",
            "friendship helps us to be strong fro* hardships. friends *an\n",
            "give us the strength we need when life gets tough.\n",
            "in addition, people express unity through love,fa*ily, friends, and others\n",
            "share stories of finding *o**on ground with so*eone.there are *any\n",
            "benefits of stayingunited in tough ti*es, as it helps to\n",
            "fa*e *hallenging situations with *ourage. the i*portan*e of staying united\n",
            "has stru** a *hord a*ong *any people throughout history.*eeping *e*ories\n",
            "of what we have a**o*plished throughout history *an help us\n",
            "see how individuals and *o**unities have persevered through tough ti*es\n",
            "and into a brighter future.\n"
          ]
        }
      ]
    },
    {
      "cell_type": "markdown",
      "source": [
        "Now we can see that the cipher is quite simple to understand the rest of the mapping. The word 'fro * ' and '* an' in the 2nd line would be 'from' and 'can' respectively. The mapping:\n",
        "\n",
        "**z : m**\n",
        "\n",
        "**q : c**"
      ],
      "metadata": {
        "id": "dXv1GGRhYsR3"
      }
    },
    {
      "cell_type": "code",
      "source": [
        "mapping = {'m':'a','g':'t','t':'h','d':'e','h':'o','o':'v','e':'r',\n",
        "           'b':'u','u':'g','f':'s','s':'n','v':'i','l':'y','a':'f',\n",
        "           'i':'b','y':'l','x':'d','c':'p','k':'x','j':'w','z':'m','q':'c'}\n",
        "algo(ciphertext, mapping, words_per_line)"
      ],
      "metadata": {
        "colab": {
          "base_uri": "https://localhost:8080/"
        },
        "id": "oGMRYvzXZVjt",
        "outputId": "b9449d3a-73c4-4d86-e2f3-02ffb6136a52"
      },
      "execution_count": 23,
      "outputs": [
        {
          "output_type": "stream",
          "name": "stdout",
          "text": [
            "Ciphertext:\n",
            "gtd bsvgl vf fgedsugt dffml dkcymvsf gtmg gtd chjde ha\n",
            "aevdsxftvc tdycf bf gh id fgehsu aehz tmexftvcf. aevdsxf qms\n",
            "uvod bf gtd fgedsugt jd sddx jtds yvad udgf ghbut.\n",
            "vs mxxvgvhs, cdhcyd dkcedff bsvgl gtehbut yhod,amzvyl, aevdsxf, msx hgtdef\n",
            "ftmed fghevdf ha avsxvsu qhzzhs uehbsx jvgt fhzdhsd.gtded med zmsl\n",
            "idsdavgf ha fgmlvsubsvgdx vs ghbut gvzdf, mf vg tdycf gh\n",
            "amqd qtmyydsuvsu fvgbmgvhsf jvgt qhbemud. gtd vzchegmsqd ha fgmlvsu bsvgdx\n",
            "tmf fgebqp m qthex mzhsu zmsl cdhcyd gtehbuthbg tvfghel.pddcvsu zdzhevdf\n",
            "ha jtmg jd tmod mqqhzcyvftdx gtehbuthbg tvfghel qms tdyc bf\n",
            "fdd thj vsxvovxbmyf msx qhzzbsvgvdf tmod cdefdodedx gtehbut ghbut gvzdf\n",
            "msx vsgh m ievutgde abgbed.\n",
            "\n",
            "Decrypted Text:\n",
            "the unity is strength essay explains that the power of\n",
            "friendship helps us to be strong from hardships. friends can\n",
            "give us the strength we need when life gets tough.\n",
            "in addition, people express unity through love,family, friends, and others\n",
            "share stories of finding common ground with someone.there are many\n",
            "benefits of stayingunited in tough times, as it helps to\n",
            "face challenging situations with courage. the importance of staying united\n",
            "has struc* a chord among many people throughout history.*eeping memories\n",
            "of what we have accomplished throughout history can help us\n",
            "see how individuals and communities have persevered through tough times\n",
            "and into a brighter future.\n"
          ]
        }
      ]
    },
    {
      "cell_type": "markdown",
      "source": [
        "The rest two mapping in the word 'struc *' and ' * eeping' would be 'struck' ans 'keeping' respectively. The mapping:\n",
        "\n",
        "**p : k**\n",
        "\n"
      ],
      "metadata": {
        "id": "Iu0zE-xcZssi"
      }
    },
    {
      "cell_type": "code",
      "source": [
        "mapping = {'m':'a','g':'t','t':'h','d':'e','h':'o','o':'v',\n",
        "           'e':'r','b':'u','u':'g','f':'s','s':'n','v':'i','l':'y',\n",
        "           'a':'f','i':'b','y':'l','x':'d','c':'p','k':'x','j':'w',\n",
        "           'z':'m','q':'c','p':'k'}\n",
        "algo(ciphertext, mapping, words_per_line)"
      ],
      "metadata": {
        "colab": {
          "base_uri": "https://localhost:8080/"
        },
        "id": "D3mJVc8ZauxK",
        "outputId": "a8fda5f9-83c5-47e5-eff5-71f7849cafae"
      },
      "execution_count": 24,
      "outputs": [
        {
          "output_type": "stream",
          "name": "stdout",
          "text": [
            "Ciphertext:\n",
            "gtd bsvgl vf fgedsugt dffml dkcymvsf gtmg gtd chjde ha\n",
            "aevdsxftvc tdycf bf gh id fgehsu aehz tmexftvcf. aevdsxf qms\n",
            "uvod bf gtd fgedsugt jd sddx jtds yvad udgf ghbut.\n",
            "vs mxxvgvhs, cdhcyd dkcedff bsvgl gtehbut yhod,amzvyl, aevdsxf, msx hgtdef\n",
            "ftmed fghevdf ha avsxvsu qhzzhs uehbsx jvgt fhzdhsd.gtded med zmsl\n",
            "idsdavgf ha fgmlvsubsvgdx vs ghbut gvzdf, mf vg tdycf gh\n",
            "amqd qtmyydsuvsu fvgbmgvhsf jvgt qhbemud. gtd vzchegmsqd ha fgmlvsu bsvgdx\n",
            "tmf fgebqp m qthex mzhsu zmsl cdhcyd gtehbuthbg tvfghel.pddcvsu zdzhevdf\n",
            "ha jtmg jd tmod mqqhzcyvftdx gtehbuthbg tvfghel qms tdyc bf\n",
            "fdd thj vsxvovxbmyf msx qhzzbsvgvdf tmod cdefdodedx gtehbut ghbut gvzdf\n",
            "msx vsgh m ievutgde abgbed.\n",
            "\n",
            "Decrypted Text:\n",
            "the unity is strength essay explains that the power of\n",
            "friendship helps us to be strong from hardships. friends can\n",
            "give us the strength we need when life gets tough.\n",
            "in addition, people express unity through love,family, friends, and others\n",
            "share stories of finding common ground with someone.there are many\n",
            "benefits of stayingunited in tough times, as it helps to\n",
            "face challenging situations with courage. the importance of staying united\n",
            "has struck a chord among many people throughout history.keeping memories\n",
            "of what we have accomplished throughout history can help us\n",
            "see how individuals and communities have persevered through tough times\n",
            "and into a brighter future.\n"
          ]
        }
      ]
    },
    {
      "cell_type": "markdown",
      "source": [
        "Thus we decrypted our cipher into plaintext. And the plaintext is:\n",
        "\n",
        "**the unity is strength essay explains that the power of\n",
        "friendship helps us to be strong from hardships. friends can\n",
        "give us the strength we need when life gets tough.\n",
        "in addition, people express unity through love,family, friends, and others\n",
        "share stories of finding common ground with someone.there are many\n",
        "benefits of stayingunited in tough times, as it helps to\n",
        "face challenging situations with courage. the importance of staying united\n",
        "has struck a chord among many people throughout history.keeping memories\n",
        "of what we have accomplished throughout history can help us\n",
        "see how individuals and communities have persevered through tough times\n",
        "and into a brighter future.**"
      ],
      "metadata": {
        "id": "2ApImojHDpZ-"
      }
    },
    {
      "cell_type": "markdown",
      "source": [
        "##**2.(b)**"
      ],
      "metadata": {
        "id": "wcn002dQcqqG"
      }
    },
    {
      "cell_type": "markdown",
      "source": [
        "*exupziu kxwqxagxom, upm gxsm zs l amtwzo exgg rmqzfm kigg lok xolquxjm.lgwz, l kxwqxagxomk amtwzo qlo qzoutzg lok plokgm upm wxuiluxzo zs gxjxoh xo l wzapxwuxqlumk elc uplo upzwm epz kz ozu.fztmzjmt, xs czi pljm l aglo lok czi elou uz xfagmfmou xu xo czit gxsm upmo czi ommk kxwqxagxom. xu flnmw upxohw mlwc szt czi uz plokgm lok iguxflumgc rtxoh wiqqmww uz czit gxsm.xs ulgn lrziu upm ucamw zs kxwqxagxom, upmo upmc ltm hmomtlggc zs uez ucamw. sxtwu zom xw xokiqmk kxwqxagxom lok upm wmqzok zom xw wmgs-kxwqxagxom.xokiqmk kxwqxagxom xw wzfmupxoh uplu zupmtw ulihpu iw zt em gmlto rc wmmxoh zupmtw. epxgm wmgs-kxwqxagxom qzfmw stzf exupxo lok em gmlto xu zo zit zeo wmgs. wmgs-kxwqxagxom tmyixtmw l gzu zs fzuxjluxzo lok wiaaztu stzf zupmtw.lrzjm lgg, szggzexoh czit klxgc\n",
        "wqpmkigm exupziu loc fxwulnm xw lgwz altu zs rmxoh kxwqxagxomk.*"
      ],
      "metadata": {
        "id": "qbugu3qLfbX4"
      }
    },
    {
      "cell_type": "code",
      "source": [
        "# Provided ciphertext\n",
        "ciphertext_b= \"\"\"exupziu kxwqxagxom, upm gxsm zs l amtwzo exgg rmqzfm kigg lok\n",
        "xolquxjm.lgwz, l kxwqxagxomk amtwzo qlo qzoutzg lok\n",
        "plokgm upm wxuiluxzo zs gxjxoh xo l wzapxwuxqlumk elc uplo upzwm epz kz\n",
        "ozu.fztmzjmt, xs czi pljm l aglo lok czi elou uz xfagmfmou xu xo czit gxsm upmo\n",
        "czi ommk kxwqxagxom. xu flnmw upxohw mlwc szt czi uz plokgm lok iguxflumgc rtxoh\n",
        "wiqqmww uz czit gxsm.xs ulgn lrziu upm ucamw zs kxwqxagxom, upmo upmc\n",
        "ltm hmomtlggc zs uez ucamw. sxtwu zom xw xokiqmk kxwqxagxom lok upm\n",
        "wmqzok zom xw wmgs-kxwqxagxom.xokiqmk kxwqxagxom xw wzfmupxoh uplu zupmtw\n",
        "ulihpu iw zt em gmlto rc wmmxoh zupmtw. epxgm wmgs-kxwqxagxom qzfmw stzf exupxo\n",
        "lok em gmlto xu zo zit zeo wmgs. wmgs-kxwqxagxom tmyixtmw l gzu zs fzuxjluxzo\n",
        "lok wiaaztu stzf zupmtw.lrzjm lgg, szggzexoh czit klxgc\n",
        "wqpmkigm exupziu loc fxwulnm xw lgwz altu zs rmxoh kxwqxagxomk.\n",
        "\"\"\""
      ],
      "metadata": {
        "id": "yNqHD7lzgEcT"
      },
      "execution_count": 25,
      "outputs": []
    },
    {
      "cell_type": "code",
      "source": [
        "mapping = {}\n",
        "algo(ciphertext_b, mapping, words_per_line)\n",
        "freq_analyze(ciphertext_b)"
      ],
      "metadata": {
        "colab": {
          "base_uri": "https://localhost:8080/"
        },
        "id": "p79F_N3MgXos",
        "outputId": "1da2d247-bf87-4737-8e8a-592588620ed6"
      },
      "execution_count": 26,
      "outputs": [
        {
          "output_type": "stream",
          "name": "stdout",
          "text": [
            "Ciphertext:\n",
            "exupziu kxwqxagxom, upm gxsm zs l amtwzo exgg rmqzfm kigg\n",
            "lok xolquxjm.lgwz, l kxwqxagxomk amtwzo qlo qzoutzg lok plokgm upm\n",
            "wxuiluxzo zs gxjxoh xo l wzapxwuxqlumk elc uplo upzwm epz\n",
            "kz ozu.fztmzjmt, xs czi pljm l aglo lok czi elou\n",
            "uz xfagmfmou xu xo czit gxsm upmo czi ommk kxwqxagxom.\n",
            "xu flnmw upxohw mlwc szt czi uz plokgm lok iguxflumgc\n",
            "rtxoh wiqqmww uz czit gxsm.xs ulgn lrziu upm ucamw zs\n",
            "kxwqxagxom, upmo upmc ltm hmomtlggc zs uez ucamw. sxtwu zom\n",
            "xw xokiqmk kxwqxagxom lok upm wmqzok zom xw wmgs-kxwqxagxom.xokiqmk kxwqxagxom\n",
            "xw wzfmupxoh uplu zupmtw ulihpu iw zt em gmlto rc\n",
            "wmmxoh zupmtw. epxgm wmgs-kxwqxagxom qzfmw stzf exupxo lok em gmlto\n",
            "xu zo zit zeo wmgs. wmgs-kxwqxagxom tmyixtmw l gzu zs\n",
            "fzuxjluxzo lok wiaaztu stzf zupmtw.lrzjm lgg, szggzexoh czit klxgc wqpmkigm\n",
            "exupziu loc fxwulnm xw lgwz altu zs rmxoh kxwqxagxomk.\n",
            "\n",
            "Decrypted Text:\n",
            "******* **********, *** **** ** * ****** **** ****** ****\n",
            "*** ********.****, * *********** ****** *** ******* *** ****** ***\n",
            "********* ** ****** ** * ************* *** **** ***** ***\n",
            "** ***.********, ** *** **** * **** *** *** ****\n",
            "** ********* ** ** **** **** **** *** **** **********.\n",
            "** ***** ****** **** *** *** ** ****** *** **********\n",
            "***** ******* ** **** ****.** **** ***** *** ***** **\n",
            "**********, **** **** *** ********* ** *** *****. ***** ***\n",
            "** ******* ********** *** *** ****** *** ** ****-**********.******* **********\n",
            "** ********* **** ****** ****** ** ** ** ***** **\n",
            "****** ******. ***** ****-********** ***** **** ****** *** ** *****\n",
            "** ** *** *** ****. ****-********** ******** * *** **\n",
            "********** *** ******* **** ******.***** ***, ********* **** ***** ********\n",
            "******* *** ******* ** **** **** ** ***** ***********.\n",
            "Character frequencies in the ciphertext (descending order):\n",
            "'x': 74\n",
            "'m': 73\n",
            "'z': 57\n",
            "'o': 55\n",
            "'u': 52\n",
            "'w': 47\n",
            "'g': 44\n",
            "'l': 43\n",
            "'k': 32\n",
            "'p': 26\n",
            "'t': 26\n",
            "'i': 22\n",
            "'q': 22\n",
            "'a': 20\n",
            "'s': 20\n",
            "'c': 17\n",
            "'e': 13\n",
            "'f': 12\n",
            "'h': 9\n",
            "'r': 6\n",
            "'j': 6\n",
            "'n': 3\n",
            "'y': 1\n"
          ]
        }
      ]
    },
    {
      "cell_type": "markdown",
      "source": [
        "The most frequent in the text is 'x'. The most frequent word in english is 'e'. Replace 'x' with 'e'. So, the mapping:\n",
        "\n",
        "**x : e**\n"
      ],
      "metadata": {
        "id": "ugVFgaZzhbfb"
      }
    },
    {
      "cell_type": "code",
      "source": [
        "mapping = {'x':'e'}\n",
        "algo(ciphertext_b, mapping, words_per_line)\n",
        "freq_analyze(ciphertext_b)"
      ],
      "metadata": {
        "colab": {
          "base_uri": "https://localhost:8080/"
        },
        "id": "u1vKlj_Gh7bB",
        "outputId": "51a865f5-4429-44f4-b454-9b1777772dc8"
      },
      "execution_count": 27,
      "outputs": [
        {
          "output_type": "stream",
          "name": "stdout",
          "text": [
            "Ciphertext:\n",
            "exupziu kxwqxagxom, upm gxsm zs l amtwzo exgg rmqzfm kigg\n",
            "lok xolquxjm.lgwz, l kxwqxagxomk amtwzo qlo qzoutzg lok plokgm upm\n",
            "wxuiluxzo zs gxjxoh xo l wzapxwuxqlumk elc uplo upzwm epz\n",
            "kz ozu.fztmzjmt, xs czi pljm l aglo lok czi elou\n",
            "uz xfagmfmou xu xo czit gxsm upmo czi ommk kxwqxagxom.\n",
            "xu flnmw upxohw mlwc szt czi uz plokgm lok iguxflumgc\n",
            "rtxoh wiqqmww uz czit gxsm.xs ulgn lrziu upm ucamw zs\n",
            "kxwqxagxom, upmo upmc ltm hmomtlggc zs uez ucamw. sxtwu zom\n",
            "xw xokiqmk kxwqxagxom lok upm wmqzok zom xw wmgs-kxwqxagxom.xokiqmk kxwqxagxom\n",
            "xw wzfmupxoh uplu zupmtw ulihpu iw zt em gmlto rc\n",
            "wmmxoh zupmtw. epxgm wmgs-kxwqxagxom qzfmw stzf exupxo lok em gmlto\n",
            "xu zo zit zeo wmgs. wmgs-kxwqxagxom tmyixtmw l gzu zs\n",
            "fzuxjluxzo lok wiaaztu stzf zupmtw.lrzjm lgg, szggzexoh czit klxgc wqpmkigm\n",
            "exupziu loc fxwulnm xw lgwz altu zs rmxoh kxwqxagxomk.\n",
            "\n",
            "Decrypted Text:\n",
            "*e***** *e**e**e**, *** *e** ** * ****** *e** ****** ****\n",
            "*** e****e**.****, * *e**e**e*** ****** *** ******* *** ****** ***\n",
            "*e****e** ** *e*e** e* * ****e**e***** *** **** ***** ***\n",
            "** ***.********, e* *** **** * **** *** *** ****\n",
            "** e******** e* e* **** *e** **** *** **** *e**e**e**.\n",
            "e* ***** **e*** **** *** *** ** ****** *** ***e******\n",
            "**e** ******* ** **** *e**.e* **** ***** *** ***** **\n",
            "*e**e**e**, **** **** *** ********* ** *** *****. *e*** ***\n",
            "e* e****** *e**e**e** *** *** ****** *** e* ****-*e**e**e**.e****** *e**e**e**\n",
            "e* ******e** **** ****** ****** ** ** ** ***** **\n",
            "***e** ******. **e** ****-*e**e**e** ***** **** *e**e* *** ** *****\n",
            "e* ** *** *** ****. ****-*e**e**e** ****e*** * *** **\n",
            "***e***e** *** ******* **** ******.***** ***, ******e** **** **e** ********\n",
            "*e***** *** *e***** e* **** **** ** **e** *e**e**e***.\n",
            "Character frequencies in the ciphertext (descending order):\n",
            "'x': 74\n",
            "'m': 73\n",
            "'z': 57\n",
            "'o': 55\n",
            "'u': 52\n",
            "'w': 47\n",
            "'g': 44\n",
            "'l': 43\n",
            "'k': 32\n",
            "'p': 26\n",
            "'t': 26\n",
            "'i': 22\n",
            "'q': 22\n",
            "'a': 20\n",
            "'s': 20\n",
            "'c': 17\n",
            "'e': 13\n",
            "'f': 12\n",
            "'h': 9\n",
            "'r': 6\n",
            "'j': 6\n",
            "'n': 3\n",
            "'y': 1\n"
          ]
        }
      ]
    },
    {
      "cell_type": "markdown",
      "source": [
        "Replace the signle letter word with 'a'. As it is the most frequent english single letter word. So, the mapping:  \n",
        "\n",
        "**l : a**"
      ],
      "metadata": {
        "id": "WTjtO04tiOBg"
      }
    },
    {
      "cell_type": "code",
      "source": [
        "mapping = {'x':'e','l':'a'}\n",
        "algo(ciphertext_b, mapping, words_per_line)"
      ],
      "metadata": {
        "colab": {
          "base_uri": "https://localhost:8080/"
        },
        "id": "GxjJDzGJi8FR",
        "outputId": "86dcb673-d466-44c3-8276-d0b07e8fc723"
      },
      "execution_count": 28,
      "outputs": [
        {
          "output_type": "stream",
          "name": "stdout",
          "text": [
            "Ciphertext:\n",
            "exupziu kxwqxagxom, upm gxsm zs l amtwzo exgg rmqzfm kigg\n",
            "lok xolquxjm.lgwz, l kxwqxagxomk amtwzo qlo qzoutzg lok plokgm upm\n",
            "wxuiluxzo zs gxjxoh xo l wzapxwuxqlumk elc uplo upzwm epz\n",
            "kz ozu.fztmzjmt, xs czi pljm l aglo lok czi elou\n",
            "uz xfagmfmou xu xo czit gxsm upmo czi ommk kxwqxagxom.\n",
            "xu flnmw upxohw mlwc szt czi uz plokgm lok iguxflumgc\n",
            "rtxoh wiqqmww uz czit gxsm.xs ulgn lrziu upm ucamw zs\n",
            "kxwqxagxom, upmo upmc ltm hmomtlggc zs uez ucamw. sxtwu zom\n",
            "xw xokiqmk kxwqxagxom lok upm wmqzok zom xw wmgs-kxwqxagxom.xokiqmk kxwqxagxom\n",
            "xw wzfmupxoh uplu zupmtw ulihpu iw zt em gmlto rc\n",
            "wmmxoh zupmtw. epxgm wmgs-kxwqxagxom qzfmw stzf exupxo lok em gmlto\n",
            "xu zo zit zeo wmgs. wmgs-kxwqxagxom tmyixtmw l gzu zs\n",
            "fzuxjluxzo lok wiaaztu stzf zupmtw.lrzjm lgg, szggzexoh czit klxgc wqpmkigm\n",
            "exupziu loc fxwulnm xw lgwz altu zs rmxoh kxwqxagxomk.\n",
            "\n",
            "Decrypted Text:\n",
            "*e***** *e**e**e**, *** *e** ** a ****** *e** ****** ****\n",
            "a** e*a**e**.a***, a *e**e**e*** ****** *a* ******* a** *a**** ***\n",
            "*e**a*e** ** *e*e** e* a ****e**e*a*** *a* **a* ***** ***\n",
            "** ***.********, e* *** *a** a **a* a** *** *a**\n",
            "** e******** e* e* **** *e** **** *** **** *e**e**e**.\n",
            "e* *a*** **e*** *a** *** *** ** *a**** a** ***e*a****\n",
            "**e** ******* ** **** *e**.e* *a** a**** *** ***** **\n",
            "*e**e**e**, **** **** a** *****a*** ** *** *****. *e*** ***\n",
            "e* e****** *e**e**e** a** *** ****** *** e* ****-*e**e**e**.e****** *e**e**e**\n",
            "e* ******e** **a* ****** *a**** ** ** ** **a** **\n",
            "***e** ******. **e** ****-*e**e**e** ***** **** *e**e* a** ** **a**\n",
            "e* ** *** *** ****. ****-*e**e**e** ****e*** a *** **\n",
            "***e*a*e** a** ******* **** ******.a**** a**, ******e** **** *ae** ********\n",
            "*e***** a** *e**a** e* a*** *a** ** **e** *e**e**e***.\n"
          ]
        }
      ]
    },
    {
      "cell_type": "markdown",
      "source": [
        "I observed there are many 'upm' in the text. So i replace upm with the, most frequent three letter word. The mapping:\n",
        "\n",
        "**u : t**\n",
        "\n",
        "**p : h**\n",
        "\n",
        "**m : e**  \n",
        "\n",
        "So we cannot replace 'x' with 'e'. Discard the mapping.\n"
      ],
      "metadata": {
        "id": "tKAaerDVpj6K"
      }
    },
    {
      "cell_type": "code",
      "source": [
        "mapping = {'l':'a','u':'t','p':'h','m':'e'}\n",
        "algo(ciphertext_b, mapping, words_per_line)"
      ],
      "metadata": {
        "colab": {
          "base_uri": "https://localhost:8080/"
        },
        "id": "ib58oSY9qbgh",
        "outputId": "94be7214-424e-4f66-8ecb-b08a7a2c3890"
      },
      "execution_count": 29,
      "outputs": [
        {
          "output_type": "stream",
          "name": "stdout",
          "text": [
            "Ciphertext:\n",
            "exupziu kxwqxagxom, upm gxsm zs l amtwzo exgg rmqzfm kigg\n",
            "lok xolquxjm.lgwz, l kxwqxagxomk amtwzo qlo qzoutzg lok plokgm upm\n",
            "wxuiluxzo zs gxjxoh xo l wzapxwuxqlumk elc uplo upzwm epz\n",
            "kz ozu.fztmzjmt, xs czi pljm l aglo lok czi elou\n",
            "uz xfagmfmou xu xo czit gxsm upmo czi ommk kxwqxagxom.\n",
            "xu flnmw upxohw mlwc szt czi uz plokgm lok iguxflumgc\n",
            "rtxoh wiqqmww uz czit gxsm.xs ulgn lrziu upm ucamw zs\n",
            "kxwqxagxom, upmo upmc ltm hmomtlggc zs uez ucamw. sxtwu zom\n",
            "xw xokiqmk kxwqxagxom lok upm wmqzok zom xw wmgs-kxwqxagxom.xokiqmk kxwqxagxom\n",
            "xw wzfmupxoh uplu zupmtw ulihpu iw zt em gmlto rc\n",
            "wmmxoh zupmtw. epxgm wmgs-kxwqxagxom qzfmw stzf exupxo lok em gmlto\n",
            "xu zo zit zeo wmgs. wmgs-kxwqxagxom tmyixtmw l gzu zs\n",
            "fzuxjluxzo lok wiaaztu stzf zupmtw.lrzjm lgg, szggzexoh czit klxgc wqpmkigm\n",
            "exupziu loc fxwulnm xw lgwz altu zs rmxoh kxwqxagxomk.\n",
            "\n",
            "Decrypted Text:\n",
            "**th**t *********e, the ***e ** a *e**** **** *e***e ****\n",
            "a** **a*t**e.a***, a *********e* *e**** *a* ***t*** a** ha***e the\n",
            "**t*at*** ** ****** ** a ***h**t**ate* *a* tha* th**e *h*\n",
            "** **t.***e**e*, ** *** ha*e a **a* a** *** *a*t\n",
            "t* ****e*e*t *t ** **** ***e the* *** *ee* *********e.\n",
            "*t *a*e* th**** ea** *** *** t* ha***e a** **t**ate**\n",
            "***** ****e** t* **** ***e.** ta** a***t the t**e* **\n",
            "*********e, the* the* a*e *e*e*a*** ** t** t**e*. ****t **e\n",
            "** *****e* *********e a** the *e**** **e ** *e**-*********e.*****e* *********e\n",
            "** ***eth*** that *the** ta**ht ** ** *e *ea** **\n",
            "*ee*** *the**. *h**e *e**-*********e ***e* **** **th** a** *e *ea**\n",
            "*t ** *** *** *e**. *e**-*********e *e****e* a **t **\n",
            "**t**at*** a** ******t **** *the**.a***e a**, ********* **** *a*** **he***e\n",
            "**th**t a** ***ta*e ** a*** *a*t ** *e*** *********e*.\n"
          ]
        }
      ]
    },
    {
      "cell_type": "markdown",
      "source": [
        "The 4th word of 8th line (a*e) would be are. The mapping:\n",
        "\n",
        "**t : r**\n",
        "\n"
      ],
      "metadata": {
        "id": "o-99R5yDrT4g"
      }
    },
    {
      "cell_type": "code",
      "source": [
        "mapping = {'l':'a','u':'t','p':'h','m':'e','t':'r'}\n",
        "algo(ciphertext_b, mapping, words_per_line)"
      ],
      "metadata": {
        "colab": {
          "base_uri": "https://localhost:8080/"
        },
        "id": "XvQFt26orsGb",
        "outputId": "375d57f5-4143-4a0b-ddb6-24ca517608ca"
      },
      "execution_count": 30,
      "outputs": [
        {
          "output_type": "stream",
          "name": "stdout",
          "text": [
            "Ciphertext:\n",
            "exupziu kxwqxagxom, upm gxsm zs l amtwzo exgg rmqzfm kigg\n",
            "lok xolquxjm.lgwz, l kxwqxagxomk amtwzo qlo qzoutzg lok plokgm upm\n",
            "wxuiluxzo zs gxjxoh xo l wzapxwuxqlumk elc uplo upzwm epz\n",
            "kz ozu.fztmzjmt, xs czi pljm l aglo lok czi elou\n",
            "uz xfagmfmou xu xo czit gxsm upmo czi ommk kxwqxagxom.\n",
            "xu flnmw upxohw mlwc szt czi uz plokgm lok iguxflumgc\n",
            "rtxoh wiqqmww uz czit gxsm.xs ulgn lrziu upm ucamw zs\n",
            "kxwqxagxom, upmo upmc ltm hmomtlggc zs uez ucamw. sxtwu zom\n",
            "xw xokiqmk kxwqxagxom lok upm wmqzok zom xw wmgs-kxwqxagxom.xokiqmk kxwqxagxom\n",
            "xw wzfmupxoh uplu zupmtw ulihpu iw zt em gmlto rc\n",
            "wmmxoh zupmtw. epxgm wmgs-kxwqxagxom qzfmw stzf exupxo lok em gmlto\n",
            "xu zo zit zeo wmgs. wmgs-kxwqxagxom tmyixtmw l gzu zs\n",
            "fzuxjluxzo lok wiaaztu stzf zupmtw.lrzjm lgg, szggzexoh czit klxgc wqpmkigm\n",
            "exupziu loc fxwulnm xw lgwz altu zs rmxoh kxwqxagxomk.\n",
            "\n",
            "Decrypted Text:\n",
            "**th**t *********e, the ***e ** a *er*** **** *e***e ****\n",
            "a** **a*t**e.a***, a *********e* *er*** *a* ***tr** a** ha***e the\n",
            "**t*at*** ** ****** ** a ***h**t**ate* *a* tha* th**e *h*\n",
            "** **t.**re**er, ** *** ha*e a **a* a** *** *a*t\n",
            "t* ****e*e*t *t ** ***r ***e the* *** *ee* *********e.\n",
            "*t *a*e* th**** ea** **r *** t* ha***e a** **t**ate**\n",
            "*r*** ****e** t* ***r ***e.** ta** a***t the t**e* **\n",
            "*********e, the* the* are *e*era*** ** t** t**e*. **r*t **e\n",
            "** *****e* *********e a** the *e**** **e ** *e**-*********e.*****e* *********e\n",
            "** ***eth*** that *ther* ta**ht ** *r *e *ear* **\n",
            "*ee*** *ther*. *h**e *e**-*********e ***e* *r** **th** a** *e *ear*\n",
            "*t ** **r *** *e**. *e**-*********e re***re* a **t **\n",
            "**t**at*** a** *****rt *r** *ther*.a***e a**, ********* ***r *a*** **he***e\n",
            "**th**t a** ***ta*e ** a*** *art ** *e*** *********e*.\n"
          ]
        }
      ]
    },
    {
      "cell_type": "markdown",
      "source": [
        "The 6th word of 4th line (ha*e) would be have. the mapping:\n",
        "\n",
        "**j : v**"
      ],
      "metadata": {
        "id": "4kE-0dDar_pa"
      }
    },
    {
      "cell_type": "code",
      "source": [
        "mapping = {'l':'a','u':'t','p':'h','m':'e','t':'r','j':'v'}\n",
        "algo(ciphertext_b, mapping, words_per_line)"
      ],
      "metadata": {
        "colab": {
          "base_uri": "https://localhost:8080/"
        },
        "id": "BD998E5hsPLK",
        "outputId": "b571b4fc-97d6-4c71-e92d-db0f9f6a19e7"
      },
      "execution_count": 31,
      "outputs": [
        {
          "output_type": "stream",
          "name": "stdout",
          "text": [
            "Ciphertext:\n",
            "exupziu kxwqxagxom, upm gxsm zs l amtwzo exgg rmqzfm kigg\n",
            "lok xolquxjm.lgwz, l kxwqxagxomk amtwzo qlo qzoutzg lok plokgm upm\n",
            "wxuiluxzo zs gxjxoh xo l wzapxwuxqlumk elc uplo upzwm epz\n",
            "kz ozu.fztmzjmt, xs czi pljm l aglo lok czi elou\n",
            "uz xfagmfmou xu xo czit gxsm upmo czi ommk kxwqxagxom.\n",
            "xu flnmw upxohw mlwc szt czi uz plokgm lok iguxflumgc\n",
            "rtxoh wiqqmww uz czit gxsm.xs ulgn lrziu upm ucamw zs\n",
            "kxwqxagxom, upmo upmc ltm hmomtlggc zs uez ucamw. sxtwu zom\n",
            "xw xokiqmk kxwqxagxom lok upm wmqzok zom xw wmgs-kxwqxagxom.xokiqmk kxwqxagxom\n",
            "xw wzfmupxoh uplu zupmtw ulihpu iw zt em gmlto rc\n",
            "wmmxoh zupmtw. epxgm wmgs-kxwqxagxom qzfmw stzf exupxo lok em gmlto\n",
            "xu zo zit zeo wmgs. wmgs-kxwqxagxom tmyixtmw l gzu zs\n",
            "fzuxjluxzo lok wiaaztu stzf zupmtw.lrzjm lgg, szggzexoh czit klxgc wqpmkigm\n",
            "exupziu loc fxwulnm xw lgwz altu zs rmxoh kxwqxagxomk.\n",
            "\n",
            "Decrypted Text:\n",
            "**th**t *********e, the ***e ** a *er*** **** *e***e ****\n",
            "a** **a*t*ve.a***, a *********e* *er*** *a* ***tr** a** ha***e the\n",
            "**t*at*** ** **v*** ** a ***h**t**ate* *a* tha* th**e *h*\n",
            "** **t.**re*ver, ** *** have a **a* a** *** *a*t\n",
            "t* ****e*e*t *t ** ***r ***e the* *** *ee* *********e.\n",
            "*t *a*e* th**** ea** **r *** t* ha***e a** **t**ate**\n",
            "*r*** ****e** t* ***r ***e.** ta** a***t the t**e* **\n",
            "*********e, the* the* are *e*era*** ** t** t**e*. **r*t **e\n",
            "** *****e* *********e a** the *e**** **e ** *e**-*********e.*****e* *********e\n",
            "** ***eth*** that *ther* ta**ht ** *r *e *ear* **\n",
            "*ee*** *ther*. *h**e *e**-*********e ***e* *r** **th** a** *e *ear*\n",
            "*t ** **r *** *e**. *e**-*********e re***re* a **t **\n",
            "**t*vat*** a** *****rt *r** *ther*.a**ve a**, ********* ***r *a*** **he***e\n",
            "**th**t a** ***ta*e ** a*** *art ** *e*** *********e*.\n"
          ]
        }
      ]
    },
    {
      "cell_type": "markdown",
      "source": [
        "The word tha* in the 3rd line would be than as if it was that then we see earlier. The mapping:\n",
        "\n",
        "**o : n**"
      ],
      "metadata": {
        "id": "OcNoN9EBsaaZ"
      }
    },
    {
      "cell_type": "code",
      "source": [
        "mapping = {'l':'a','u':'t','p':'h','m':'e','t':'r','j':'v','o':'n'}\n",
        "algo(ciphertext_b, mapping, words_per_line)"
      ],
      "metadata": {
        "colab": {
          "base_uri": "https://localhost:8080/"
        },
        "id": "1QooAz-Cs-vk",
        "outputId": "fe3c5cd1-f4f3-4238-b221-517d824956a6"
      },
      "execution_count": 32,
      "outputs": [
        {
          "output_type": "stream",
          "name": "stdout",
          "text": [
            "Ciphertext:\n",
            "exupziu kxwqxagxom, upm gxsm zs l amtwzo exgg rmqzfm kigg\n",
            "lok xolquxjm.lgwz, l kxwqxagxomk amtwzo qlo qzoutzg lok plokgm upm\n",
            "wxuiluxzo zs gxjxoh xo l wzapxwuxqlumk elc uplo upzwm epz\n",
            "kz ozu.fztmzjmt, xs czi pljm l aglo lok czi elou\n",
            "uz xfagmfmou xu xo czit gxsm upmo czi ommk kxwqxagxom.\n",
            "xu flnmw upxohw mlwc szt czi uz plokgm lok iguxflumgc\n",
            "rtxoh wiqqmww uz czit gxsm.xs ulgn lrziu upm ucamw zs\n",
            "kxwqxagxom, upmo upmc ltm hmomtlggc zs uez ucamw. sxtwu zom\n",
            "xw xokiqmk kxwqxagxom lok upm wmqzok zom xw wmgs-kxwqxagxom.xokiqmk kxwqxagxom\n",
            "xw wzfmupxoh uplu zupmtw ulihpu iw zt em gmlto rc\n",
            "wmmxoh zupmtw. epxgm wmgs-kxwqxagxom qzfmw stzf exupxo lok em gmlto\n",
            "xu zo zit zeo wmgs. wmgs-kxwqxagxom tmyixtmw l gzu zs\n",
            "fzuxjluxzo lok wiaaztu stzf zupmtw.lrzjm lgg, szggzexoh czit klxgc wqpmkigm\n",
            "exupziu loc fxwulnm xw lgwz altu zs rmxoh kxwqxagxomk.\n",
            "\n",
            "Decrypted Text:\n",
            "**th**t ********ne, the ***e ** a *er**n **** *e***e ****\n",
            "an* *na*t*ve.a***, a ********ne* *er**n *an **ntr** an* han**e the\n",
            "**t*at**n ** **v*n* *n a ***h**t**ate* *a* than th**e *h*\n",
            "** n*t.**re*ver, ** *** have a **an an* *** *ant\n",
            "t* ****e*ent *t *n ***r ***e then *** nee* ********ne.\n",
            "*t *a*e* th*n** ea** **r *** t* han**e an* **t**ate**\n",
            "*r*n* ****e** t* ***r ***e.** ta** a***t the t**e* **\n",
            "********ne, then the* are *enera*** ** t** t**e*. **r*t *ne\n",
            "** *n***e* ********ne an* the *e**n* *ne ** *e**-********ne.*n***e* ********ne\n",
            "** ***eth*n* that *ther* ta**ht ** *r *e *earn **\n",
            "*ee*n* *ther*. *h**e *e**-********ne ***e* *r** **th*n an* *e *earn\n",
            "*t *n **r **n *e**. *e**-********ne re***re* a **t **\n",
            "**t*vat**n an* *****rt *r** *ther*.a**ve a**, *******n* ***r *a*** **he***e\n",
            "**th**t an* ***ta*e ** a*** *art ** *e*n* ********ne*.\n"
          ]
        }
      ]
    },
    {
      "cell_type": "markdown",
      "source": [
        "The word 'nee*' in the 5th line would be 'need'. The mapping:\n",
        "\n",
        "**k : d**"
      ],
      "metadata": {
        "id": "nPw8BAWGuDOn"
      }
    },
    {
      "cell_type": "code",
      "source": [
        "mapping = {'l':'a','u':'t','p':'h','m':'e','t':'r','j':'v','o':'n','k':'d'}\n",
        "algo(ciphertext_b, mapping, words_per_line)\n",
        "freq_analyze(ciphertext_b)"
      ],
      "metadata": {
        "colab": {
          "base_uri": "https://localhost:8080/"
        },
        "id": "8m7pnLi2uTPt",
        "outputId": "3f4b61a5-28a7-4de4-96f1-28d4e29a7184"
      },
      "execution_count": 33,
      "outputs": [
        {
          "output_type": "stream",
          "name": "stdout",
          "text": [
            "Ciphertext:\n",
            "exupziu kxwqxagxom, upm gxsm zs l amtwzo exgg rmqzfm kigg\n",
            "lok xolquxjm.lgwz, l kxwqxagxomk amtwzo qlo qzoutzg lok plokgm upm\n",
            "wxuiluxzo zs gxjxoh xo l wzapxwuxqlumk elc uplo upzwm epz\n",
            "kz ozu.fztmzjmt, xs czi pljm l aglo lok czi elou\n",
            "uz xfagmfmou xu xo czit gxsm upmo czi ommk kxwqxagxom.\n",
            "xu flnmw upxohw mlwc szt czi uz plokgm lok iguxflumgc\n",
            "rtxoh wiqqmww uz czit gxsm.xs ulgn lrziu upm ucamw zs\n",
            "kxwqxagxom, upmo upmc ltm hmomtlggc zs uez ucamw. sxtwu zom\n",
            "xw xokiqmk kxwqxagxom lok upm wmqzok zom xw wmgs-kxwqxagxom.xokiqmk kxwqxagxom\n",
            "xw wzfmupxoh uplu zupmtw ulihpu iw zt em gmlto rc\n",
            "wmmxoh zupmtw. epxgm wmgs-kxwqxagxom qzfmw stzf exupxo lok em gmlto\n",
            "xu zo zit zeo wmgs. wmgs-kxwqxagxom tmyixtmw l gzu zs\n",
            "fzuxjluxzo lok wiaaztu stzf zupmtw.lrzjm lgg, szggzexoh czit klxgc wqpmkigm\n",
            "exupziu loc fxwulnm xw lgwz altu zs rmxoh kxwqxagxomk.\n",
            "\n",
            "Decrypted Text:\n",
            "**th**t d*******ne, the ***e ** a *er**n **** *e***e d***\n",
            "and *na*t*ve.a***, a d*******ned *er**n *an **ntr** and hand*e the\n",
            "**t*at**n ** **v*n* *n a ***h**t**ated *a* than th**e *h*\n",
            "d* n*t.**re*ver, ** *** have a **an and *** *ant\n",
            "t* ****e*ent *t *n ***r ***e then *** need d*******ne.\n",
            "*t *a*e* th*n** ea** **r *** t* hand*e and **t**ate**\n",
            "*r*n* ****e** t* ***r ***e.** ta** a***t the t**e* **\n",
            "d*******ne, then the* are *enera*** ** t** t**e*. **r*t *ne\n",
            "** *nd**ed d*******ne and the *e**nd *ne ** *e**-d*******ne.*nd**ed d*******ne\n",
            "** ***eth*n* that *ther* ta**ht ** *r *e *earn **\n",
            "*ee*n* *ther*. *h**e *e**-d*******ne ***e* *r** **th*n and *e *earn\n",
            "*t *n **r **n *e**. *e**-d*******ne re***re* a **t **\n",
            "**t*vat**n and *****rt *r** *ther*.a**ve a**, *******n* ***r da*** **hed**e\n",
            "**th**t an* ***ta*e ** a*** *art ** *e*n* d*******ned.\n",
            "Character frequencies in the ciphertext (descending order):\n",
            "'x': 74\n",
            "'m': 73\n",
            "'z': 57\n",
            "'o': 55\n",
            "'u': 52\n",
            "'w': 47\n",
            "'g': 44\n",
            "'l': 43\n",
            "'k': 32\n",
            "'p': 26\n",
            "'t': 26\n",
            "'i': 22\n",
            "'q': 22\n",
            "'a': 20\n",
            "'s': 20\n",
            "'c': 17\n",
            "'e': 13\n",
            "'f': 12\n",
            "'h': 9\n",
            "'r': 6\n",
            "'j': 6\n",
            "'n': 3\n",
            "'y': 1\n"
          ]
        }
      ]
    },
    {
      "cell_type": "markdown",
      "source": [
        "the 'd*  n * t' in the 5th line would be 'do not'. So, the mapping:\n",
        "\n",
        "**z : o**"
      ],
      "metadata": {
        "id": "pt5fDMOnu3t_"
      }
    },
    {
      "cell_type": "code",
      "source": [
        "mapping = {'l':'a','u':'t','p':'h','m':'e','t':'r','j':'v','o':'n',\n",
        "           'k':'d','z':'o'}\n",
        "algo(ciphertext_b, mapping, words_per_line)\n",
        "# freq_analyze(ciphertext_b)"
      ],
      "metadata": {
        "colab": {
          "base_uri": "https://localhost:8080/"
        },
        "id": "uJUcjKSLvIXO",
        "outputId": "17a70f78-9e9d-490e-9295-affb75eb1f8a"
      },
      "execution_count": 34,
      "outputs": [
        {
          "output_type": "stream",
          "name": "stdout",
          "text": [
            "Ciphertext:\n",
            "exupziu kxwqxagxom, upm gxsm zs l amtwzo exgg rmqzfm kigg\n",
            "lok xolquxjm.lgwz, l kxwqxagxomk amtwzo qlo qzoutzg lok plokgm upm\n",
            "wxuiluxzo zs gxjxoh xo l wzapxwuxqlumk elc uplo upzwm epz\n",
            "kz ozu.fztmzjmt, xs czi pljm l aglo lok czi elou\n",
            "uz xfagmfmou xu xo czit gxsm upmo czi ommk kxwqxagxom.\n",
            "xu flnmw upxohw mlwc szt czi uz plokgm lok iguxflumgc\n",
            "rtxoh wiqqmww uz czit gxsm.xs ulgn lrziu upm ucamw zs\n",
            "kxwqxagxom, upmo upmc ltm hmomtlggc zs uez ucamw. sxtwu zom\n",
            "xw xokiqmk kxwqxagxom lok upm wmqzok zom xw wmgs-kxwqxagxom.xokiqmk kxwqxagxom\n",
            "xw wzfmupxoh uplu zupmtw ulihpu iw zt em gmlto rc\n",
            "wmmxoh zupmtw. epxgm wmgs-kxwqxagxom qzfmw stzf exupxo lok em gmlto\n",
            "xu zo zit zeo wmgs. wmgs-kxwqxagxom tmyixtmw l gzu zs\n",
            "fzuxjluxzo lok wiaaztu stzf zupmtw.lrzjm lgg, szggzexoh czit klxgc wqpmkigm\n",
            "exupziu loc fxwulnm xw lgwz altu zs rmxoh kxwqxagxomk.\n",
            "\n",
            "Decrypted Text:\n",
            "**tho*t d*******ne, the ***e o* a *er*on **** *e*o*e d***\n",
            "and *na*t*ve.a**o, a d*******ned *er*on *an *ontro* and hand*e the\n",
            "**t*at*on o* **v*n* *n a *o*h**t**ated *a* than tho*e *ho\n",
            "do not.*oreover, ** *o* have a **an and *o* *ant\n",
            "to ****e*ent *t *n *o*r ***e then *o* need d*******ne.\n",
            "*t *a*e* th*n** ea** *or *o* to hand*e and **t**ate**\n",
            "*r*n* ****e** to *o*r ***e.** ta** a*o*t the t**e* o*\n",
            "d*******ne, then the* are *enera*** o* t*o t**e*. **r*t one\n",
            "** *nd**ed d*******ne and the *e*ond one ** *e**-d*******ne.*nd**ed d*******ne\n",
            "** *o*eth*n* that other* ta**ht ** or *e *earn **\n",
            "*ee*n* other*. *h**e *e**-d*******ne *o*e* *ro* **th*n and *e *earn\n",
            "*t on o*r o*n *e**. *e**-d*******ne re***re* a *ot o*\n",
            "*ot*vat*on and ****ort *ro* other*.a*ove a**, *o**o**n* *o*r da*** **hed**e\n",
            "**tho*t an* ***ta*e ** a**o *art o* *e*n* d*******ned.\n"
          ]
        }
      ]
    },
    {
      "cell_type": "markdown",
      "source": [
        "The phrase 'tho*e  *ho' of 3rd line would be 'those who'. The mapping:\n",
        "\n",
        "**w:s**\n",
        "\n",
        "**e:w**"
      ],
      "metadata": {
        "id": "JcCuIXoSvfOH"
      }
    },
    {
      "cell_type": "code",
      "source": [
        "mapping = {'l':'a','u':'t','p':'h','m':'e','t':'r','j':'v','o':'n',\n",
        "           'k':'d','z':'o','w':'s','e':'w'}\n",
        "algo(ciphertext_b, mapping, words_per_line)\n",
        "# freq_analyze(ciphertext_b)"
      ],
      "metadata": {
        "colab": {
          "base_uri": "https://localhost:8080/"
        },
        "id": "FMBpOr1FwJHG",
        "outputId": "4ac7620c-5b22-4d90-8aa7-ace9b1b83552"
      },
      "execution_count": 35,
      "outputs": [
        {
          "output_type": "stream",
          "name": "stdout",
          "text": [
            "Ciphertext:\n",
            "exupziu kxwqxagxom, upm gxsm zs l amtwzo exgg rmqzfm kigg\n",
            "lok xolquxjm.lgwz, l kxwqxagxomk amtwzo qlo qzoutzg lok plokgm upm\n",
            "wxuiluxzo zs gxjxoh xo l wzapxwuxqlumk elc uplo upzwm epz\n",
            "kz ozu.fztmzjmt, xs czi pljm l aglo lok czi elou\n",
            "uz xfagmfmou xu xo czit gxsm upmo czi ommk kxwqxagxom.\n",
            "xu flnmw upxohw mlwc szt czi uz plokgm lok iguxflumgc\n",
            "rtxoh wiqqmww uz czit gxsm.xs ulgn lrziu upm ucamw zs\n",
            "kxwqxagxom, upmo upmc ltm hmomtlggc zs uez ucamw. sxtwu zom\n",
            "xw xokiqmk kxwqxagxom lok upm wmqzok zom xw wmgs-kxwqxagxom.xokiqmk kxwqxagxom\n",
            "xw wzfmupxoh uplu zupmtw ulihpu iw zt em gmlto rc\n",
            "wmmxoh zupmtw. epxgm wmgs-kxwqxagxom qzfmw stzf exupxo lok em gmlto\n",
            "xu zo zit zeo wmgs. wmgs-kxwqxagxom tmyixtmw l gzu zs\n",
            "fzuxjluxzo lok wiaaztu stzf zupmtw.lrzjm lgg, szggzexoh czit klxgc wqpmkigm\n",
            "exupziu loc fxwulnm xw lgwz altu zs rmxoh kxwqxagxomk.\n",
            "\n",
            "Decrypted Text:\n",
            "w*tho*t d*s*****ne, the ***e o* a *erson w*** *e*o*e d***\n",
            "and *na*t*ve.a*so, a d*s*****ned *erson *an *ontro* and hand*e the\n",
            "s*t*at*on o* **v*n* *n a so*h*st**ated wa* than those who\n",
            "do not.*oreover, ** *o* have a **an and *o* want\n",
            "to ****e*ent *t *n *o*r ***e then *o* need d*s*****ne.\n",
            "*t *a*es th*n*s eas* *or *o* to hand*e and **t**ate**\n",
            "*r*n* s***ess to *o*r ***e.** ta** a*o*t the t**es o*\n",
            "d*s*****ne, then the* are *enera*** o* two t**es. **rst one\n",
            "*s *nd**ed d*s*****ne and the se*ond one *s se**-d*s*****ne.*nd**ed d*s*****ne\n",
            "*s so*eth*n* that others ta**ht *s or we *earn **\n",
            "see*n* others. wh**e se**-d*s*****ne *o*es *ro* w*th*n and we *earn\n",
            "*t on o*r own se**. se**-d*s*****ne re***res a *ot o*\n",
            "*ot*vat*on and s***ort *ro* others.a*ove a**, *o**ow*n* *o*r da*** s*hed**e\n",
            "w*tho*t an* **sta*e *s a*so *art o* *e*n* d*s*****ned.\n"
          ]
        }
      ]
    },
    {
      "cell_type": "markdown",
      "source": [
        "The word 'a*so' would be 'also'. So, the mapping:\n",
        "\n",
        "**g : l**"
      ],
      "metadata": {
        "id": "mEI2HjcRw0Lk"
      }
    },
    {
      "cell_type": "code",
      "source": [
        "mapping = {'l':'a','u':'t','p':'h','m':'e','t':'r','j':'v','o':'n',\n",
        "           'k':'d','z':'o','w':'s','e':'w','g':'l'}\n",
        "algo(ciphertext_b, mapping, words_per_line)\n",
        "# freq_analyze(ciphertext_b)"
      ],
      "metadata": {
        "colab": {
          "base_uri": "https://localhost:8080/"
        },
        "id": "IRkMjE0qxQuk",
        "outputId": "473a67c7-9467-4d83-f903-ce35c01013fa"
      },
      "execution_count": 36,
      "outputs": [
        {
          "output_type": "stream",
          "name": "stdout",
          "text": [
            "Ciphertext:\n",
            "exupziu kxwqxagxom, upm gxsm zs l amtwzo exgg rmqzfm kigg\n",
            "lok xolquxjm.lgwz, l kxwqxagxomk amtwzo qlo qzoutzg lok plokgm upm\n",
            "wxuiluxzo zs gxjxoh xo l wzapxwuxqlumk elc uplo upzwm epz\n",
            "kz ozu.fztmzjmt, xs czi pljm l aglo lok czi elou\n",
            "uz xfagmfmou xu xo czit gxsm upmo czi ommk kxwqxagxom.\n",
            "xu flnmw upxohw mlwc szt czi uz plokgm lok iguxflumgc\n",
            "rtxoh wiqqmww uz czit gxsm.xs ulgn lrziu upm ucamw zs\n",
            "kxwqxagxom, upmo upmc ltm hmomtlggc zs uez ucamw. sxtwu zom\n",
            "xw xokiqmk kxwqxagxom lok upm wmqzok zom xw wmgs-kxwqxagxom.xokiqmk kxwqxagxom\n",
            "xw wzfmupxoh uplu zupmtw ulihpu iw zt em gmlto rc\n",
            "wmmxoh zupmtw. epxgm wmgs-kxwqxagxom qzfmw stzf exupxo lok em gmlto\n",
            "xu zo zit zeo wmgs. wmgs-kxwqxagxom tmyixtmw l gzu zs\n",
            "fzuxjluxzo lok wiaaztu stzf zupmtw.lrzjm lgg, szggzexoh czit klxgc wqpmkigm\n",
            "exupziu loc fxwulnm xw lgwz altu zs rmxoh kxwqxagxomk.\n",
            "\n",
            "Decrypted Text:\n",
            "w*tho*t d*s***l*ne, the l**e o* a *erson w*ll *e*o*e d*ll\n",
            "and *na*t*ve.also, a d*s***l*ned *erson *an *ontrol and handle the\n",
            "s*t*at*on o* l*v*n* *n a so*h*st**ated wa* than those who\n",
            "do not.*oreover, ** *o* have a *lan and *o* want\n",
            "to ***le*ent *t *n *o*r l**e then *o* need d*s***l*ne.\n",
            "*t *a*es th*n*s eas* *or *o* to handle and *lt**atel*\n",
            "*r*n* s***ess to *o*r l**e.** tal* a*o*t the t**es o*\n",
            "d*s***l*ne, then the* are *enerall* o* two t**es. **rst one\n",
            "*s *nd**ed d*s***l*ne and the se*ond one *s sel*-d*s***l*ne.*nd**ed d*s***l*ne\n",
            "*s so*eth*n* that others ta**ht *s or we learn **\n",
            "see*n* others. wh*le sel*-d*s***l*ne *o*es *ro* w*th*n and we learn\n",
            "*t on o*r own sel*. sel*-d*s***l*ne re***res a lot o*\n",
            "*ot*vat*on and s***ort *ro* others.a*ove all, *ollow*n* *o*r da*l* s*hed*le\n",
            "w*tho*t an* **sta*e *s also *art o* *e*n* d*s***l*ned.\n"
          ]
        }
      ]
    },
    {
      "cell_type": "markdown",
      "source": [
        "The phrase 'a * erson w * ll' would be 'a person will'. So, the mapping:\n",
        "\n",
        "**a:p**\n",
        "\n",
        "**x:i**\n",
        "\n",
        "We got here the most frequent letter 'x'. That's amazing."
      ],
      "metadata": {
        "id": "Y9EBRb-Zxg1i"
      }
    },
    {
      "cell_type": "code",
      "source": [
        "mapping = {'l':'a','u':'t','p':'h','m':'e','t':'r','j':'v','o':'n',\n",
        "           'k':'d','z':'o','w':'s','e':'w','g':'l','a':'p','x':'i'}\n",
        "algo(ciphertext_b, mapping, words_per_line)\n",
        "# freq_analyze(ciphertext_b)"
      ],
      "metadata": {
        "colab": {
          "base_uri": "https://localhost:8080/"
        },
        "id": "9g4uup6ByX8x",
        "outputId": "29be6139-075c-4992-8671-6f586cccb875"
      },
      "execution_count": 37,
      "outputs": [
        {
          "output_type": "stream",
          "name": "stdout",
          "text": [
            "Ciphertext:\n",
            "exupziu kxwqxagxom, upm gxsm zs l amtwzo exgg rmqzfm kigg\n",
            "lok xolquxjm.lgwz, l kxwqxagxomk amtwzo qlo qzoutzg lok plokgm upm\n",
            "wxuiluxzo zs gxjxoh xo l wzapxwuxqlumk elc uplo upzwm epz\n",
            "kz ozu.fztmzjmt, xs czi pljm l aglo lok czi elou\n",
            "uz xfagmfmou xu xo czit gxsm upmo czi ommk kxwqxagxom.\n",
            "xu flnmw upxohw mlwc szt czi uz plokgm lok iguxflumgc\n",
            "rtxoh wiqqmww uz czit gxsm.xs ulgn lrziu upm ucamw zs\n",
            "kxwqxagxom, upmo upmc ltm hmomtlggc zs uez ucamw. sxtwu zom\n",
            "xw xokiqmk kxwqxagxom lok upm wmqzok zom xw wmgs-kxwqxagxom.xokiqmk kxwqxagxom\n",
            "xw wzfmupxoh uplu zupmtw ulihpu iw zt em gmlto rc\n",
            "wmmxoh zupmtw. epxgm wmgs-kxwqxagxom qzfmw stzf exupxo lok em gmlto\n",
            "xu zo zit zeo wmgs. wmgs-kxwqxagxom tmyixtmw l gzu zs\n",
            "fzuxjluxzo lok wiaaztu stzf zupmtw.lrzjm lgg, szggzexoh czit klxgc wqpmkigm\n",
            "exupziu loc fxwulnm xw lgwz altu zs rmxoh kxwqxagxomk.\n",
            "\n",
            "Decrypted Text:\n",
            "witho*t dis*ipline, the li*e o* a person will *e*o*e d*ll\n",
            "and ina*tive.also, a dis*iplined person *an *ontrol and handle the\n",
            "sit*ation o* livin* in a sophisti*ated wa* than those who\n",
            "do not.*oreover, i* *o* have a plan and *o* want\n",
            "to i*ple*ent it in *o*r li*e then *o* need dis*ipline.\n",
            "it *a*es thin*s eas* *or *o* to handle and *lti*atel*\n",
            "*rin* s***ess to *o*r li*e.i* tal* a*o*t the t*pes o*\n",
            "dis*ipline, then the* are *enerall* o* two t*pes. *irst one\n",
            "is ind**ed dis*ipline and the se*ond one is sel*-dis*ipline.ind**ed dis*ipline\n",
            "is so*ethin* that others ta**ht *s or we learn **\n",
            "seein* others. while sel*-dis*ipline *o*es *ro* within and we learn\n",
            "it on o*r own sel*. sel*-dis*ipline re**ires a lot o*\n",
            "*otivation and s*pport *ro* others.a*ove all, *ollowin* *o*r dail* s*hed*le\n",
            "witho*t an* *ista*e is also part o* *ein* dis*iplined.\n"
          ]
        }
      ]
    },
    {
      "cell_type": "markdown",
      "source": [
        "The phrase 'witho * t dis * ipline' would be 'without discipline'. The mapping will be:\n",
        "\n",
        "**i:o**\n",
        "\n",
        "**q:c**"
      ],
      "metadata": {
        "id": "jiDVDZDczBLZ"
      }
    },
    {
      "cell_type": "code",
      "source": [
        "mapping = {'l':'a','u':'t','p':'h','m':'e','t':'r','j':'v','o':'n','k':'d',\n",
        "           'z':'o','w':'s','e':'w','g':'l','a':'p','x':'i','i':'o','q':'c'}\n",
        "algo(ciphertext_b, mapping, words_per_line)\n",
        "# freq_analyze(ciphertext_b)"
      ],
      "metadata": {
        "colab": {
          "base_uri": "https://localhost:8080/"
        },
        "id": "RI0xkblHzYbg",
        "outputId": "9a95720a-9f43-44a8-fe7a-cfa03137a1ac"
      },
      "execution_count": 38,
      "outputs": [
        {
          "output_type": "stream",
          "name": "stdout",
          "text": [
            "Ciphertext:\n",
            "exupziu kxwqxagxom, upm gxsm zs l amtwzo exgg rmqzfm kigg\n",
            "lok xolquxjm.lgwz, l kxwqxagxomk amtwzo qlo qzoutzg lok plokgm upm\n",
            "wxuiluxzo zs gxjxoh xo l wzapxwuxqlumk elc uplo upzwm epz\n",
            "kz ozu.fztmzjmt, xs czi pljm l aglo lok czi elou\n",
            "uz xfagmfmou xu xo czit gxsm upmo czi ommk kxwqxagxom.\n",
            "xu flnmw upxohw mlwc szt czi uz plokgm lok iguxflumgc\n",
            "rtxoh wiqqmww uz czit gxsm.xs ulgn lrziu upm ucamw zs\n",
            "kxwqxagxom, upmo upmc ltm hmomtlggc zs uez ucamw. sxtwu zom\n",
            "xw xokiqmk kxwqxagxom lok upm wmqzok zom xw wmgs-kxwqxagxom.xokiqmk kxwqxagxom\n",
            "xw wzfmupxoh uplu zupmtw ulihpu iw zt em gmlto rc\n",
            "wmmxoh zupmtw. epxgm wmgs-kxwqxagxom qzfmw stzf exupxo lok em gmlto\n",
            "xu zo zit zeo wmgs. wmgs-kxwqxagxom tmyixtmw l gzu zs\n",
            "fzuxjluxzo lok wiaaztu stzf zupmtw.lrzjm lgg, szggzexoh czit klxgc wqpmkigm\n",
            "exupziu loc fxwulnm xw lgwz altu zs rmxoh kxwqxagxomk.\n",
            "\n",
            "Decrypted Text:\n",
            "withoot discipline, the li*e o* a person will *eco*e doll\n",
            "and inactive.also, a disciplined person can control and handle the\n",
            "sitoation o* livin* in a sophisticated wa* than those who\n",
            "do not.*oreover, i* *oo have a plan and *oo want\n",
            "to i*ple*ent it in *oor li*e then *oo need discipline.\n",
            "it *a*es thin*s eas* *or *oo to handle and olti*atel*\n",
            "*rin* soccess to *oor li*e.i* tal* a*oot the t*pes o*\n",
            "discipline, then the* are *enerall* o* two t*pes. *irst one\n",
            "is indoced discipline and the second one is sel*-discipline.indoced discipline\n",
            "is so*ethin* that others tao*ht os or we learn **\n",
            "seein* others. while sel*-discipline co*es *ro* within and we learn\n",
            "it on oor own sel*. sel*-discipline re*oires a lot o*\n",
            "*otivation and sopport *ro* others.a*ove all, *ollowin* *oor dail* schedole\n",
            "withoot an* *ista*e is also part o* *ein* disciplined.\n",
            "\n",
            "Duplicate mappings found:\n",
            "o: z, i\n"
          ]
        }
      ]
    },
    {
      "cell_type": "markdown",
      "source": [
        "The last word of 13th line is 'schedole'. But there is no such word in english dictonary. The word would be 'schedule'. The mapping:\n",
        "\n",
        "**i : u**"
      ],
      "metadata": {
        "id": "eShxyd-lzxEs"
      }
    },
    {
      "cell_type": "code",
      "source": [
        "mapping = {'l':'a','u':'t','p':'h','m':'e','t':'r','j':'v','o':'n','k':'d','z':'o',\n",
        "           'w':'s','e':'w','g':'l','a':'p','x':'i','i':'u','q':'c'}\n",
        "algo(ciphertext_b, mapping, words_per_line)\n",
        "# freq_analyze(ciphertext_b)"
      ],
      "metadata": {
        "colab": {
          "base_uri": "https://localhost:8080/"
        },
        "id": "iDlRCG650Rxq",
        "outputId": "5514f983-3873-4355-801a-5192c8df8cbe"
      },
      "execution_count": 39,
      "outputs": [
        {
          "output_type": "stream",
          "name": "stdout",
          "text": [
            "Ciphertext:\n",
            "exupziu kxwqxagxom, upm gxsm zs l amtwzo exgg rmqzfm kigg\n",
            "lok xolquxjm.lgwz, l kxwqxagxomk amtwzo qlo qzoutzg lok plokgm upm\n",
            "wxuiluxzo zs gxjxoh xo l wzapxwuxqlumk elc uplo upzwm epz\n",
            "kz ozu.fztmzjmt, xs czi pljm l aglo lok czi elou\n",
            "uz xfagmfmou xu xo czit gxsm upmo czi ommk kxwqxagxom.\n",
            "xu flnmw upxohw mlwc szt czi uz plokgm lok iguxflumgc\n",
            "rtxoh wiqqmww uz czit gxsm.xs ulgn lrziu upm ucamw zs\n",
            "kxwqxagxom, upmo upmc ltm hmomtlggc zs uez ucamw. sxtwu zom\n",
            "xw xokiqmk kxwqxagxom lok upm wmqzok zom xw wmgs-kxwqxagxom.xokiqmk kxwqxagxom\n",
            "xw wzfmupxoh uplu zupmtw ulihpu iw zt em gmlto rc\n",
            "wmmxoh zupmtw. epxgm wmgs-kxwqxagxom qzfmw stzf exupxo lok em gmlto\n",
            "xu zo zit zeo wmgs. wmgs-kxwqxagxom tmyixtmw l gzu zs\n",
            "fzuxjluxzo lok wiaaztu stzf zupmtw.lrzjm lgg, szggzexoh czit klxgc wqpmkigm\n",
            "exupziu loc fxwulnm xw lgwz altu zs rmxoh kxwqxagxomk.\n",
            "\n",
            "Decrypted Text:\n",
            "without discipline, the li*e o* a person will *eco*e dull\n",
            "and inactive.also, a disciplined person can control and handle the\n",
            "situation o* livin* in a sophisticated wa* than those who\n",
            "do not.*oreover, i* *ou have a plan and *ou want\n",
            "to i*ple*ent it in *our li*e then *ou need discipline.\n",
            "it *a*es thin*s eas* *or *ou to handle and ulti*atel*\n",
            "*rin* success to *our li*e.i* tal* a*out the t*pes o*\n",
            "discipline, then the* are *enerall* o* two t*pes. *irst one\n",
            "is induced discipline and the second one is sel*-discipline.induced discipline\n",
            "is so*ethin* that others tau*ht us or we learn **\n",
            "seein* others. while sel*-discipline co*es *ro* within and we learn\n",
            "it on our own sel*. sel*-discipline re*uires a lot o*\n",
            "*otivation and support *ro* others.a*ove all, *ollowin* *our dail* schedule\n",
            "without an* *ista*e is also part o* *ein* disciplined.\n"
          ]
        }
      ]
    },
    {
      "cell_type": "markdown",
      "source": [
        "In the first line 'without discipline, the li*e o* a person will' would be 'without discipline, the life of a person will'. The mapping:\n",
        "\n",
        "**s:f**"
      ],
      "metadata": {
        "id": "Ca3qM_mr0Y_R"
      }
    },
    {
      "cell_type": "code",
      "source": [
        "mapping = {'l':'a','u':'t','p':'h','m':'e','t':'r','j':'v','o':'n','k':'d',\n",
        "           'z':'o','w':'s','e':'w','g':'l','a':'p','x':'i','i':'u','q':'c','s':'f'}\n",
        "algo(ciphertext_b, mapping, words_per_line)\n",
        "# freq_analyze(ciphertext_b)"
      ],
      "metadata": {
        "colab": {
          "base_uri": "https://localhost:8080/"
        },
        "id": "A1thGjQn0q5i",
        "outputId": "40d45b86-ae8a-4be5-d996-85d575bfd9a8"
      },
      "execution_count": 40,
      "outputs": [
        {
          "output_type": "stream",
          "name": "stdout",
          "text": [
            "Ciphertext:\n",
            "exupziu kxwqxagxom, upm gxsm zs l amtwzo exgg rmqzfm kigg\n",
            "lok xolquxjm.lgwz, l kxwqxagxomk amtwzo qlo qzoutzg lok plokgm upm\n",
            "wxuiluxzo zs gxjxoh xo l wzapxwuxqlumk elc uplo upzwm epz\n",
            "kz ozu.fztmzjmt, xs czi pljm l aglo lok czi elou\n",
            "uz xfagmfmou xu xo czit gxsm upmo czi ommk kxwqxagxom.\n",
            "xu flnmw upxohw mlwc szt czi uz plokgm lok iguxflumgc\n",
            "rtxoh wiqqmww uz czit gxsm.xs ulgn lrziu upm ucamw zs\n",
            "kxwqxagxom, upmo upmc ltm hmomtlggc zs uez ucamw. sxtwu zom\n",
            "xw xokiqmk kxwqxagxom lok upm wmqzok zom xw wmgs-kxwqxagxom.xokiqmk kxwqxagxom\n",
            "xw wzfmupxoh uplu zupmtw ulihpu iw zt em gmlto rc\n",
            "wmmxoh zupmtw. epxgm wmgs-kxwqxagxom qzfmw stzf exupxo lok em gmlto\n",
            "xu zo zit zeo wmgs. wmgs-kxwqxagxom tmyixtmw l gzu zs\n",
            "fzuxjluxzo lok wiaaztu stzf zupmtw.lrzjm lgg, szggzexoh czit klxgc wqpmkigm\n",
            "exupziu loc fxwulnm xw lgwz altu zs rmxoh kxwqxagxomk.\n",
            "\n",
            "Decrypted Text:\n",
            "without discipline, the life of a person will *eco*e dull\n",
            "and inactive.also, a disciplined person can control and handle the\n",
            "situation of livin* in a sophisticated wa* than those who\n",
            "do not.*oreover, if *ou have a plan and *ou want\n",
            "to i*ple*ent it in *our life then *ou need discipline.\n",
            "it *a*es thin*s eas* for *ou to handle and ulti*atel*\n",
            "*rin* success to *our life.if tal* a*out the t*pes of\n",
            "discipline, then the* are *enerall* of two t*pes. first one\n",
            "is induced discipline and the second one is self-discipline.induced discipline\n",
            "is so*ethin* that others tau*ht us or we learn **\n",
            "seein* others. while self-discipline co*es fro* within and we learn\n",
            "it on our own self. self-discipline re*uires a lot of\n",
            "*otivation and support fro* others.a*ove all, followin* *our dail* schedule\n",
            "without an* *ista*e is also part of *ein* disciplined.\n"
          ]
        }
      ]
    },
    {
      "cell_type": "markdown",
      "source": [
        "The phrase 'a*ove all, followin * *our dail * schedule' would be 'above all, following your daily schedule' in the 2nd last line. The mapping:\n",
        "\n",
        "**r : b**\n",
        "\n",
        "**h : g**\n",
        "\n",
        "**c : y**"
      ],
      "metadata": {
        "id": "df6cR42m0_MP"
      }
    },
    {
      "cell_type": "code",
      "source": [
        "mapping = {'l':'a','u':'t','p':'h','m':'e','t':'r','j':'v','o':'n','k':'d','z':'o',\n",
        "           'w':'s','e':'w','g':'l','a':'p','x':'i','i':'u','q':'c','s':'f',\n",
        "           'r':'b','h':'g','c':'y'}\n",
        "algo(ciphertext_b, mapping, words_per_line)\n",
        "# freq_analyze(ciphertext_b)"
      ],
      "metadata": {
        "colab": {
          "base_uri": "https://localhost:8080/"
        },
        "id": "Xw9dtB9-BrBs",
        "outputId": "4b71e8d5-b8a7-4082-8816-760aac5b3c85"
      },
      "execution_count": 41,
      "outputs": [
        {
          "output_type": "stream",
          "name": "stdout",
          "text": [
            "Ciphertext:\n",
            "exupziu kxwqxagxom, upm gxsm zs l amtwzo exgg rmqzfm kigg\n",
            "lok xolquxjm.lgwz, l kxwqxagxomk amtwzo qlo qzoutzg lok plokgm upm\n",
            "wxuiluxzo zs gxjxoh xo l wzapxwuxqlumk elc uplo upzwm epz\n",
            "kz ozu.fztmzjmt, xs czi pljm l aglo lok czi elou\n",
            "uz xfagmfmou xu xo czit gxsm upmo czi ommk kxwqxagxom.\n",
            "xu flnmw upxohw mlwc szt czi uz plokgm lok iguxflumgc\n",
            "rtxoh wiqqmww uz czit gxsm.xs ulgn lrziu upm ucamw zs\n",
            "kxwqxagxom, upmo upmc ltm hmomtlggc zs uez ucamw. sxtwu zom\n",
            "xw xokiqmk kxwqxagxom lok upm wmqzok zom xw wmgs-kxwqxagxom.xokiqmk kxwqxagxom\n",
            "xw wzfmupxoh uplu zupmtw ulihpu iw zt em gmlto rc\n",
            "wmmxoh zupmtw. epxgm wmgs-kxwqxagxom qzfmw stzf exupxo lok em gmlto\n",
            "xu zo zit zeo wmgs. wmgs-kxwqxagxom tmyixtmw l gzu zs\n",
            "fzuxjluxzo lok wiaaztu stzf zupmtw.lrzjm lgg, szggzexoh czit klxgc wqpmkigm\n",
            "exupziu loc fxwulnm xw lgwz altu zs rmxoh kxwqxagxomk.\n",
            "\n",
            "Decrypted Text:\n",
            "without discipline, the life of a person will beco*e dull\n",
            "and inactive.also, a disciplined person can control and handle the\n",
            "situation of living in a sophisticated way than those who\n",
            "do not.*oreover, if you have a plan and you want\n",
            "to i*ple*ent it in your life then you need discipline.\n",
            "it *a*es things easy for you to handle and ulti*ately\n",
            "bring success to your life.if tal* about the types of\n",
            "discipline, then they are generally of two types. first one\n",
            "is induced discipline and the second one is self-discipline.induced discipline\n",
            "is so*ething that others taught us or we learn by\n",
            "seeing others. while self-discipline co*es fro* within and we learn\n",
            "it on our own self. self-discipline re*uires a lot of\n",
            "*otivation and support fro* others.above all, following your daily schedule\n",
            "without any *ista*e is also part of being disciplined.\n"
          ]
        }
      ]
    },
    {
      "cell_type": "markdown",
      "source": [
        "The word 'beco*e' in the first line would be 'become'. The mapping:\n",
        "\n",
        "**f:m**"
      ],
      "metadata": {
        "id": "Pno1xvA3CLis"
      }
    },
    {
      "cell_type": "code",
      "source": [
        "mapping = {'l':'a','u':'t','p':'h','m':'e','t':'r','j':'v','o':'n','k':'d',\n",
        "           'z':'o','w':'s','e':'w','g':'l','a':'p','x':'i','i':'u','q':'c',\n",
        "           's':'f','r':'b','h':'g','c':'y','f':'m'}\n",
        "algo(ciphertext_b, mapping, words_per_line)\n",
        "# freq_analyze(ciphertext_b)"
      ],
      "metadata": {
        "colab": {
          "base_uri": "https://localhost:8080/"
        },
        "id": "nyDofEB_CYML",
        "outputId": "57b4cfcd-0900-4485-e390-87e3f9cb5a23"
      },
      "execution_count": 42,
      "outputs": [
        {
          "output_type": "stream",
          "name": "stdout",
          "text": [
            "Ciphertext:\n",
            "exupziu kxwqxagxom, upm gxsm zs l amtwzo exgg rmqzfm kigg\n",
            "lok xolquxjm.lgwz, l kxwqxagxomk amtwzo qlo qzoutzg lok plokgm upm\n",
            "wxuiluxzo zs gxjxoh xo l wzapxwuxqlumk elc uplo upzwm epz\n",
            "kz ozu.fztmzjmt, xs czi pljm l aglo lok czi elou\n",
            "uz xfagmfmou xu xo czit gxsm upmo czi ommk kxwqxagxom.\n",
            "xu flnmw upxohw mlwc szt czi uz plokgm lok iguxflumgc\n",
            "rtxoh wiqqmww uz czit gxsm.xs ulgn lrziu upm ucamw zs\n",
            "kxwqxagxom, upmo upmc ltm hmomtlggc zs uez ucamw. sxtwu zom\n",
            "xw xokiqmk kxwqxagxom lok upm wmqzok zom xw wmgs-kxwqxagxom.xokiqmk kxwqxagxom\n",
            "xw wzfmupxoh uplu zupmtw ulihpu iw zt em gmlto rc\n",
            "wmmxoh zupmtw. epxgm wmgs-kxwqxagxom qzfmw stzf exupxo lok em gmlto\n",
            "xu zo zit zeo wmgs. wmgs-kxwqxagxom tmyixtmw l gzu zs\n",
            "fzuxjluxzo lok wiaaztu stzf zupmtw.lrzjm lgg, szggzexoh czit klxgc wqpmkigm\n",
            "exupziu loc fxwulnm xw lgwz altu zs rmxoh kxwqxagxomk.\n",
            "\n",
            "Decrypted Text:\n",
            "without discipline, the life of a person will become dull\n",
            "and inactive.also, a disciplined person can control and handle the\n",
            "situation of living in a sophisticated way than those who\n",
            "do not.moreover, if you have a plan and you want\n",
            "to implement it in your life then you need discipline.\n",
            "it ma*es things easy for you to handle and ultimately\n",
            "bring success to your life.if tal* about the types of\n",
            "discipline, then they are generally of two types. first one\n",
            "is induced discipline and the second one is self-discipline.induced discipline\n",
            "is something that others taught us or we learn by\n",
            "seeing others. while self-discipline comes from within and we learn\n",
            "it on our own self. self-discipline re*uires a lot of\n",
            "motivation and support from others.above all, following your daily schedule\n",
            "without any mista*e is also part of being disciplined.\n"
          ]
        }
      ]
    },
    {
      "cell_type": "markdown",
      "source": [
        "The word 'ma*es' in the 6th line would be 'makes'. The mapping:\n",
        "\n",
        "**n:k**"
      ],
      "metadata": {
        "id": "jMrQlJ7sCmeK"
      }
    },
    {
      "cell_type": "code",
      "source": [
        "mapping = {'l':'a','u':'t','p':'h','m':'e','t':'r','j':'v','o':'n',\n",
        "           'k':'d','z':'o','w':'s','e':'w','g':'l','a':'p','x':'i',\n",
        "           'i':'u','q':'c','s':'f','r':'b','h':'g','c':'y','f':'m','n':'k'}\n",
        "algo(ciphertext_b, mapping, words_per_line)\n",
        "# freq_analyze(ciphertext_b)"
      ],
      "metadata": {
        "colab": {
          "base_uri": "https://localhost:8080/"
        },
        "id": "Hc1kGtmsC90i",
        "outputId": "b851725c-945d-497d-a712-90bbe279ddb5"
      },
      "execution_count": 43,
      "outputs": [
        {
          "output_type": "stream",
          "name": "stdout",
          "text": [
            "Ciphertext:\n",
            "exupziu kxwqxagxom, upm gxsm zs l amtwzo exgg rmqzfm kigg\n",
            "lok xolquxjm.lgwz, l kxwqxagxomk amtwzo qlo qzoutzg lok plokgm upm\n",
            "wxuiluxzo zs gxjxoh xo l wzapxwuxqlumk elc uplo upzwm epz\n",
            "kz ozu.fztmzjmt, xs czi pljm l aglo lok czi elou\n",
            "uz xfagmfmou xu xo czit gxsm upmo czi ommk kxwqxagxom.\n",
            "xu flnmw upxohw mlwc szt czi uz plokgm lok iguxflumgc\n",
            "rtxoh wiqqmww uz czit gxsm.xs ulgn lrziu upm ucamw zs\n",
            "kxwqxagxom, upmo upmc ltm hmomtlggc zs uez ucamw. sxtwu zom\n",
            "xw xokiqmk kxwqxagxom lok upm wmqzok zom xw wmgs-kxwqxagxom.xokiqmk kxwqxagxom\n",
            "xw wzfmupxoh uplu zupmtw ulihpu iw zt em gmlto rc\n",
            "wmmxoh zupmtw. epxgm wmgs-kxwqxagxom qzfmw stzf exupxo lok em gmlto\n",
            "xu zo zit zeo wmgs. wmgs-kxwqxagxom tmyixtmw l gzu zs\n",
            "fzuxjluxzo lok wiaaztu stzf zupmtw.lrzjm lgg, szggzexoh czit klxgc wqpmkigm\n",
            "exupziu loc fxwulnm xw lgwz altu zs rmxoh kxwqxagxomk.\n",
            "\n",
            "Decrypted Text:\n",
            "without discipline, the life of a person will become dull\n",
            "and inactive.also, a disciplined person can control and handle the\n",
            "situation of living in a sophisticated way than those who\n",
            "do not.moreover, if you have a plan and you want\n",
            "to implement it in your life then you need discipline.\n",
            "it makes things easy for you to handle and ultimately\n",
            "bring success to your life.if talk about the types of\n",
            "discipline, then they are generally of two types. first one\n",
            "is induced discipline and the second one is self-discipline.induced discipline\n",
            "is something that others taught us or we learn by\n",
            "seeing others. while self-discipline comes from within and we learn\n",
            "it on our own self. self-discipline re*uires a lot of\n",
            "motivation and support from others.above all, following your daily schedule\n",
            "without any mistake is also part of being disciplined.\n"
          ]
        }
      ]
    },
    {
      "cell_type": "markdown",
      "source": [
        "The one left word 're*uries' would be 'requires'. The mapping:\n",
        "\n",
        "**y:q**"
      ],
      "metadata": {
        "id": "4Rz5Sh-IC8Es"
      }
    },
    {
      "cell_type": "code",
      "source": [
        "mapping = {'l':'a','u':'t','p':'h','m':'e','t':'r','j':'v',\n",
        "           'o':'n','k':'d','z':'o','w':'s','e':'w','g':'l','a':'p',\n",
        "           'x':'i','i':'u','q':'c','s':'f','r':'b','h':'g','c':'y',\n",
        "           'f':'m','n':'k','y':'q'}\n",
        "algo(ciphertext_b, mapping, words_per_line)\n",
        "# freq_analyze(ciphertext_b)"
      ],
      "metadata": {
        "colab": {
          "base_uri": "https://localhost:8080/"
        },
        "id": "v7O9yCJyDRhU",
        "outputId": "9daf87b6-5f0d-4510-e7c5-1d8c09c358a1"
      },
      "execution_count": 44,
      "outputs": [
        {
          "output_type": "stream",
          "name": "stdout",
          "text": [
            "Ciphertext:\n",
            "exupziu kxwqxagxom, upm gxsm zs l amtwzo exgg rmqzfm kigg\n",
            "lok xolquxjm.lgwz, l kxwqxagxomk amtwzo qlo qzoutzg lok plokgm upm\n",
            "wxuiluxzo zs gxjxoh xo l wzapxwuxqlumk elc uplo upzwm epz\n",
            "kz ozu.fztmzjmt, xs czi pljm l aglo lok czi elou\n",
            "uz xfagmfmou xu xo czit gxsm upmo czi ommk kxwqxagxom.\n",
            "xu flnmw upxohw mlwc szt czi uz plokgm lok iguxflumgc\n",
            "rtxoh wiqqmww uz czit gxsm.xs ulgn lrziu upm ucamw zs\n",
            "kxwqxagxom, upmo upmc ltm hmomtlggc zs uez ucamw. sxtwu zom\n",
            "xw xokiqmk kxwqxagxom lok upm wmqzok zom xw wmgs-kxwqxagxom.xokiqmk kxwqxagxom\n",
            "xw wzfmupxoh uplu zupmtw ulihpu iw zt em gmlto rc\n",
            "wmmxoh zupmtw. epxgm wmgs-kxwqxagxom qzfmw stzf exupxo lok em gmlto\n",
            "xu zo zit zeo wmgs. wmgs-kxwqxagxom tmyixtmw l gzu zs\n",
            "fzuxjluxzo lok wiaaztu stzf zupmtw.lrzjm lgg, szggzexoh czit klxgc wqpmkigm\n",
            "exupziu loc fxwulnm xw lgwz altu zs rmxoh kxwqxagxomk.\n",
            "\n",
            "Decrypted Text:\n",
            "without discipline, the life of a person will become dull\n",
            "and inactive.also, a disciplined person can control and handle the\n",
            "situation of living in a sophisticated way than those who\n",
            "do not.moreover, if you have a plan and you want\n",
            "to implement it in your life then you need discipline.\n",
            "it makes things easy for you to handle and ultimately\n",
            "bring success to your life.if talk about the types of\n",
            "discipline, then they are generally of two types. first one\n",
            "is induced discipline and the second one is self-discipline.induced discipline\n",
            "is something that others taught us or we learn by\n",
            "seeing others. while self-discipline comes from within and we learn\n",
            "it on our own self. self-discipline requires a lot of\n",
            "motivation and support from others.above all, following your daily schedule\n",
            "without any mistake is also part of being disciplined.\n"
          ]
        }
      ]
    },
    {
      "cell_type": "markdown",
      "source": [
        "Thus we decrypted our cipher into plaintext. And the plaintext is:\n",
        "\n",
        "**without discipline, the life of a person will become dull\n",
        "and inactive.also, a disciplined person can control and handle the\n",
        "situation of living in a sophisticated way than those who\n",
        "do not.moreover, if you have a plan and you want\n",
        "to implement it in your life then you need discipline.\n",
        "it makes things easy for you to handle and ultimately\n",
        "bring success to your life.if talk about the types of\n",
        "discipline, then they are generally of two types. first one\n",
        "is induced discipline and the second one is self-discipline.induced discipline\n",
        "is something that others taught us or we learn by\n",
        "seeing others. while self-discipline comes from within and we learn\n",
        "it on our own self. self-discipline requires a lot of\n",
        "motivation and support from others.above all, following your daily schedule\n",
        "without any mistake is also part of being disciplined.**"
      ],
      "metadata": {
        "id": "KyH6kqYHER-I"
      }
    },
    {
      "cell_type": "markdown",
      "source": [
        "##**2.(c)**"
      ],
      "metadata": {
        "id": "_2ZfjTdzEoC2"
      }
    },
    {
      "cell_type": "markdown",
      "source": [
        "*AUHC MVKFC V BYZUGC V IZMC CJ GUMBZYAZD UKUVM.\n",
        "VC HZZGZB CJ GZ, V HCJJB PD CFZ VYJM KUCZ AZUBVMK CJ CFZ\n",
        "BYVWZ UMB OJY U IFVAZ, V TJNAB MJC ZMCZY.\n",
        "OJY CFZ IUD, VC IUH PUYYZB CJ GZ.*"
      ],
      "metadata": {
        "id": "Tymrm7sBE0pE"
      }
    },
    {
      "cell_type": "code",
      "source": [
        "# Provided ciphertext\n",
        "ciphertext_c= \"\"\"AUHC MVKFC V BYZUGC V IZMC CJ GUMBZYAZD\n",
        "UKUVM. VC HZZGZB CJ GZ, V HCJJB PD CFZ VYJM KUCZ AZUBVMK CJ\n",
        "CFZ BYVWZ UMB OJY U IFVAZ, V TJNAB MJC ZMCZY. OJY CFZ IUD, VC IUH PUYYZB CJ GZ.\n",
        "\"\"\""
      ],
      "metadata": {
        "id": "zZNGAoY-E0-D"
      },
      "execution_count": 45,
      "outputs": []
    },
    {
      "cell_type": "code",
      "source": [
        "mapping = {}\n",
        "algo(ciphertext_c, mapping, words_per_line)\n",
        "freq_analyze(ciphertext_c)"
      ],
      "metadata": {
        "colab": {
          "base_uri": "https://localhost:8080/"
        },
        "id": "khmIOPhGFJZ1",
        "outputId": "84d12a2d-15af-4623-a50c-b02de3b95f77"
      },
      "execution_count": 46,
      "outputs": [
        {
          "output_type": "stream",
          "name": "stdout",
          "text": [
            "Ciphertext:\n",
            "AUHC MVKFC V BYZUGC V IZMC CJ GUMBZYAZD UKUVM. VC\n",
            "HZZGZB CJ GZ, V HCJJB PD CFZ VYJM KUCZ AZUBVMK\n",
            "CJ CFZ BYVWZ UMB OJY U IFVAZ, V TJNAB MJC\n",
            "ZMCZY. OJY CFZ IUD, VC IUH PUYYZB CJ GZ.\n",
            "\n",
            "Decrypted Text:\n",
            "**** ***** * ****** * **** ** ********* *****. **\n",
            "****** ** **, * ***** ** *** **** **** *******\n",
            "** *** ***** *** *** * *****, * ***** ***\n",
            "*****. *** *** ***, ** *** ****** ** **.\n",
            "Character frequencies in the ciphertext (descending order):\n",
            "'Z': 19\n",
            "'C': 17\n",
            "'U': 12\n",
            "'V': 12\n",
            "'J': 11\n",
            "'M': 9\n",
            "'B': 9\n",
            "'Y': 9\n",
            "'A': 5\n",
            "'F': 5\n",
            "'G': 5\n",
            "'H': 4\n",
            "'K': 4\n",
            "'I': 4\n",
            "'D': 3\n",
            "'P': 2\n",
            "'O': 2\n",
            "'W': 1\n",
            "'T': 1\n",
            "'N': 1\n"
          ]
        }
      ]
    },
    {
      "cell_type": "markdown",
      "source": [
        "At the begining the mapping is empty. We can start from one letter word. there are two one letter word I and A. We can replace V with A. The mapping:\n",
        "\n",
        "**V : A**"
      ],
      "metadata": {
        "id": "FIN1OuDTGBjs"
      }
    },
    {
      "cell_type": "code",
      "source": [
        "mapping = {'V':'A'}\n",
        "algo(ciphertext_c, mapping, words_per_line)\n",
        "# freq_analyze(ciphertext_c)"
      ],
      "metadata": {
        "colab": {
          "base_uri": "https://localhost:8080/"
        },
        "id": "63uhqNCwGYLN",
        "outputId": "7f552e7b-3e67-4daf-9b3b-ee37f3e07f17"
      },
      "execution_count": 47,
      "outputs": [
        {
          "output_type": "stream",
          "name": "stdout",
          "text": [
            "Ciphertext:\n",
            "AUHC MVKFC V BYZUGC V IZMC CJ GUMBZYAZD UKUVM. VC\n",
            "HZZGZB CJ GZ, V HCJJB PD CFZ VYJM KUCZ AZUBVMK\n",
            "CJ CFZ BYVWZ UMB OJY U IFVAZ, V TJNAB MJC\n",
            "ZMCZY. OJY CFZ IUD, VC IUH PUYYZB CJ GZ.\n",
            "\n",
            "Decrypted Text:\n",
            "**** *A*** A ****** A **** ** ********* ***A*. A*\n",
            "****** ** **, A ***** ** *** A*** **** ****A**\n",
            "** *** **A** *** *** * **A**, A ***** ***\n",
            "*****. *** *** ***, A* *** ****** ** **.\n"
          ]
        }
      ]
    },
    {
      "cell_type": "markdown",
      "source": [
        "The most frequent two letter word start with A is AS. So we can try from AS. The mapping:\n",
        "\n",
        "**C : S**"
      ],
      "metadata": {
        "id": "C3TqEP0VGqhk"
      }
    },
    {
      "cell_type": "code",
      "source": [
        "mapping = {'V':'A','C':'S'}\n",
        "algo(ciphertext_c, mapping, words_per_line)\n",
        "# freq_analyze(ciphertext_c)"
      ],
      "metadata": {
        "colab": {
          "base_uri": "https://localhost:8080/"
        },
        "id": "Wrfw9BjRG5xU",
        "outputId": "3b0b7316-caa0-4545-c73f-cf709dd2bf88"
      },
      "execution_count": 48,
      "outputs": [
        {
          "output_type": "stream",
          "name": "stdout",
          "text": [
            "Ciphertext:\n",
            "AUHC MVKFC V BYZUGC V IZMC CJ GUMBZYAZD UKUVM. VC\n",
            "HZZGZB CJ GZ, V HCJJB PD CFZ VYJM KUCZ AZUBVMK\n",
            "CJ CFZ BYVWZ UMB OJY U IFVAZ, V TJNAB MJC\n",
            "ZMCZY. OJY CFZ IUD, VC IUH PUYYZB CJ GZ.\n",
            "\n",
            "Decrypted Text:\n",
            "***S *A**S A *****S A ***S S* ********* ***A*. AS\n",
            "****** S* **, A *S*** ** S** A*** **S* ****A**\n",
            "S* S** **A** *** *** * **A**, A ***** **S\n",
            "**S**. *** S** ***, AS *** ****** S* **.\n"
          ]
        }
      ]
    },
    {
      "cell_type": "markdown",
      "source": [
        "The most frequent two letter word start with S is SO. So we can try from SO. The mapping:\n",
        "\n",
        "**J : O**"
      ],
      "metadata": {
        "id": "NCJYwYIAHJUe"
      }
    },
    {
      "cell_type": "code",
      "source": [
        "mapping = {'V':'A','C':'S','J':'O'}\n",
        "algo(ciphertext_c, mapping, words_per_line)\n",
        "# freq_analyze(ciphertext_c)"
      ],
      "metadata": {
        "colab": {
          "base_uri": "https://localhost:8080/"
        },
        "id": "p6AqQ0gGHTMZ",
        "outputId": "f1934522-32f8-4fc1-db0b-92c11e246e5f"
      },
      "execution_count": 49,
      "outputs": [
        {
          "output_type": "stream",
          "name": "stdout",
          "text": [
            "Ciphertext:\n",
            "AUHC MVKFC V BYZUGC V IZMC CJ GUMBZYAZD UKUVM. VC\n",
            "HZZGZB CJ GZ, V HCJJB PD CFZ VYJM KUCZ AZUBVMK\n",
            "CJ CFZ BYVWZ UMB OJY U IFVAZ, V TJNAB MJC\n",
            "ZMCZY. OJY CFZ IUD, VC IUH PUYYZB CJ GZ.\n",
            "\n",
            "Decrypted Text:\n",
            "***S *A**S A *****S A ***S SO ********* ***A*. AS\n",
            "****** SO **, A *SOO* ** S** A*O* **S* ****A**\n",
            "SO S** **A** *** *O* * **A**, A *O*** *OS\n",
            "**S**. *O* S** ***, AS *** ****** SO **.\n"
          ]
        }
      ]
    },
    {
      "cell_type": "markdown",
      "source": [
        "There are one more one letter word. So, replace U with I. The mapping;\n",
        "\n",
        "**U:I**"
      ],
      "metadata": {
        "id": "AOmz3Uf6JT8h"
      }
    },
    {
      "cell_type": "code",
      "source": [
        "mapping = {'V':'A','C':'S','J':'O','U':'I'}\n",
        "algo(ciphertext_c, mapping, words_per_line)\n",
        "freq_analyze(ciphertext_c)"
      ],
      "metadata": {
        "colab": {
          "base_uri": "https://localhost:8080/"
        },
        "id": "9s7DsnKVJhKN",
        "outputId": "4ac2e8f8-c206-44d8-e9c0-528d5742abeb"
      },
      "execution_count": 50,
      "outputs": [
        {
          "output_type": "stream",
          "name": "stdout",
          "text": [
            "Ciphertext:\n",
            "AUHC MVKFC V BYZUGC V IZMC CJ GUMBZYAZD UKUVM. VC\n",
            "HZZGZB CJ GZ, V HCJJB PD CFZ VYJM KUCZ AZUBVMK\n",
            "CJ CFZ BYVWZ UMB OJY U IFVAZ, V TJNAB MJC\n",
            "ZMCZY. OJY CFZ IUD, VC IUH PUYYZB CJ GZ.\n",
            "\n",
            "Decrypted Text:\n",
            "*I*S *A**S A ***I*S A ***S SO *I******* I*IA*. AS\n",
            "****** SO **, A *SOO* ** S** A*O* *IS* **I*A**\n",
            "SO S** **A** I** *O* I **A**, A *O*** *OS\n",
            "**S**. *O* S** *I*, AS *I* *I**** SO **.\n",
            "Character frequencies in the ciphertext (descending order):\n",
            "'Z': 19\n",
            "'C': 17\n",
            "'U': 12\n",
            "'V': 12\n",
            "'J': 11\n",
            "'M': 9\n",
            "'B': 9\n",
            "'Y': 9\n",
            "'A': 5\n",
            "'F': 5\n",
            "'G': 5\n",
            "'H': 4\n",
            "'K': 4\n",
            "'I': 4\n",
            "'D': 3\n",
            "'P': 2\n",
            "'O': 2\n",
            "'W': 1\n",
            "'T': 1\n",
            "'N': 1\n"
          ]
        }
      ]
    },
    {
      "cell_type": "markdown",
      "source": [
        "I do not get any dependent clue from here. So, using the frequency analysis the most frequest letters are 'Z' and 'C'. The most frequent letters in english language are 'E' and 'T' respectively. So,the mapping:\n",
        "\n",
        "**Z:E**\n",
        "\n",
        "**C:T**"
      ],
      "metadata": {
        "id": "13rNzyAXv83-"
      }
    },
    {
      "cell_type": "code",
      "source": [
        "mapping = {'V':'A','C':'S','J':'O','U':'I','Z':'E','C':'T'}\n",
        "algo(ciphertext_c, mapping, words_per_line)\n",
        "# freq_analyze(ciphertext_c)"
      ],
      "metadata": {
        "colab": {
          "base_uri": "https://localhost:8080/"
        },
        "id": "QSC2Xlp2wd-8",
        "outputId": "ba268aaa-ff50-4394-81b9-2d781399f653"
      },
      "execution_count": 51,
      "outputs": [
        {
          "output_type": "stream",
          "name": "stdout",
          "text": [
            "Ciphertext:\n",
            "AUHC MVKFC V BYZUGC V IZMC CJ GUMBZYAZD UKUVM. VC\n",
            "HZZGZB CJ GZ, V HCJJB PD CFZ VYJM KUCZ AZUBVMK\n",
            "CJ CFZ BYVWZ UMB OJY U IFVAZ, V TJNAB MJC\n",
            "ZMCZY. OJY CFZ IUD, VC IUH PUYYZB CJ GZ.\n",
            "\n",
            "Decrypted Text:\n",
            "*I*T *A**T A **EI*T A *E*T TO *I**E**E* I*IA*. AT\n",
            "*EE*E* TO *E, A *TOO* ** T*E A*O* *ITE *EI*A**\n",
            "TO T*E **A*E I** *O* I **A*E, A *O*** *OT\n",
            "E*TE*. *O* T*E *I*, AT *I* *I**E* TO *E.\n"
          ]
        }
      ]
    },
    {
      "cell_type": "markdown",
      "source": [
        "The word 'T*E' in the 2nd line woud be 'THE'. The mapping:\n",
        "\n",
        "**F : H**"
      ],
      "metadata": {
        "id": "IYZX1P1IxCR1"
      }
    },
    {
      "cell_type": "code",
      "source": [
        "mapping = {'V':'A','C':'S','J':'O','U':'I','Z':'E','C':'T','F':'H'}\n",
        "algo(ciphertext_c, mapping, words_per_line)\n",
        "# freq_analyze(ciphertext_c)"
      ],
      "metadata": {
        "colab": {
          "base_uri": "https://localhost:8080/"
        },
        "id": "9H16l9K4xTa6",
        "outputId": "5a1a0d13-88ad-4f97-8312-e1061d87c5ec"
      },
      "execution_count": 52,
      "outputs": [
        {
          "output_type": "stream",
          "name": "stdout",
          "text": [
            "Ciphertext:\n",
            "AUHC MVKFC V BYZUGC V IZMC CJ GUMBZYAZD UKUVM. VC\n",
            "HZZGZB CJ GZ, V HCJJB PD CFZ VYJM KUCZ AZUBVMK\n",
            "CJ CFZ BYVWZ UMB OJY U IFVAZ, V TJNAB MJC\n",
            "ZMCZY. OJY CFZ IUD, VC IUH PUYYZB CJ GZ.\n",
            "\n",
            "Decrypted Text:\n",
            "*I*T *A*HT A **EI*T A *E*T TO *I**E**E* I*IA*. AT\n",
            "*EE*E* TO *E, A *TOO* ** THE A*O* *ITE *EI*A**\n",
            "TO THE **A*E I** *O* I *HA*E, A *O*** *OT\n",
            "E*TE*. *O* THE *I*, AT *I* *I**E* TO *E.\n"
          ]
        }
      ]
    },
    {
      "cell_type": "markdown",
      "source": [
        "The phrase 'TO *E' in the 2nd and last line would be 'TO BE'. The mapping:\n",
        "\n",
        "**G : B**"
      ],
      "metadata": {
        "id": "nzEz_ymnx0hT"
      }
    },
    {
      "cell_type": "code",
      "source": [
        "mapping = {'V':'A','C':'S','J':'O','U':'I','Z':'E','C':'T','F':'H','G':'B'}\n",
        "algo(ciphertext_c, mapping, words_per_line)\n",
        "# freq_analyze(ciphertext_c)"
      ],
      "metadata": {
        "colab": {
          "base_uri": "https://localhost:8080/"
        },
        "id": "D8OzUAn4yMOj",
        "outputId": "fc8cffd7-6e14-4bc0-e07b-8ed3fc52439e"
      },
      "execution_count": 53,
      "outputs": [
        {
          "output_type": "stream",
          "name": "stdout",
          "text": [
            "Ciphertext:\n",
            "AUHC MVKFC V BYZUGC V IZMC CJ GUMBZYAZD UKUVM. VC\n",
            "HZZGZB CJ GZ, V HCJJB PD CFZ VYJM KUCZ AZUBVMK\n",
            "CJ CFZ BYVWZ UMB OJY U IFVAZ, V TJNAB MJC\n",
            "ZMCZY. OJY CFZ IUD, VC IUH PUYYZB CJ GZ.\n",
            "\n",
            "Decrypted Text:\n",
            "*I*T *A*HT A **EIBT A *E*T TO BI**E**E* I*IA*. AT\n",
            "*EEBE* TO BE, A *TOO* ** THE A*O* *ITE *EI*A**\n",
            "TO THE **A*E I** *O* I *HA*E, A *O*** *OT\n",
            "E*TE*. *O* THE *I*, AT *I* *I**E* TO BE.\n"
          ]
        }
      ]
    },
    {
      "cell_type": "markdown",
      "source": [
        "There is no possible replacement for the word *EEBE*. So I discard to map 'G' to 'B'.Now thehe phrase 'TO *E' in the 2nd and last line would be 'TO ME' because 'ME' is the most frequent two letter word after 'BE'. The mapping:\n",
        "\n",
        "**G:M**"
      ],
      "metadata": {
        "id": "mghmbX-Sy6C-"
      }
    },
    {
      "cell_type": "code",
      "source": [
        "mapping = {'V':'A','C':'S','J':'O','U':'I','Z':'E','C':'T','F':'H','G':'M'}\n",
        "algo(ciphertext_c, mapping, words_per_line)\n",
        "# freq_analyze(ciphertext_c)"
      ],
      "metadata": {
        "colab": {
          "base_uri": "https://localhost:8080/"
        },
        "id": "riujgkWuzjbA",
        "outputId": "37462509-b16f-48c4-94e4-d42aa174d934"
      },
      "execution_count": 54,
      "outputs": [
        {
          "output_type": "stream",
          "name": "stdout",
          "text": [
            "Ciphertext:\n",
            "AUHC MVKFC V BYZUGC V IZMC CJ GUMBZYAZD UKUVM. VC\n",
            "HZZGZB CJ GZ, V HCJJB PD CFZ VYJM KUCZ AZUBVMK\n",
            "CJ CFZ BYVWZ UMB OJY U IFVAZ, V TJNAB MJC\n",
            "ZMCZY. OJY CFZ IUD, VC IUH PUYYZB CJ GZ.\n",
            "\n",
            "Decrypted Text:\n",
            "*I*T *A*HT A **EIMT A *E*T TO MI**E**E* I*IA*. AT\n",
            "*EEME* TO ME, A *TOO* ** THE A*O* *ITE *EI*A**\n",
            "TO THE **A*E I** *O* I *HA*E, A *O*** *OT\n",
            "E*TE*. *O* THE *I*, AT *I* *I**E* TO ME.\n"
          ]
        }
      ]
    },
    {
      "cell_type": "markdown",
      "source": [
        "The very last word of 3rd line (*OT) would be NOT. The mapping:\n",
        "\n",
        "**M:N**"
      ],
      "metadata": {
        "id": "n77Rk6tBz4ry"
      }
    },
    {
      "cell_type": "code",
      "source": [
        "mapping = {'V':'A','C':'S','J':'O','U':'I','Z':'E','C':'T',\n",
        "           'F':'H','G':'M','M':'N'}\n",
        "algo(ciphertext_c, mapping, words_per_line)\n",
        "# freq_analyze(ciphertext_c)"
      ],
      "metadata": {
        "colab": {
          "base_uri": "https://localhost:8080/"
        },
        "id": "7gmg-iJ60DFZ",
        "outputId": "4acf4656-aa56-491a-fe29-dd027b93258a"
      },
      "execution_count": 55,
      "outputs": [
        {
          "output_type": "stream",
          "name": "stdout",
          "text": [
            "Ciphertext:\n",
            "AUHC MVKFC V BYZUGC V IZMC CJ GUMBZYAZD UKUVM. VC\n",
            "HZZGZB CJ GZ, V HCJJB PD CFZ VYJM KUCZ AZUBVMK\n",
            "CJ CFZ BYVWZ UMB OJY U IFVAZ, V TJNAB MJC\n",
            "ZMCZY. OJY CFZ IUD, VC IUH PUYYZB CJ GZ.\n",
            "\n",
            "Decrypted Text:\n",
            "*I*T NA*HT A **EIMT A *ENT TO MIN*E**E* I*IAN. AT\n",
            "*EEME* TO ME, A *TOO* ** THE A*ON *ITE *EI*AN*\n",
            "TO THE **A*E IN* *O* I *HA*E, A *O*** NOT\n",
            "ENTE*. *O* THE *I*, AT *I* *I**E* TO ME.\n"
          ]
        }
      ]
    },
    {
      "cell_type": "markdown",
      "source": [
        "The word 'NA*HT' seems to odd. There is no possible replacement for the word. It would be NIGHT. So, in stead of replacing 'V' with 'A', we replace 'V' with 'I'. The mapping:\n",
        "\n",
        "**V:I**"
      ],
      "metadata": {
        "id": "n9bjdjFC0SOS"
      }
    },
    {
      "cell_type": "code",
      "source": [
        "mapping = {'V':'I','C':'S','J':'O','U':'I','Z':'E','C':'T',\n",
        "           'F':'H','G':'M','M':'N'}\n",
        "algo(ciphertext_c, mapping, words_per_line)\n",
        "# freq_analyze(ciphertext_c)"
      ],
      "metadata": {
        "colab": {
          "base_uri": "https://localhost:8080/"
        },
        "id": "cqGSvlx20uqS",
        "outputId": "c2815a1c-b306-4ff3-cd31-39553029ebb1"
      },
      "execution_count": 56,
      "outputs": [
        {
          "output_type": "stream",
          "name": "stdout",
          "text": [
            "Ciphertext:\n",
            "AUHC MVKFC V BYZUGC V IZMC CJ GUMBZYAZD UKUVM. VC\n",
            "HZZGZB CJ GZ, V HCJJB PD CFZ VYJM KUCZ AZUBVMK\n",
            "CJ CFZ BYVWZ UMB OJY U IFVAZ, V TJNAB MJC\n",
            "ZMCZY. OJY CFZ IUD, VC IUH PUYYZB CJ GZ.\n",
            "\n",
            "Decrypted Text:\n",
            "*I*T NI*HT I **EIMT I *ENT TO MIN*E**E* I*IIN. IT\n",
            "*EEME* TO ME, I *TOO* ** THE I*ON *ITE *EI*IN*\n",
            "TO THE **I*E IN* *O* I *HI*E, I *O*** NOT\n",
            "ENTE*. *O* THE *I*, IT *I* *I**E* TO ME.\n",
            "\n",
            "Duplicate mappings found:\n",
            "I: V, U\n"
          ]
        }
      ]
    },
    {
      "cell_type": "markdown",
      "source": [
        "The replacement for the word 'NI*HT' would be 'NIGHT'. The mapping:\n",
        "\n",
        "**K:G**\n",
        "\n",
        "As duplicate mapping found. Discard the mapping **'U':'I'**."
      ],
      "metadata": {
        "id": "xfrclr8d0yiD"
      }
    },
    {
      "cell_type": "code",
      "source": [
        "mapping = {'V':'I','C':'S','J':'O','Z':'E','C':'T','F':'H',\n",
        "           'G':'M','M':'N','K':'G'}\n",
        "algo(ciphertext_c, mapping, words_per_line)\n",
        "# freq_analyze(ciphertext_c)"
      ],
      "metadata": {
        "colab": {
          "base_uri": "https://localhost:8080/"
        },
        "id": "QKWT3Pwd1Afm",
        "outputId": "e6e11017-a444-441b-b6a1-2171a66175e6"
      },
      "execution_count": 57,
      "outputs": [
        {
          "output_type": "stream",
          "name": "stdout",
          "text": [
            "Ciphertext:\n",
            "AUHC MVKFC V BYZUGC V IZMC CJ GUMBZYAZD UKUVM. VC\n",
            "HZZGZB CJ GZ, V HCJJB PD CFZ VYJM KUCZ AZUBVMK\n",
            "CJ CFZ BYVWZ UMB OJY U IFVAZ, V TJNAB MJC\n",
            "ZMCZY. OJY CFZ IUD, VC IUH PUYYZB CJ GZ.\n",
            "\n",
            "Decrypted Text:\n",
            "***T NIGHT I **E*MT I *ENT TO M*N*E**E* *G*IN. IT\n",
            "*EEME* TO ME, I *TOO* ** THE I*ON G*TE *E**ING\n",
            "TO THE **I*E *N* *O* * *HI*E, I *O*** NOT\n",
            "ENTE*. *O* THE ***, IT *** ****E* TO ME.\n"
          ]
        }
      ]
    },
    {
      "cell_type": "markdown",
      "source": [
        "The word *ENT in the first line would be WENT. The mapping:\n",
        "\n",
        "**I:W**\n"
      ],
      "metadata": {
        "id": "pdaQOveY2Jj-"
      }
    },
    {
      "cell_type": "code",
      "source": [
        "mapping = {'V':'I','C':'S','J':'O','Z':'E','C':'T','F':'H',\n",
        "           'G':'M','M':'N','K':'G','I':'W'}\n",
        "algo(ciphertext_c, mapping, words_per_line)\n",
        "# freq_analyze(ciphertext_c)"
      ],
      "metadata": {
        "colab": {
          "base_uri": "https://localhost:8080/"
        },
        "id": "sHnwFDyi2Xif",
        "outputId": "57e9c661-0398-4173-dd09-9158cee3a406"
      },
      "execution_count": 58,
      "outputs": [
        {
          "output_type": "stream",
          "name": "stdout",
          "text": [
            "Ciphertext:\n",
            "AUHC MVKFC V BYZUGC V IZMC CJ GUMBZYAZD UKUVM. VC\n",
            "HZZGZB CJ GZ, V HCJJB PD CFZ VYJM KUCZ AZUBVMK\n",
            "CJ CFZ BYVWZ UMB OJY U IFVAZ, V TJNAB MJC\n",
            "ZMCZY. OJY CFZ IUD, VC IUH PUYYZB CJ GZ.\n",
            "\n",
            "Decrypted Text:\n",
            "***T NIGHT I **E*MT I WENT TO M*N*E**E* *G*IN. IT\n",
            "*EEME* TO ME, I *TOO* ** THE I*ON G*TE *E**ING\n",
            "TO THE **I*E *N* *O* * WHI*E, I *O*** NOT\n",
            "ENTE*. *O* THE W**, IT W** ****E* TO ME.\n"
          ]
        }
      ]
    },
    {
      "cell_type": "markdown",
      "source": [
        "The word '* G*IN' would be 'AGAIN' because the two * is same. The mapping:\n",
        "\n",
        "**U:A**"
      ],
      "metadata": {
        "id": "0f9Ft6iUAvdh"
      }
    },
    {
      "cell_type": "code",
      "source": [
        "mapping = {'V':'I','C':'S','J':'O','Z':'E','C':'T','F':'H',\n",
        "           'G':'M','M':'N','K':'G','I':'W','U':'A'}\n",
        "algo(ciphertext_c, mapping, words_per_line)\n",
        "# freq_analyze(ciphertext_c)"
      ],
      "metadata": {
        "colab": {
          "base_uri": "https://localhost:8080/"
        },
        "id": "pp67xRyvB_03",
        "outputId": "0f4c4b5b-d1b2-46eb-8c9b-078862d72570"
      },
      "execution_count": 59,
      "outputs": [
        {
          "output_type": "stream",
          "name": "stdout",
          "text": [
            "Ciphertext:\n",
            "AUHC MVKFC V BYZUGC V IZMC CJ GUMBZYAZD UKUVM. VC\n",
            "HZZGZB CJ GZ, V HCJJB PD CFZ VYJM KUCZ AZUBVMK\n",
            "CJ CFZ BYVWZ UMB OJY U IFVAZ, V TJNAB MJC\n",
            "ZMCZY. OJY CFZ IUD, VC IUH PUYYZB CJ GZ.\n",
            "\n",
            "Decrypted Text:\n",
            "*A*T NIGHT I **EAMT I WENT TO MAN*E**E* AGAIN. IT\n",
            "*EEME* TO ME, I *TOO* ** THE I*ON GATE *EA*ING\n",
            "TO THE **I*E AN* *O* A WHI*E, I *O*** NOT\n",
            "ENTE*. *O* THE WA*, IT WA* *A**E* TO ME.\n"
          ]
        }
      ]
    },
    {
      "cell_type": "markdown",
      "source": [
        "The word 'ENTE*' in the last line would be 'ENTER'. The mapping:\n",
        "\n",
        "**Y:R**"
      ],
      "metadata": {
        "id": "-AHnU_RdCOSs"
      }
    },
    {
      "cell_type": "code",
      "source": [
        "mapping = {'V':'I','C':'S','J':'O','Z':'E','C':'T','F':'H',\n",
        "           'G':'M','M':'N','K':'G','I':'W','U':'A','Y':'R'}\n",
        "algo(ciphertext_c, mapping, words_per_line)\n",
        "# freq_analyze(ciphertext_c)"
      ],
      "metadata": {
        "colab": {
          "base_uri": "https://localhost:8080/"
        },
        "id": "fGEhy__jCZXj",
        "outputId": "ebacecd0-d33d-452d-fa67-5d12c1b3e5dd"
      },
      "execution_count": 60,
      "outputs": [
        {
          "output_type": "stream",
          "name": "stdout",
          "text": [
            "Ciphertext:\n",
            "AUHC MVKFC V BYZUGC V IZMC CJ GUMBZYAZD UKUVM. VC\n",
            "HZZGZB CJ GZ, V HCJJB PD CFZ VYJM KUCZ AZUBVMK\n",
            "CJ CFZ BYVWZ UMB OJY U IFVAZ, V TJNAB MJC\n",
            "ZMCZY. OJY CFZ IUD, VC IUH PUYYZB CJ GZ.\n",
            "\n",
            "Decrypted Text:\n",
            "*A*T NIGHT I *REAMT I WENT TO MAN*ER*E* AGAIN. IT\n",
            "*EEME* TO ME, I *TOO* ** THE IRON GATE *EA*ING\n",
            "TO THE *RI*E AN* *OR A WHI*E, I *O*** NOT\n",
            "ENTER. *OR THE WA*, IT WA* *ARRE* TO ME.\n"
          ]
        }
      ]
    },
    {
      "cell_type": "markdown",
      "source": [
        "The phrase ' * A*T NIGHT I *REAMT I WENT TO' in the first line would be 'LAST NIGHT I DREAMT I WENT TO'. So, the mapping:\n",
        "\n",
        "**A:L**\n",
        "\n",
        "**H:S**\n",
        "\n",
        "**B:D**"
      ],
      "metadata": {
        "id": "-YPyC0FkClPV"
      }
    },
    {
      "cell_type": "code",
      "source": [
        "mapping = {'V':'I','C':'S','J':'O','Z':'E','C':'T','F':'H',\n",
        "           'G':'M','M':'N','K':'G','I':'W','U':'A','Y':'R','A':'L','H':'S','B':'D'}\n",
        "algo(ciphertext_c, mapping, words_per_line)\n",
        "# freq_analyze(ciphertext_c)"
      ],
      "metadata": {
        "colab": {
          "base_uri": "https://localhost:8080/"
        },
        "id": "aDKUxKh1C6WZ",
        "outputId": "544c1291-a359-40dc-fc55-0a40cd132a32"
      },
      "execution_count": 61,
      "outputs": [
        {
          "output_type": "stream",
          "name": "stdout",
          "text": [
            "Ciphertext:\n",
            "AUHC MVKFC V BYZUGC V IZMC CJ GUMBZYAZD UKUVM. VC\n",
            "HZZGZB CJ GZ, V HCJJB PD CFZ VYJM KUCZ AZUBVMK\n",
            "CJ CFZ BYVWZ UMB OJY U IFVAZ, V TJNAB MJC\n",
            "ZMCZY. OJY CFZ IUD, VC IUH PUYYZB CJ GZ.\n",
            "\n",
            "Decrypted Text:\n",
            "LAST NIGHT I DREAMT I WENT TO MANDERLE* AGAIN. IT\n",
            "SEEMED TO ME, I STOOD ** THE IRON GATE LEADING\n",
            "TO THE DRI*E AND *OR A WHILE, I *O*LD NOT\n",
            "ENTER. *OR THE WA*, IT WAS *ARRED TO ME.\n"
          ]
        }
      ]
    },
    {
      "cell_type": "markdown",
      "source": [
        "The word '*OR' in the last line would be 'FOR'. The mapping:\n",
        "\n",
        "**O:F**"
      ],
      "metadata": {
        "id": "Vewo0U4HEKm7"
      }
    },
    {
      "cell_type": "code",
      "source": [
        "mapping = {'V':'I','C':'S','J':'O','Z':'E','C':'T','F':'H','G':'M',\n",
        "           'M':'N','K':'G','I':'W','U':'A','Y':'R','A':'L','H':'S','B':'D','O':'F'}\n",
        "algo(ciphertext_c, mapping, words_per_line)\n",
        "# freq_analyze(ciphertext_c)"
      ],
      "metadata": {
        "colab": {
          "base_uri": "https://localhost:8080/"
        },
        "id": "8TMCtGEHEX2f",
        "outputId": "93fad01c-c7c6-45fa-a3f2-b0b1bf44f24b"
      },
      "execution_count": 62,
      "outputs": [
        {
          "output_type": "stream",
          "name": "stdout",
          "text": [
            "Ciphertext:\n",
            "AUHC MVKFC V BYZUGC V IZMC CJ GUMBZYAZD UKUVM. VC\n",
            "HZZGZB CJ GZ, V HCJJB PD CFZ VYJM KUCZ AZUBVMK\n",
            "CJ CFZ BYVWZ UMB OJY U IFVAZ, V TJNAB MJC\n",
            "ZMCZY. OJY CFZ IUD, VC IUH PUYYZB CJ GZ.\n",
            "\n",
            "Decrypted Text:\n",
            "LAST NIGHT I DREAMT I WENT TO MANDERLE* AGAIN. IT\n",
            "SEEMED TO ME, I STOOD ** THE IRON GATE LEADING\n",
            "TO THE DRI*E AND FOR A WHILE, I *O*LD NOT\n",
            "ENTER. FOR THE WA*, IT WAS *ARRED TO ME.\n"
          ]
        }
      ]
    },
    {
      "cell_type": "markdown",
      "source": [
        "The word 'DRI*E' in the 2nd last line would be 'DRIVE'. The mapping:\n",
        "\n",
        "**W:V**"
      ],
      "metadata": {
        "id": "zb6k3nJYEg98"
      }
    },
    {
      "cell_type": "code",
      "source": [
        "mapping = {'V':'I','C':'S','J':'O','Z':'E','C':'T','F':'H',\n",
        "           'G':'M','M':'N','K':'G','I':'W','U':'A','Y':'R',\n",
        "           'A':'L','H':'S','B':'D','O':'F','W':'V'}\n",
        "algo(ciphertext_c, mapping, words_per_line)\n",
        "# freq_analyze(ciphertext_c)"
      ],
      "metadata": {
        "colab": {
          "base_uri": "https://localhost:8080/"
        },
        "id": "IRjkG0hPEtjj",
        "outputId": "cc1bf02a-40ce-4a43-a7cd-8b95adc1a94b"
      },
      "execution_count": 63,
      "outputs": [
        {
          "output_type": "stream",
          "name": "stdout",
          "text": [
            "Ciphertext:\n",
            "AUHC MVKFC V BYZUGC V IZMC CJ GUMBZYAZD UKUVM. VC\n",
            "HZZGZB CJ GZ, V HCJJB PD CFZ VYJM KUCZ AZUBVMK\n",
            "CJ CFZ BYVWZ UMB OJY U IFVAZ, V TJNAB MJC\n",
            "ZMCZY. OJY CFZ IUD, VC IUH PUYYZB CJ GZ.\n",
            "\n",
            "Decrypted Text:\n",
            "LAST NIGHT I DREAMT I WENT TO MANDERLE* AGAIN. IT\n",
            "SEEMED TO ME, I STOOD ** THE IRON GATE LEADING\n",
            "TO THE DRIVE AND FOR A WHILE, I *O*LD NOT\n",
            "ENTER. FOR THE WA*, IT WAS *ARRED TO ME.\n"
          ]
        }
      ]
    },
    {
      "cell_type": "markdown",
      "source": [
        "The word '*ARRED' in the last line would be 'BARRED'. So, the mapping:\n",
        "\n",
        "**P:B**"
      ],
      "metadata": {
        "id": "45Av4dnBE3iZ"
      }
    },
    {
      "cell_type": "code",
      "source": [
        "mapping = {'V':'I','C':'S','J':'O','Z':'E','C':'T','F':'H',\n",
        "           'G':'M','M':'N','K':'G','I':'W','U':'A','Y':'R','A':'L',\n",
        "           'H':'S','B':'D','O':'F','W':'V','P':'B'}\n",
        "algo(ciphertext_c, mapping, words_per_line)\n",
        "# freq_analyze(ciphertext_c)"
      ],
      "metadata": {
        "colab": {
          "base_uri": "https://localhost:8080/"
        },
        "id": "w-L12fguFCCb",
        "outputId": "bcd3e769-46f5-4613-c146-5c726289996c"
      },
      "execution_count": 64,
      "outputs": [
        {
          "output_type": "stream",
          "name": "stdout",
          "text": [
            "Ciphertext:\n",
            "AUHC MVKFC V BYZUGC V IZMC CJ GUMBZYAZD UKUVM. VC\n",
            "HZZGZB CJ GZ, V HCJJB PD CFZ VYJM KUCZ AZUBVMK\n",
            "CJ CFZ BYVWZ UMB OJY U IFVAZ, V TJNAB MJC\n",
            "ZMCZY. OJY CFZ IUD, VC IUH PUYYZB CJ GZ.\n",
            "\n",
            "Decrypted Text:\n",
            "LAST NIGHT I DREAMT I WENT TO MANDERLE* AGAIN. IT\n",
            "SEEMED TO ME, I STOOD B* THE IRON GATE LEADING\n",
            "TO THE DRIVE AND FOR A WHILE, I *O*LD NOT\n",
            "ENTER. FOR THE WA*, IT WAS BARRED TO ME.\n"
          ]
        }
      ]
    },
    {
      "cell_type": "markdown",
      "source": [
        "The phrase 'I STOOD B* THE IRON GATE' in the second line would be 'I STOOD BY THE IRON GATE'. The mapping:\n",
        "\n",
        "**D:Y**"
      ],
      "metadata": {
        "id": "qSt6pMClFJpE"
      }
    },
    {
      "cell_type": "code",
      "source": [
        "mapping = {'V':'I','C':'S','J':'O','Z':'E','C':'T','F':'H','G':'M',\n",
        "           'M':'N','K':'G','I':'W','U':'A','Y':'R','A':'L','H':'S','B':'D',\n",
        "           'O':'F','W':'V','P':'B','D':'Y'}\n",
        "algo(ciphertext_c, mapping, words_per_line)\n",
        "# freq_analyze(ciphertext_c)"
      ],
      "metadata": {
        "colab": {
          "base_uri": "https://localhost:8080/"
        },
        "id": "KtugGMHdFV_m",
        "outputId": "fed5a19b-75da-46dd-cba2-44a305a47feb"
      },
      "execution_count": 65,
      "outputs": [
        {
          "output_type": "stream",
          "name": "stdout",
          "text": [
            "Ciphertext:\n",
            "AUHC MVKFC V BYZUGC V IZMC CJ GUMBZYAZD UKUVM. VC\n",
            "HZZGZB CJ GZ, V HCJJB PD CFZ VYJM KUCZ AZUBVMK\n",
            "CJ CFZ BYVWZ UMB OJY U IFVAZ, V TJNAB MJC\n",
            "ZMCZY. OJY CFZ IUD, VC IUH PUYYZB CJ GZ.\n",
            "\n",
            "Decrypted Text:\n",
            "LAST NIGHT I DREAMT I WENT TO MANDERLEY AGAIN. IT\n",
            "SEEMED TO ME, I STOOD BY THE IRON GATE LEADING\n",
            "TO THE DRIVE AND FOR A WHILE, I *O*LD NOT\n",
            "ENTER. FOR THE WAY, IT WAS BARRED TO ME.\n"
          ]
        }
      ]
    },
    {
      "cell_type": "markdown",
      "source": [
        "The phrase 'I * O*LD NOT' in the 3rd line would be 'I COULD NOT'. So, the mapping:\n",
        "\n",
        "**T:C**\n",
        "\n",
        "**N:U**"
      ],
      "metadata": {
        "id": "jjhPPbC1FJve"
      }
    },
    {
      "cell_type": "code",
      "source": [
        "mapping = {'V':'I','C':'S','J':'O','Z':'E','C':'T','F':'H','G':'M',\n",
        "           'M':'N','K':'G','I':'W','U':'A','Y':'R','A':'L','H':'S','B':'D',\n",
        "           'O':'F','W':'V','P':'B','D':'Y','T':'C','N':'U'}\n",
        "algo(ciphertext_c, mapping, words_per_line)\n",
        "# freq_analyze(ciphertext_c)"
      ],
      "metadata": {
        "colab": {
          "base_uri": "https://localhost:8080/"
        },
        "id": "omts4nkzFwrI",
        "outputId": "b07ab326-74ce-4602-8ca0-9711f7771f75"
      },
      "execution_count": 66,
      "outputs": [
        {
          "output_type": "stream",
          "name": "stdout",
          "text": [
            "Ciphertext:\n",
            "AUHC MVKFC V BYZUGC V IZMC CJ GUMBZYAZD UKUVM. VC\n",
            "HZZGZB CJ GZ, V HCJJB PD CFZ VYJM KUCZ AZUBVMK\n",
            "CJ CFZ BYVWZ UMB OJY U IFVAZ, V TJNAB MJC\n",
            "ZMCZY. OJY CFZ IUD, VC IUH PUYYZB CJ GZ.\n",
            "\n",
            "Decrypted Text:\n",
            "LAST NIGHT I DREAMT I WENT TO MANDERLEY AGAIN. IT\n",
            "SEEMED TO ME, I STOOD BY THE IRON GATE LEADING\n",
            "TO THE DRIVE AND FOR A WHILE, I COULD NOT\n",
            "ENTER. FOR THE WAY, IT WAS BARRED TO ME.\n"
          ]
        }
      ]
    },
    {
      "cell_type": "markdown",
      "source": [
        "Thus we decrypted our cipher into plaintext. And the plaintext is:\n",
        "\n",
        "**LAST NIGHT I DREAMT I WENT TO MANDERLEY AGAIN. IT\n",
        "SEEMED TO ME, I STOOD BY THE IRON GATE LEADING\n",
        "TO THE DRIVE AND FOR A WHILE, I COULD NOT\n",
        "ENTER. FOR THE WAY, IT WAS BARRED TO ME.**"
      ],
      "metadata": {
        "id": "KtOU6lhwGMBD"
      }
    },
    {
      "cell_type": "markdown",
      "source": [
        "##**2.(d)**"
      ],
      "metadata": {
        "id": "scd1hP2hbShP"
      }
    },
    {
      "cell_type": "markdown",
      "source": [
        "*JGRMQOYGHMVBJ WRWQFPW HGF FDQGFPFZR KBEEBJIZQ QO CIBZK.\n",
        "LFAFGQVFZFWW, EOG WOPF GFHWOL PHLR LOLFDMFGQW BLWBWQ OL\n",
        "KFWBYLBLY LFS FLJGRMQBOL WJVFPFW QVHQ WFFP QO QVFP QO CF\n",
        "POGF WFJIGF QVHL HLR OQVFG WJVFPF OL FHGQV. QVF ILEOGQILHQF\n",
        "QGIQV VOSFAFG BW QVHQ WIJV WJVFPFW HGF IWIHZZR QGBABHZ QO\n",
        "CGFHX.*"
      ],
      "metadata": {
        "id": "Yzj9OVLvbX00"
      }
    },
    {
      "cell_type": "code",
      "source": [
        "# Provided ciphertext\n",
        "ciphertext_d= \"\"\"JGRMQOYGHMVBJ WRWQFPW HGF FDQGFPFZR KBEEBJIZQ\n",
        "QO CIBZK. LFAFGQVFZFWW, EOG WOPF GFHWOL PHLR LOLFDMFGQW BLWBWQ\n",
        "OL KFWBYLBLY LFS FLJGRMQBOL WJVFPFW QVHQ WFFP QO QVFP QO CF POGF\n",
        "WFJIGF QVHL HLR OQVFG WJVFPF OL FHGQV. QVF ILEOGQILHQF QGIQV VOSFAFG\n",
        "BW QVHQ WIJV WJVFPFW HGF IWIHZZR QGBABHZ QO CGFHX.\n",
        "\"\"\""
      ],
      "metadata": {
        "id": "jEaEV9azbeo4"
      },
      "execution_count": 67,
      "outputs": []
    },
    {
      "cell_type": "code",
      "source": [
        "mapping = {}\n",
        "algo(ciphertext_d, mapping, words_per_line)\n",
        "freq_analyze(ciphertext_d)"
      ],
      "metadata": {
        "colab": {
          "base_uri": "https://localhost:8080/"
        },
        "id": "if9vXb3tbnRD",
        "outputId": "c981f728-db94-430f-9ee4-87c1236fe3e2"
      },
      "execution_count": 68,
      "outputs": [
        {
          "output_type": "stream",
          "name": "stdout",
          "text": [
            "Ciphertext:\n",
            "JGRMQOYGHMVBJ WRWQFPW HGF FDQGFPFZR KBEEBJIZQ QO CIBZK. LFAFGQVFZFWW, EOG WOPF\n",
            "GFHWOL PHLR LOLFDMFGQW BLWBWQ OL KFWBYLBLY LFS FLJGRMQBOL WJVFPFW QVHQ\n",
            "WFFP QO QVFP QO CF POGF WFJIGF QVHL HLR OQVFG\n",
            "WJVFPF OL FHGQV. QVF ILEOGQILHQF QGIQV VOSFAFG BW QVHQ WIJV\n",
            "WJVFPFW HGF IWIHZZR QGBABHZ QO CGFHX.\n",
            "\n",
            "Decrypted Text:\n",
            "************* ******* *** ********* ********* ** *****. ************, *** ****\n",
            "****** **** ********** ****** ** ********* *** ********** ******* ****\n",
            "**** ** **** ** ** **** ****** **** *** *****\n",
            "****** ** *****. *** *********** ***** ******* ** **** ****\n",
            "******* *** ******* ******* ** *****.\n",
            "Character frequencies in the ciphertext (descending order):\n",
            "'F': 37\n",
            "'Q': 26\n",
            "'W': 21\n",
            "'G': 19\n",
            "'L': 17\n",
            "'O': 16\n",
            "'V': 15\n",
            "'H': 14\n",
            "'B': 12\n",
            "'P': 10\n",
            "'J': 9\n",
            "'I': 9\n",
            "'R': 7\n",
            "'Z': 7\n",
            "'M': 4\n",
            "'E': 4\n",
            "'Y': 3\n",
            "'K': 3\n",
            "'C': 3\n",
            "'A': 3\n",
            "'D': 2\n",
            "'S': 2\n",
            "'X': 1\n"
          ]
        }
      ]
    },
    {
      "cell_type": "markdown",
      "source": [
        "The most frequent single letter in english is 'E'. So, replace 'F'(the most frequent etter here) with 'E'. The mapping:\n",
        "\n",
        "**F:E**"
      ],
      "metadata": {
        "id": "wu2SLSbReCkk"
      }
    },
    {
      "cell_type": "code",
      "source": [
        "mapping = {'F':'E'}\n",
        "algo(ciphertext_d, mapping, words_per_line)"
      ],
      "metadata": {
        "colab": {
          "base_uri": "https://localhost:8080/"
        },
        "id": "0fNoXVZNeYVu",
        "outputId": "7fbe79b0-6c3c-40f6-b157-7b181a248dfa"
      },
      "execution_count": 69,
      "outputs": [
        {
          "output_type": "stream",
          "name": "stdout",
          "text": [
            "Ciphertext:\n",
            "JGRMQOYGHMVBJ WRWQFPW HGF FDQGFPFZR KBEEBJIZQ QO CIBZK. LFAFGQVFZFWW, EOG WOPF\n",
            "GFHWOL PHLR LOLFDMFGQW BLWBWQ OL KFWBYLBLY LFS FLJGRMQBOL WJVFPFW QVHQ\n",
            "WFFP QO QVFP QO CF POGF WFJIGF QVHL HLR OQVFG\n",
            "WJVFPF OL FHGQV. QVF ILEOGQILHQF QGIQV VOSFAFG BW QVHQ WIJV\n",
            "WJVFPFW HGF IWIHZZR QGBABHZ QO CGFHX.\n",
            "\n",
            "Decrypted Text:\n",
            "************* ****E** **E E***E*E** ********* ** *****. *E*E***E*E**, *** ***E\n",
            "*E**** **** ***E**E*** ****** ** *E******* *E* E********* ***E*E* ****\n",
            "*EE* ** **E* ** *E ***E *E***E **** *** ***E*\n",
            "***E*E ** E****. **E **********E ***** ***E*E* ** **** ****\n",
            "***E*E* **E ******* ******* ** **E**.\n"
          ]
        }
      ]
    },
    {
      "cell_type": "markdown",
      "source": [
        "The word *E in the 3rd line would be 'BE' because it is the most frequent two letter word in english. The mapping:\n",
        "\n",
        "**Q : B**"
      ],
      "metadata": {
        "id": "vgkVj3D7Z6Pe"
      }
    },
    {
      "cell_type": "code",
      "source": [
        "mapping = {'F':'E','Q':'B'}\n",
        "algo(ciphertext_d, mapping, words_per_line)"
      ],
      "metadata": {
        "colab": {
          "base_uri": "https://localhost:8080/"
        },
        "id": "RTWvuPKwaQiN",
        "outputId": "ee89303d-9422-4eb8-9326-699cb210a65b"
      },
      "execution_count": 70,
      "outputs": [
        {
          "output_type": "stream",
          "name": "stdout",
          "text": [
            "Ciphertext:\n",
            "JGRMQOYGHMVBJ WRWQFPW HGF FDQGFPFZR KBEEBJIZQ QO CIBZK. LFAFGQVFZFWW, EOG WOPF\n",
            "GFHWOL PHLR LOLFDMFGQW BLWBWQ OL KFWBYLBLY LFS FLJGRMQBOL WJVFPFW QVHQ\n",
            "WFFP QO QVFP QO CF POGF WFJIGF QVHL HLR OQVFG\n",
            "WJVFPF OL FHGQV. QVF ILEOGQILHQF QGIQV VOSFAFG BW QVHQ WIJV\n",
            "WJVFPFW HGF IWIHZZR QGBABHZ QO CGFHX.\n",
            "\n",
            "Decrypted Text:\n",
            "****B******** ***BE** **E E*B*E*E** ********B B* *****. *E*E*B*E*E**, *** ***E\n",
            "*E**** **** ***E**E*B* *****B ** *E******* *E* E*****B*** ***E*E* B**B\n",
            "*EE* B* B*E* B* *E ***E *E***E B*** *** *B*E*\n",
            "***E*E ** E**B*. B*E *****B***BE B**B* ***E*E* ** B**B ****\n",
            "***E*E* **E ******* B****** B* **E**.\n"
          ]
        }
      ]
    },
    {
      "cell_type": "markdown",
      "source": [
        "There are many 'B*' in the text. The most frequent two letter word starting with B is BE. But E is already mapped and BE have not formed yet. So, the second most frequent (BY) would be substitued. The mapping:\n",
        "\n",
        "**O:Y**"
      ],
      "metadata": {
        "id": "yhd7thdZ0OLZ"
      }
    },
    {
      "cell_type": "code",
      "source": [
        "mapping = {'F':'E','Q':'B','O':'Y'}\n",
        "algo(ciphertext_d, mapping, words_per_line)\n",
        "freq_analyze(ciphertext_d)"
      ],
      "metadata": {
        "colab": {
          "base_uri": "https://localhost:8080/"
        },
        "id": "YiwRriQL0w5s",
        "outputId": "fe6beebb-8ba0-4f01-8a3a-c733017529dc"
      },
      "execution_count": 71,
      "outputs": [
        {
          "output_type": "stream",
          "name": "stdout",
          "text": [
            "Ciphertext:\n",
            "JGRMQOYGHMVBJ WRWQFPW HGF FDQGFPFZR KBEEBJIZQ QO CIBZK. LFAFGQVFZFWW, EOG WOPF\n",
            "GFHWOL PHLR LOLFDMFGQW BLWBWQ OL KFWBYLBLY LFS FLJGRMQBOL WJVFPFW QVHQ\n",
            "WFFP QO QVFP QO CF POGF WFJIGF QVHL HLR OQVFG\n",
            "WJVFPF OL FHGQV. QVF ILEOGQILHQF QGIQV VOSFAFG BW QVHQ WIJV\n",
            "WJVFPFW HGF IWIHZZR QGBABHZ QO CGFHX.\n",
            "\n",
            "Decrypted Text:\n",
            "****BY******* ***BE** **E E*B*E*E** ********B BY *****. *E*E*B*E*E**, *Y* *Y*E\n",
            "*E**Y* **** *Y*E**E*B* *****B Y* *E******* *E* E*****B*Y* ***E*E* B**B\n",
            "*EE* BY B*E* BY *E *Y*E *E***E B*** *** YB*E*\n",
            "***E*E Y* E**B*. B*E ***Y*B***BE B**B* *Y*E*E* ** B**B ****\n",
            "***E*E* **E ******* B****** BY **E**.\n",
            "Character frequencies in the ciphertext (descending order):\n",
            "'F': 37\n",
            "'Q': 26\n",
            "'W': 21\n",
            "'G': 19\n",
            "'L': 17\n",
            "'O': 16\n",
            "'V': 15\n",
            "'H': 14\n",
            "'B': 12\n",
            "'P': 10\n",
            "'J': 9\n",
            "'I': 9\n",
            "'R': 7\n",
            "'Z': 7\n",
            "'M': 4\n",
            "'E': 4\n",
            "'Y': 3\n",
            "'K': 3\n",
            "'C': 3\n",
            "'A': 3\n",
            "'D': 2\n",
            "'S': 2\n",
            "'X': 1\n"
          ]
        }
      ]
    },
    {
      "cell_type": "markdown",
      "source": [
        "There are no such word 'Y*' in english language. There are some mistake while mapping. Let's start with a different way. The most frequent letter in the text is 'F' and then 'Q'. The most frequent single letter in english is 'E' and 'T' respectively. F is replaced with E previously. So, the mapping:\n",
        "\n",
        "**Q:T**\n",
        "\n",
        "and discard the mapping **Q:B**."
      ],
      "metadata": {
        "id": "oMYUCnKj1JmJ"
      }
    },
    {
      "cell_type": "code",
      "source": [
        "mapping = {'F':'E','O':'Y','Q':'T'}\n",
        "algo(ciphertext_d, mapping, words_per_line)"
      ],
      "metadata": {
        "colab": {
          "base_uri": "https://localhost:8080/"
        },
        "id": "jreEvmUS2YUa",
        "outputId": "bf255387-0df2-48d2-f58f-7b4eb38a932d"
      },
      "execution_count": 72,
      "outputs": [
        {
          "output_type": "stream",
          "name": "stdout",
          "text": [
            "Ciphertext:\n",
            "JGRMQOYGHMVBJ WRWQFPW HGF FDQGFPFZR KBEEBJIZQ QO CIBZK. LFAFGQVFZFWW, EOG WOPF\n",
            "GFHWOL PHLR LOLFDMFGQW BLWBWQ OL KFWBYLBLY LFS FLJGRMQBOL WJVFPFW QVHQ\n",
            "WFFP QO QVFP QO CF POGF WFJIGF QVHL HLR OQVFG\n",
            "WJVFPF OL FHGQV. QVF ILEOGQILHQF QGIQV VOSFAFG BW QVHQ WIJV\n",
            "WJVFPFW HGF IWIHZZR QGBABHZ QO CGFHX.\n",
            "\n",
            "Decrypted Text:\n",
            "****TY******* ***TE** **E E*T*E*E** ********T TY *****. *E*E*T*E*E**, *Y* *Y*E\n",
            "*E**Y* **** *Y*E**E*T* *****T Y* *E******* *E* E*****T*Y* ***E*E* T**T\n",
            "*EE* TY T*E* TY *E *Y*E *E***E T*** *** YT*E*\n",
            "***E*E Y* E**T*. T*E ***Y*T***TE T**T* *Y*E*E* ** T**T ****\n",
            "***E*E* **E ******* T****** TY **E**.\n"
          ]
        }
      ]
    },
    {
      "cell_type": "markdown",
      "source": [
        "There is no such a word in english 'TY'. That would be 'TO'. So, discard the map O:Y ans map 'O' with 'O'. The mapping:\n",
        "\n",
        "**O:O **\n",
        "There is no substitution. That great!"
      ],
      "metadata": {
        "id": "At4yN4Ph36Rw"
      }
    },
    {
      "cell_type": "code",
      "source": [
        "mapping = {'F':'E','O':'O','Q':'T'}\n",
        "algo(ciphertext_d, mapping, words_per_line)"
      ],
      "metadata": {
        "colab": {
          "base_uri": "https://localhost:8080/"
        },
        "id": "Vqs4XNh34vfg",
        "outputId": "07f3fade-8309-415a-ce2a-daed3dc991b1"
      },
      "execution_count": 73,
      "outputs": [
        {
          "output_type": "stream",
          "name": "stdout",
          "text": [
            "Ciphertext:\n",
            "JGRMQOYGHMVBJ WRWQFPW HGF FDQGFPFZR KBEEBJIZQ QO CIBZK. LFAFGQVFZFWW, EOG WOPF\n",
            "GFHWOL PHLR LOLFDMFGQW BLWBWQ OL KFWBYLBLY LFS FLJGRMQBOL WJVFPFW QVHQ\n",
            "WFFP QO QVFP QO CF POGF WFJIGF QVHL HLR OQVFG\n",
            "WJVFPF OL FHGQV. QVF ILEOGQILHQF QGIQV VOSFAFG BW QVHQ WIJV\n",
            "WJVFPFW HGF IWIHZZR QGBABHZ QO CGFHX.\n",
            "\n",
            "Decrypted Text:\n",
            "****TO******* ***TE** **E E*T*E*E** ********T TO *****. *E*E*T*E*E**, *O* *O*E\n",
            "*E**O* **** *O*E**E*T* *****T O* *E******* *E* E*****T*O* ***E*E* T**T\n",
            "*EE* TO T*E* TO *E *O*E *E***E T*** *** OT*E*\n",
            "***E*E O* E**T*. T*E ***O*T***TE T**T* *O*E*E* ** T**T ****\n",
            "***E*E* **E ******* T****** TO **E**.\n"
          ]
        }
      ]
    },
    {
      "cell_type": "markdown",
      "source": [
        "The phrase 'TO *E' would be 'TO BE' in the 3rd line. The mapping:\n",
        "\n",
        "**C:B**"
      ],
      "metadata": {
        "id": "U5lkh4dn47C0"
      }
    },
    {
      "cell_type": "code",
      "source": [
        "mapping = {'F':'E','O':'O','Q':'T','C':'B'}\n",
        "algo(ciphertext_d, mapping, words_per_line)"
      ],
      "metadata": {
        "colab": {
          "base_uri": "https://localhost:8080/"
        },
        "id": "IshVFGNC5ICw",
        "outputId": "a5d6ed55-9d63-4736-a5c4-00c5921aeeb9"
      },
      "execution_count": 74,
      "outputs": [
        {
          "output_type": "stream",
          "name": "stdout",
          "text": [
            "Ciphertext:\n",
            "JGRMQOYGHMVBJ WRWQFPW HGF FDQGFPFZR KBEEBJIZQ QO CIBZK. LFAFGQVFZFWW, EOG WOPF\n",
            "GFHWOL PHLR LOLFDMFGQW BLWBWQ OL KFWBYLBLY LFS FLJGRMQBOL WJVFPFW QVHQ\n",
            "WFFP QO QVFP QO CF POGF WFJIGF QVHL HLR OQVFG\n",
            "WJVFPF OL FHGQV. QVF ILEOGQILHQF QGIQV VOSFAFG BW QVHQ WIJV\n",
            "WJVFPFW HGF IWIHZZR QGBABHZ QO CGFHX.\n",
            "\n",
            "Decrypted Text:\n",
            "****TO******* ***TE** **E E*T*E*E** ********T TO B****. *E*E*T*E*E**, *O* *O*E\n",
            "*E**O* **** *O*E**E*T* *****T O* *E******* *E* E*****T*O* ***E*E* T**T\n",
            "*EE* TO T*E* TO BE *O*E *E***E T*** *** OT*E*\n",
            "***E*E O* E**T*. T*E ***O*T***TE T**T* *O*E*E* ** T**T ****\n",
            "***E*E* **E ******* T****** TO B*E**.\n"
          ]
        }
      ]
    },
    {
      "cell_type": "markdown",
      "source": [
        "There are many 'T**T' in the text. the most frequent four letter word starting and ending with 'T' is 'THAT'. So, the mapping:\n",
        "\n",
        "**V:H**\n",
        "\n",
        "**H:A**"
      ],
      "metadata": {
        "id": "50Z0QvVi5VN1"
      }
    },
    {
      "cell_type": "code",
      "source": [
        "mapping = {'F':'E','O':'O','Q':'T','C':'B','V':'H','H':'A'}\n",
        "algo(ciphertext_d, mapping, words_per_line)"
      ],
      "metadata": {
        "colab": {
          "base_uri": "https://localhost:8080/"
        },
        "id": "VfbS2zFE5n_J",
        "outputId": "4eb73b8a-2d8d-4f65-e3fe-045757cf2d6e"
      },
      "execution_count": 75,
      "outputs": [
        {
          "output_type": "stream",
          "name": "stdout",
          "text": [
            "Ciphertext:\n",
            "JGRMQOYGHMVBJ WRWQFPW HGF FDQGFPFZR KBEEBJIZQ QO CIBZK. LFAFGQVFZFWW, EOG WOPF\n",
            "GFHWOL PHLR LOLFDMFGQW BLWBWQ OL KFWBYLBLY LFS FLJGRMQBOL WJVFPFW QVHQ\n",
            "WFFP QO QVFP QO CF POGF WFJIGF QVHL HLR OQVFG\n",
            "WJVFPF OL FHGQV. QVF ILEOGQILHQF QGIQV VOSFAFG BW QVHQ WIJV\n",
            "WJVFPFW HGF IWIHZZR QGBABHZ QO CGFHX.\n",
            "\n",
            "Decrypted Text:\n",
            "****TO**A*H** ***TE** A*E E*T*E*E** ********T TO B****. *E*E*THE*E**, *O* *O*E\n",
            "*EA*O* *A** *O*E**E*T* *****T O* *E******* *E* E*****T*O* **HE*E* THAT\n",
            "*EE* TO THE* TO BE *O*E *E***E THA* A** OTHE*\n",
            "**HE*E O* EA*TH. THE ***O*T**ATE T**TH HO*E*E* ** THAT ***H\n",
            "**HE*E* A*E ***A*** T****A* TO B*EA*.\n"
          ]
        }
      ]
    },
    {
      "cell_type": "markdown",
      "source": [
        "The 3rd word of first line(A*E) would be 'ARE'. So, the mapping:\n",
        "\n",
        "**G:R**"
      ],
      "metadata": {
        "id": "dypt453o5yFn"
      }
    },
    {
      "cell_type": "code",
      "source": [
        "mapping = {'F':'E','O':'O','Q':'T','C':'B','V':'H','H':'A','G':'R'}\n",
        "algo(ciphertext_d, mapping, words_per_line)"
      ],
      "metadata": {
        "colab": {
          "base_uri": "https://localhost:8080/"
        },
        "id": "ZhxHPoGC59Ye",
        "outputId": "ebd82176-73ee-431f-bf26-bf04f2d904c7"
      },
      "execution_count": 76,
      "outputs": [
        {
          "output_type": "stream",
          "name": "stdout",
          "text": [
            "Ciphertext:\n",
            "JGRMQOYGHMVBJ WRWQFPW HGF FDQGFPFZR KBEEBJIZQ QO CIBZK. LFAFGQVFZFWW, EOG WOPF\n",
            "GFHWOL PHLR LOLFDMFGQW BLWBWQ OL KFWBYLBLY LFS FLJGRMQBOL WJVFPFW QVHQ\n",
            "WFFP QO QVFP QO CF POGF WFJIGF QVHL HLR OQVFG\n",
            "WJVFPF OL FHGQV. QVF ILEOGQILHQF QGIQV VOSFAFG BW QVHQ WIJV\n",
            "WJVFPFW HGF IWIHZZR QGBABHZ QO CGFHX.\n",
            "\n",
            "Decrypted Text:\n",
            "*R**TO*RA*H** ***TE** ARE E*TRE*E** ********T TO B****. *E*ERTHE*E**, *OR *O*E\n",
            "REA*O* *A** *O*E**ERT* *****T O* *E******* *E* E**R**T*O* **HE*E* THAT\n",
            "*EE* TO THE* TO BE *ORE *E**RE THA* A** OTHER\n",
            "**HE*E O* EARTH. THE ***ORT**ATE TR*TH HO*E*ER ** THAT ***H\n",
            "**HE*E* ARE ***A*** TR***A* TO BREA*.\n"
          ]
        }
      ]
    },
    {
      "cell_type": "markdown",
      "source": [
        "The phrase 'TO THE*' would be 'TO THEM'. So, the mapping:\n",
        "\n",
        "**P:M**"
      ],
      "metadata": {
        "id": "mEVEk9RU6KZA"
      }
    },
    {
      "cell_type": "code",
      "source": [
        "mapping = {'F':'E','O':'O','Q':'T','C':'B','V':'H','H':'A','G':'R','P':'M'}\n",
        "algo(ciphertext_d, mapping, words_per_line)"
      ],
      "metadata": {
        "colab": {
          "base_uri": "https://localhost:8080/"
        },
        "id": "eIEvlKe86WRE",
        "outputId": "df8f50e3-eaa7-4171-9937-8dcf869524fc"
      },
      "execution_count": 77,
      "outputs": [
        {
          "output_type": "stream",
          "name": "stdout",
          "text": [
            "Ciphertext:\n",
            "JGRMQOYGHMVBJ WRWQFPW HGF FDQGFPFZR KBEEBJIZQ QO CIBZK. LFAFGQVFZFWW, EOG WOPF\n",
            "GFHWOL PHLR LOLFDMFGQW BLWBWQ OL KFWBYLBLY LFS FLJGRMQBOL WJVFPFW QVHQ\n",
            "WFFP QO QVFP QO CF POGF WFJIGF QVHL HLR OQVFG\n",
            "WJVFPF OL FHGQV. QVF ILEOGQILHQF QGIQV VOSFAFG BW QVHQ WIJV\n",
            "WJVFPFW HGF IWIHZZR QGBABHZ QO CGFHX.\n",
            "\n",
            "Decrypted Text:\n",
            "*R**TO*RA*H** ***TEM* ARE E*TREME** ********T TO B****. *E*ERTHE*E**, *OR *OME\n",
            "REA*O* MA** *O*E**ERT* *****T O* *E******* *E* E**R**T*O* **HEME* THAT\n",
            "*EEM TO THEM TO BE MORE *E**RE THA* A** OTHER\n",
            "**HEME O* EARTH. THE ***ORT**ATE TR*TH HO*E*ER ** THAT ***H\n",
            "**HEME* ARE ***A*** TR***A* TO BREA*.\n"
          ]
        }
      ]
    },
    {
      "cell_type": "markdown",
      "source": [
        "The phrase '*OR *OME' would be 'FOR SOME'. The mapping:\n",
        "\n",
        "**E:F**\n",
        "\n",
        "**W:S**"
      ],
      "metadata": {
        "id": "vEaoIZXs6hdG"
      }
    },
    {
      "cell_type": "code",
      "source": [
        "mapping = {'F':'E','O':'O','Q':'T','C':'B','V':'H','H':'A','G':'R',\n",
        "           'P':'M','E':'F','W':'S'}\n",
        "algo(ciphertext_d, mapping, words_per_line)"
      ],
      "metadata": {
        "colab": {
          "base_uri": "https://localhost:8080/"
        },
        "id": "Rkgci_026vCD",
        "outputId": "a4197959-48b6-4dfe-8624-7bea6ce0f56e"
      },
      "execution_count": 78,
      "outputs": [
        {
          "output_type": "stream",
          "name": "stdout",
          "text": [
            "Ciphertext:\n",
            "JGRMQOYGHMVBJ WRWQFPW HGF FDQGFPFZR KBEEBJIZQ QO CIBZK. LFAFGQVFZFWW, EOG WOPF\n",
            "GFHWOL PHLR LOLFDMFGQW BLWBWQ OL KFWBYLBLY LFS FLJGRMQBOL WJVFPFW QVHQ\n",
            "WFFP QO QVFP QO CF POGF WFJIGF QVHL HLR OQVFG\n",
            "WJVFPF OL FHGQV. QVF ILEOGQILHQF QGIQV VOSFAFG BW QVHQ WIJV\n",
            "WJVFPFW HGF IWIHZZR QGBABHZ QO CGFHX.\n",
            "\n",
            "Decrypted Text:\n",
            "*R**TO*RA*H** S*STEMS ARE E*TREME** **FF****T TO B****. *E*ERTHE*ESS, FOR SOME\n",
            "REASO* MA** *O*E**ERTS **S*ST O* *ES****** *E* E**R**T*O* S*HEMES THAT\n",
            "SEEM TO THEM TO BE MORE SE**RE THA* A** OTHER\n",
            "S*HEME O* EARTH. THE **FORT**ATE TR*TH HO*E*ER *S THAT S**H\n",
            "S*HEMES ARE *S*A*** TR***A* TO BREA*.\n"
          ]
        }
      ]
    },
    {
      "cell_type": "markdown",
      "source": [
        "The word 'S*STEMS' in the first line would be 'SYSTEMS'. SO, the mapping:\n",
        "\n",
        "**R:Y**"
      ],
      "metadata": {
        "id": "Pu8kT7nn64PX"
      }
    },
    {
      "cell_type": "code",
      "source": [
        "mapping = {'F':'E','O':'O','Q':'T','C':'B','V':'H','H':'A','G':'R',\n",
        "           'P':'M','E':'F','W':'S','R':'Y'}\n",
        "algo(ciphertext_d, mapping, words_per_line)"
      ],
      "metadata": {
        "colab": {
          "base_uri": "https://localhost:8080/"
        },
        "id": "RmW3Us3-7C4j",
        "outputId": "82f2a5c3-8b86-4c7b-8e56-2f94eb7d513d"
      },
      "execution_count": 79,
      "outputs": [
        {
          "output_type": "stream",
          "name": "stdout",
          "text": [
            "Ciphertext:\n",
            "JGRMQOYGHMVBJ WRWQFPW HGF FDQGFPFZR KBEEBJIZQ QO CIBZK. LFAFGQVFZFWW, EOG WOPF\n",
            "GFHWOL PHLR LOLFDMFGQW BLWBWQ OL KFWBYLBLY LFS FLJGRMQBOL WJVFPFW QVHQ\n",
            "WFFP QO QVFP QO CF POGF WFJIGF QVHL HLR OQVFG\n",
            "WJVFPF OL FHGQV. QVF ILEOGQILHQF QGIQV VOSFAFG BW QVHQ WIJV\n",
            "WJVFPFW HGF IWIHZZR QGBABHZ QO CGFHX.\n",
            "\n",
            "Decrypted Text:\n",
            "*RY*TO*RA*H** SYSTEMS ARE E*TREME*Y **FF****T TO B****. *E*ERTHE*ESS, FOR SOME\n",
            "REASO* MA*Y *O*E**ERTS **S*ST O* *ES****** *E* E**RY*T*O* S*HEMES THAT\n",
            "SEEM TO THEM TO BE MORE SE**RE THA* A*Y OTHER\n",
            "S*HEME O* EARTH. THE **FORT**ATE TR*TH HO*E*ER *S THAT S**H\n",
            "S*HEMES ARE *S*A**Y TR***A* TO BREA*.\n"
          ]
        }
      ]
    },
    {
      "cell_type": "markdown",
      "source": [
        "The word 'E* TREME*Y' would be 'EXSTREMELY'. The mapping:\n",
        "\n",
        "**D:X**\n",
        "\n",
        "**Z:L**"
      ],
      "metadata": {
        "id": "dybP3Pzl7Iwv"
      }
    },
    {
      "cell_type": "code",
      "source": [
        "mapping = {'F':'E','O':'O','Q':'T','C':'B','V':'H','H':'A','G':'R',\n",
        "           'P':'M','E':'F','W':'S','R':'Y','D':'X','Z':'L'}\n",
        "algo(ciphertext_d, mapping, words_per_line)"
      ],
      "metadata": {
        "colab": {
          "base_uri": "https://localhost:8080/"
        },
        "id": "CTKBNMug7b54",
        "outputId": "6d493d0c-bca3-4b92-d40b-8bb9cdb87325"
      },
      "execution_count": 80,
      "outputs": [
        {
          "output_type": "stream",
          "name": "stdout",
          "text": [
            "Ciphertext:\n",
            "JGRMQOYGHMVBJ WRWQFPW HGF FDQGFPFZR KBEEBJIZQ QO CIBZK. LFAFGQVFZFWW, EOG WOPF\n",
            "GFHWOL PHLR LOLFDMFGQW BLWBWQ OL KFWBYLBLY LFS FLJGRMQBOL WJVFPFW QVHQ\n",
            "WFFP QO QVFP QO CF POGF WFJIGF QVHL HLR OQVFG\n",
            "WJVFPF OL FHGQV. QVF ILEOGQILHQF QGIQV VOSFAFG BW QVHQ WIJV\n",
            "WJVFPFW HGF IWIHZZR QGBABHZ QO CGFHX.\n",
            "\n",
            "Decrypted Text:\n",
            "*RY*TO*RA*H** SYSTEMS ARE EXTREMELY **FF***LT TO B**L*. *E*ERTHELESS, FOR SOME\n",
            "REASO* MA*Y *O*EX*ERTS **S*ST O* *ES****** *E* E**RY*T*O* S*HEMES THAT\n",
            "SEEM TO THEM TO BE MORE SE**RE THA* A*Y OTHER\n",
            "S*HEME O* EARTH. THE **FORT**ATE TR*TH HO*E*ER *S THAT S**H\n",
            "S*HEMES ARE *S*ALLY TR***AL TO BREA*.\n"
          ]
        }
      ]
    },
    {
      "cell_type": "markdown",
      "source": [
        "The word '* E*ERTHELESS' in the very first line would be 'NEVERTHELESS'. So, the mapping:\n",
        "\n",
        "**L:N**\n",
        "\n",
        "**A:V**"
      ],
      "metadata": {
        "id": "Y5cYqLSS7mKa"
      }
    },
    {
      "cell_type": "code",
      "source": [
        "mapping = {'F':'E','O':'O','Q':'T','C':'B','V':'H','H':'A','G':'R',\n",
        "           'P':'M','E':'F','W':'S','R':'Y','D':'X','Z':'L','L':'N','A':'V'}\n",
        "algo(ciphertext_d, mapping, words_per_line)"
      ],
      "metadata": {
        "colab": {
          "base_uri": "https://localhost:8080/"
        },
        "id": "VmF9i9BK70lm",
        "outputId": "80b22068-217d-4078-cba8-8da0fe3687d9"
      },
      "execution_count": 81,
      "outputs": [
        {
          "output_type": "stream",
          "name": "stdout",
          "text": [
            "Ciphertext:\n",
            "JGRMQOYGHMVBJ WRWQFPW HGF FDQGFPFZR KBEEBJIZQ QO CIBZK. LFAFGQVFZFWW, EOG WOPF\n",
            "GFHWOL PHLR LOLFDMFGQW BLWBWQ OL KFWBYLBLY LFS FLJGRMQBOL WJVFPFW QVHQ\n",
            "WFFP QO QVFP QO CF POGF WFJIGF QVHL HLR OQVFG\n",
            "WJVFPF OL FHGQV. QVF ILEOGQILHQF QGIQV VOSFAFG BW QVHQ WIJV\n",
            "WJVFPFW HGF IWIHZZR QGBABHZ QO CGFHX.\n",
            "\n",
            "Decrypted Text:\n",
            "*RY*TO*RA*H** SYSTEMS ARE EXTREMELY **FF***LT TO B**L*. NEVERTHELESS, FOR SOME\n",
            "REASON MANY NONEX*ERTS *NS*ST ON *ES**N*N* NE* EN*RY*T*ON S*HEMES THAT\n",
            "SEEM TO THEM TO BE MORE SE**RE THAN ANY OTHER\n",
            "S*HEME ON EARTH. THE *NFORT*NATE TR*TH HO*EVER *S THAT S**H\n",
            "S*HEMES ARE *S*ALLY TR*V*AL TO BREA*.\n"
          ]
        }
      ]
    },
    {
      "cell_type": "markdown",
      "source": [
        "The word 'NONEX*ERTS' in 2nd line would be 'NONEXPERTS'. the mapping:\n",
        "\n",
        "**M:P**"
      ],
      "metadata": {
        "id": "DvqmrmGW8AzH"
      }
    },
    {
      "cell_type": "code",
      "source": [
        "mapping = {'F':'E','O':'O','Q':'T','C':'B','V':'H','H':'A','G':'R',\n",
        "           'P':'M','E':'F','W':'S','R':'Y','D':'X','Z':'L','L':'N','A':'V','M':'P'}\n",
        "algo(ciphertext_d, mapping, words_per_line)"
      ],
      "metadata": {
        "colab": {
          "base_uri": "https://localhost:8080/"
        },
        "id": "Up02SSEf8Oiu",
        "outputId": "6aba6685-c677-4fac-ace7-f1590cc672d7"
      },
      "execution_count": 82,
      "outputs": [
        {
          "output_type": "stream",
          "name": "stdout",
          "text": [
            "Ciphertext:\n",
            "JGRMQOYGHMVBJ WRWQFPW HGF FDQGFPFZR KBEEBJIZQ QO CIBZK. LFAFGQVFZFWW, EOG WOPF\n",
            "GFHWOL PHLR LOLFDMFGQW BLWBWQ OL KFWBYLBLY LFS FLJGRMQBOL WJVFPFW QVHQ\n",
            "WFFP QO QVFP QO CF POGF WFJIGF QVHL HLR OQVFG\n",
            "WJVFPF OL FHGQV. QVF ILEOGQILHQF QGIQV VOSFAFG BW QVHQ WIJV\n",
            "WJVFPFW HGF IWIHZZR QGBABHZ QO CGFHX.\n",
            "\n",
            "Decrypted Text:\n",
            "*RYPTO*RAPH** SYSTEMS ARE EXTREMELY **FF***LT TO B**L*. NEVERTHELESS, FOR SOME\n",
            "REASON MANY NONEXPERTS *NS*ST ON *ES**N*N* NE* EN*RYPT*ON S*HEMES THAT\n",
            "SEEM TO THEM TO BE MORE SE**RE THAN ANY OTHER\n",
            "S*HEME ON EARTH. THE *NFORT*NATE TR*TH HO*EVER *S THAT S**H\n",
            "S*HEMES ARE *S*ALLY TR*V*AL TO BREA*.\n"
          ]
        }
      ]
    },
    {
      "cell_type": "markdown",
      "source": [
        "The word 'S*HEMES' in 2nd line would be 'SCHEMES'. The mapping:\n",
        "\n",
        "**J:C**"
      ],
      "metadata": {
        "id": "i26Lke9f8cPE"
      }
    },
    {
      "cell_type": "code",
      "source": [
        "mapping = {'F':'E','O':'O','Q':'T','C':'B','V':'H','H':'A','G':'R','P':'M',\n",
        "           'E':'F','W':'S','R':'Y','D':'X','Z':'L','L':'N','A':'V','M':'P','J':'C'}\n",
        "algo(ciphertext_d, mapping, words_per_line)"
      ],
      "metadata": {
        "colab": {
          "base_uri": "https://localhost:8080/"
        },
        "id": "czjZFpXf8mLG",
        "outputId": "8daf5fc4-e975-4548-8b91-656691174cd0"
      },
      "execution_count": 83,
      "outputs": [
        {
          "output_type": "stream",
          "name": "stdout",
          "text": [
            "Ciphertext:\n",
            "JGRMQOYGHMVBJ WRWQFPW HGF FDQGFPFZR KBEEBJIZQ QO CIBZK. LFAFGQVFZFWW, EOG WOPF\n",
            "GFHWOL PHLR LOLFDMFGQW BLWBWQ OL KFWBYLBLY LFS FLJGRMQBOL WJVFPFW QVHQ\n",
            "WFFP QO QVFP QO CF POGF WFJIGF QVHL HLR OQVFG\n",
            "WJVFPF OL FHGQV. QVF ILEOGQILHQF QGIQV VOSFAFG BW QVHQ WIJV\n",
            "WJVFPFW HGF IWIHZZR QGBABHZ QO CGFHX.\n",
            "\n",
            "Decrypted Text:\n",
            "CRYPTO*RAPH*C SYSTEMS ARE EXTREMELY **FF*C*LT TO B**L*. NEVERTHELESS, FOR SOME\n",
            "REASON MANY NONEXPERTS *NS*ST ON *ES**N*N* NE* ENCRYPT*ON SCHEMES THAT\n",
            "SEEM TO THEM TO BE MORE SEC*RE THAN ANY OTHER\n",
            "SCHEME ON EARTH. THE *NFORT*NATE TR*TH HO*EVER *S THAT S*CH\n",
            "SCHEMES ARE *S*ALLY TR*V*AL TO BREA*.\n"
          ]
        }
      ]
    },
    {
      "cell_type": "markdown",
      "source": [
        "The phrase 'THE * NFORT* NATE TR*TH' would be 'THE UNFORTUNATE TRUTH'. The mapping:\n",
        "\n",
        "**I:U**"
      ],
      "metadata": {
        "id": "Wky6pdbI8Yh9"
      }
    },
    {
      "cell_type": "code",
      "source": [
        "mapping = {'F':'E','O':'O','Q':'T','C':'B','V':'H','H':'A','G':'R','P':'M','E':'F','W':'S',\n",
        "           'R':'Y','D':'X','Z':'L','L':'N','A':'V','M':'P','J':'C','I':'U'}\n",
        "algo(ciphertext_d, mapping, words_per_line)"
      ],
      "metadata": {
        "colab": {
          "base_uri": "https://localhost:8080/"
        },
        "id": "k36FgeyW9Bh6",
        "outputId": "56c37944-81fe-4ae2-f4b4-acf87317213e"
      },
      "execution_count": 84,
      "outputs": [
        {
          "output_type": "stream",
          "name": "stdout",
          "text": [
            "Ciphertext:\n",
            "JGRMQOYGHMVBJ WRWQFPW HGF FDQGFPFZR KBEEBJIZQ QO CIBZK. LFAFGQVFZFWW, EOG WOPF\n",
            "GFHWOL PHLR LOLFDMFGQW BLWBWQ OL KFWBYLBLY LFS FLJGRMQBOL WJVFPFW QVHQ\n",
            "WFFP QO QVFP QO CF POGF WFJIGF QVHL HLR OQVFG\n",
            "WJVFPF OL FHGQV. QVF ILEOGQILHQF QGIQV VOSFAFG BW QVHQ WIJV\n",
            "WJVFPFW HGF IWIHZZR QGBABHZ QO CGFHX.\n",
            "\n",
            "Decrypted Text:\n",
            "CRYPTO*RAPH*C SYSTEMS ARE EXTREMELY **FF*CULT TO BU*L*. NEVERTHELESS, FOR SOME\n",
            "REASON MANY NONEXPERTS *NS*ST ON *ES**N*N* NE* ENCRYPT*ON SCHEMES THAT\n",
            "SEEM TO THEM TO BE MORE SECURE THAN ANY OTHER\n",
            "SCHEME ON EARTH. THE UNFORTUNATE TRUTH HO*EVER *S THAT SUCH\n",
            "SCHEMES ARE USUALLY TR*V*AL TO BREA*.\n"
          ]
        }
      ]
    },
    {
      "cell_type": "markdown",
      "source": [
        "The very first word of the text (CRYPTO* RAPH*C) would be 'CRYPTOGRAPHIC'. The mapping:\n",
        "\n",
        "**Y:G**\n",
        "\n",
        "**B:I**"
      ],
      "metadata": {
        "id": "bPaN0tgG9IOK"
      }
    },
    {
      "cell_type": "code",
      "source": [
        "mapping = {'F':'E','O':'O','Q':'T','C':'B','V':'H','H':'A','G':'R','P':'M',\n",
        "           'E':'F','W':'S','R':'Y','D':'X','Z':'L','L':'N','A':'V','M':'P','J':'C',\n",
        "           'I':'U','Y':'G','B':'I'}\n",
        "algo(ciphertext_d, mapping, words_per_line)"
      ],
      "metadata": {
        "colab": {
          "base_uri": "https://localhost:8080/"
        },
        "id": "9YDEl0sL9bYy",
        "outputId": "484fb9c6-9b85-429c-e2b6-728678581677"
      },
      "execution_count": 85,
      "outputs": [
        {
          "output_type": "stream",
          "name": "stdout",
          "text": [
            "Ciphertext:\n",
            "JGRMQOYGHMVBJ WRWQFPW HGF FDQGFPFZR KBEEBJIZQ QO CIBZK. LFAFGQVFZFWW, EOG WOPF\n",
            "GFHWOL PHLR LOLFDMFGQW BLWBWQ OL KFWBYLBLY LFS FLJGRMQBOL WJVFPFW QVHQ\n",
            "WFFP QO QVFP QO CF POGF WFJIGF QVHL HLR OQVFG\n",
            "WJVFPF OL FHGQV. QVF ILEOGQILHQF QGIQV VOSFAFG BW QVHQ WIJV\n",
            "WJVFPFW HGF IWIHZZR QGBABHZ QO CGFHX.\n",
            "\n",
            "Decrypted Text:\n",
            "CRYPTOGRAPHIC SYSTEMS ARE EXTREMELY *IFFICULT TO BUIL*. NEVERTHELESS, FOR SOME\n",
            "REASON MANY NONEXPERTS INSIST ON *ESIGNING NE* ENCRYPTION SCHEMES THAT\n",
            "SEEM TO THEM TO BE MORE SECURE THAN ANY OTHER\n",
            "SCHEME ON EARTH. THE UNFORTUNATE TRUTH HO*EVER IS THAT SUCH\n",
            "SCHEMES ARE USUALLY TRIVIAL TO BREA*.\n"
          ]
        }
      ]
    },
    {
      "cell_type": "markdown",
      "source": [
        "The phrase '* IFFICULT TO BUIL*' in the first line would be 'DIFFICULT TO BUILD'. the mapping:\n",
        "\n",
        "**K:D**"
      ],
      "metadata": {
        "id": "ZizSgIbd9iyv"
      }
    },
    {
      "cell_type": "code",
      "source": [
        "mapping = {'F':'E','O':'O','Q':'T','C':'B','V':'H','H':'A','G':'R',\n",
        "           'P':'M','E':'F','W':'S','R':'Y','D':'X','Z':'L','L':'N','A':'V','M':'P',\n",
        "           'J':'C','I':'U','Y':'G','B':'I','K':'D'}\n",
        "algo(ciphertext_d, mapping, words_per_line)"
      ],
      "metadata": {
        "colab": {
          "base_uri": "https://localhost:8080/"
        },
        "id": "NPZ2Vndh9xO6",
        "outputId": "2c6fed65-7ef7-4863-e653-c0d7de8a31f6"
      },
      "execution_count": 86,
      "outputs": [
        {
          "output_type": "stream",
          "name": "stdout",
          "text": [
            "Ciphertext:\n",
            "JGRMQOYGHMVBJ WRWQFPW HGF FDQGFPFZR KBEEBJIZQ QO CIBZK. LFAFGQVFZFWW, EOG WOPF\n",
            "GFHWOL PHLR LOLFDMFGQW BLWBWQ OL KFWBYLBLY LFS FLJGRMQBOL WJVFPFW QVHQ\n",
            "WFFP QO QVFP QO CF POGF WFJIGF QVHL HLR OQVFG\n",
            "WJVFPF OL FHGQV. QVF ILEOGQILHQF QGIQV VOSFAFG BW QVHQ WIJV\n",
            "WJVFPFW HGF IWIHZZR QGBABHZ QO CGFHX.\n",
            "\n",
            "Decrypted Text:\n",
            "CRYPTOGRAPHIC SYSTEMS ARE EXTREMELY DIFFICULT TO BUILD. NEVERTHELESS, FOR SOME\n",
            "REASON MANY NONEXPERTS INSIST ON DESIGNING NE* ENCRYPTION SCHEMES THAT\n",
            "SEEM TO THEM TO BE MORE SECURE THAN ANY OTHER\n",
            "SCHEME ON EARTH. THE UNFORTUNATE TRUTH HO*EVER IS THAT SUCH\n",
            "SCHEMES ARE USUALLY TRIVIAL TO BREA*.\n"
          ]
        }
      ]
    },
    {
      "cell_type": "markdown",
      "source": [
        "The words 'NE* ' and 'BREA*' would be 'NEW' and 'BREAK' respectively. The mapping:\n",
        "\n",
        "**S:W**\n",
        "\n",
        "**X:K**"
      ],
      "metadata": {
        "id": "0D1MDKTP-FZX"
      }
    },
    {
      "cell_type": "code",
      "source": [
        "mapping = {'F':'E','O':'O','Q':'T','C':'B','V':'H','H':'A','G':'R','P':'M',\n",
        "           'E':'F','W':'S','R':'Y','D':'X','Z':'L','L':'N','A':'V','M':'P','J':'C',\n",
        "           'I':'U','Y':'G','B':'I','K':'D','S':'W','X':'K'}\n",
        "algo(ciphertext_d, mapping, words_per_line)"
      ],
      "metadata": {
        "colab": {
          "base_uri": "https://localhost:8080/"
        },
        "id": "FlRtSKlh94qm",
        "outputId": "b8c42149-2e7b-4620-eb1a-22de32d2ed6c"
      },
      "execution_count": 87,
      "outputs": [
        {
          "output_type": "stream",
          "name": "stdout",
          "text": [
            "Ciphertext:\n",
            "JGRMQOYGHMVBJ WRWQFPW HGF FDQGFPFZR KBEEBJIZQ QO CIBZK. LFAFGQVFZFWW, EOG WOPF\n",
            "GFHWOL PHLR LOLFDMFGQW BLWBWQ OL KFWBYLBLY LFS FLJGRMQBOL WJVFPFW QVHQ\n",
            "WFFP QO QVFP QO CF POGF WFJIGF QVHL HLR OQVFG\n",
            "WJVFPF OL FHGQV. QVF ILEOGQILHQF QGIQV VOSFAFG BW QVHQ WIJV\n",
            "WJVFPFW HGF IWIHZZR QGBABHZ QO CGFHX.\n",
            "\n",
            "Decrypted Text:\n",
            "CRYPTOGRAPHIC SYSTEMS ARE EXTREMELY DIFFICULT TO BUILD. NEVERTHELESS, FOR SOME\n",
            "REASON MANY NONEXPERTS INSIST ON DESIGNING NEW ENCRYPTION SCHEMES THAT\n",
            "SEEM TO THEM TO BE MORE SECURE THAN ANY OTHER\n",
            "SCHEME ON EARTH. THE UNFORTUNATE TRUTH HOWEVER IS THAT SUCH\n",
            "SCHEMES ARE USUALLY TRIVIAL TO BREAK.\n"
          ]
        }
      ]
    },
    {
      "cell_type": "markdown",
      "source": [
        "We have substitued all the letters successfully. So the final decrypted text is:\n",
        "\n",
        "**CRYPTOGRAPHIC SYSTEMS ARE EXTREMELY DIFFICULT TO BUILD. NEVERTHELESS, FOR SOME\n",
        "REASON MANY NONEXPERTS INSIST ON DESIGNING NEW ENCRYPTION SCHEMES THAT\n",
        "SEEM TO THEM TO BE MORE SECURE THAN ANY OTHER\n",
        "SCHEME ON EARTH. THE UNFORTUNATE TRUTH HOWEVER IS THAT SUCH\n",
        "SCHEMES ARE USUALLY TRIVIAL TO BREAK.**\n"
      ],
      "metadata": {
        "id": "oiCyfxaj-ePA"
      }
    },
    {
      "cell_type": "markdown",
      "source": [
        "#**Task-03**"
      ],
      "metadata": {
        "id": "MfAxGxGrfQi1"
      }
    },
    {
      "cell_type": "markdown",
      "source": [
        "Write a program to simulate the *Vignere crypto system* having the following properties and inputs. The program should have encryption as well as decryption facilities with the provision to ask the user the operation the user would like to perform.\n",
        "\n",
        "**Key**: SUSTCSE"
      ],
      "metadata": {
        "id": "EIWksKVWlsnt"
      }
    },
    {
      "cell_type": "markdown",
      "source": [
        "**Solution:**\n",
        "The code for encryption and decryption using vignere cipher system using a given key is below:"
      ],
      "metadata": {
        "id": "LfwASYoOmDBB"
      }
    },
    {
      "cell_type": "code",
      "source": [
        "# This function generates the key in a cyclic manner until it's length isn't equal to the length of original text\n",
        "def generateKey(string, key):\n",
        "    key = list(key)\n",
        "    new_key = []\n",
        "    j = 0\n",
        "    for i in range(len(string)):\n",
        "        if string[i] == ' ':\n",
        "            new_key.append(' ')\n",
        "        else:\n",
        "            new_key.append(key[j % len(key)])\n",
        "            j += 1\n",
        "    return \"\".join(new_key)"
      ],
      "metadata": {
        "id": "6a0IiQZzmRIq"
      },
      "execution_count": 88,
      "outputs": []
    },
    {
      "cell_type": "code",
      "source": [
        "# Encryption\n",
        "def cipherText(string, key):\n",
        "    cipher_text = []\n",
        "    for i in range(len(string)):\n",
        "        if string[i].isalpha():\n",
        "            # Ei = (Pi + Ki) mod 26\n",
        "            x = (ord(string[i]) + ord(key[i])) % 26\n",
        "            x += ord('A')\n",
        "            cipher_text.append(chr(x))\n",
        "        else:\n",
        "            cipher_text.append(string[i])  # Keep the space as it is\n",
        "    return \"\".join(cipher_text)"
      ],
      "metadata": {
        "id": "MHE6miCJmjQf"
      },
      "execution_count": 89,
      "outputs": []
    },
    {
      "cell_type": "code",
      "source": [
        "# Decryption\n",
        "def originalText(cipher_text, key):\n",
        "    orig_text = []\n",
        "    for i in range(len(cipher_text)):\n",
        "        if cipher_text[i].isalpha():\n",
        "            # Di = (Ei- Ki) mod 26\n",
        "            x = (ord(cipher_text[i]) - ord(key[i]) + 26) % 26\n",
        "            x += ord('A')\n",
        "            orig_text.append(chr(x))\n",
        "        else:\n",
        "            orig_text.append(cipher_text[i])  # Keep the space as it is\n",
        "    return \"\".join(orig_text)\n"
      ],
      "metadata": {
        "id": "d7D8Ur9RmjbF"
      },
      "execution_count": 90,
      "outputs": []
    },
    {
      "cell_type": "markdown",
      "source": [
        "**Sample Input/Output:**\n",
        "\n",
        "CSE FINAL YEAR THEORY COURSE INTRODUCTION TO COMPUER\n",
        "SECURITY AND FORENSICSU\n",
        "\n",
        "It seems that the input is a plaintext. We have to conver it into cipher using the given key. Here is the encryption:"
      ],
      "metadata": {
        "id": "FVoeWEa7rrpn"
      }
    },
    {
      "cell_type": "code",
      "source": [
        "string = \"CSE FINAL YEAR THEORY COURSE INTRODUCTION TO COMPUER SECURITY AND FORENSICSU\"\n",
        "keyword = \"SUSTCSE\"\n",
        "key = generateKey(string, keyword)\n",
        "cipher_text = cipherText(string,key)\n",
        "print(\"Ciphertext :\", cipher_text)"
      ],
      "metadata": {
        "colab": {
          "base_uri": "https://localhost:8080/"
        },
        "id": "wIZcjtjRsC3g",
        "outputId": "718763eb-8fd0-40d6-9538-1395ffbf24be"
      },
      "execution_count": 91,
      "outputs": [
        {
          "output_type": "stream",
          "name": "stdout",
          "text": [
            "Ciphertext : UMW YKFED SWTT LLWIJR EGYJMW BPLVGXMVVASF NG VQETMYJ LGUYJCLR CFH XIJXPKMUMM\n"
          ]
        }
      ]
    },
    {
      "cell_type": "markdown",
      "source": [
        "**Sample Output/Input:**\n",
        "UMW YKFED SWTT LLWIJR EGYJMW BPLVGXMVVASF NG\n",
        "VQETMYJ LGUYJCLR CFH XIJXPKMUM\n",
        "\n",
        "It seems that the input is a cipher. We have to decrypt it into plaintext using the given key. Here is the decryption:"
      ],
      "metadata": {
        "id": "HAybQcdWsYga"
      }
    },
    {
      "cell_type": "code",
      "source": [
        "cipher_text=\"UMW YKFED SWTT LLWIJR EGYJMW BPLVGXMVVASF NG VQETMYJ LGUYJCLR CFH XIJXPKMUM\"\n",
        "print(\"Original/Decrypted Text :\", originalText(cipher_text, key))"
      ],
      "metadata": {
        "colab": {
          "base_uri": "https://localhost:8080/"
        },
        "id": "U9C_KyoauJtH",
        "outputId": "f9e0b7a9-da51-498f-8d56-2955a27b1cad"
      },
      "execution_count": 92,
      "outputs": [
        {
          "output_type": "stream",
          "name": "stdout",
          "text": [
            "Original/Decrypted Text : CSE FINAL YEAR THEORY COURSE INTRODUCTION TO COMPUER SECURITY AND FORENSICS\n"
          ]
        }
      ]
    },
    {
      "cell_type": "markdown",
      "source": [
        "#**Task-04**"
      ],
      "metadata": {
        "id": "N6RNsDjEuvyl"
      }
    },
    {
      "cell_type": "markdown",
      "source": [
        "Write a program to simulate the *Hill Cipher crypto system* having the following\n",
        "properties and inputs. The program should have encryption facilities (decryption\n",
        "facilities: optional. You can get bonus if you do so) with the provision to ask the\n",
        "user the operation the user would like to perform."
      ],
      "metadata": {
        "id": "24x6xvXSu_Vs"
      }
    },
    {
      "cell_type": "markdown",
      "source": [
        "**Encryption code using *Hill Cypher*:**"
      ],
      "metadata": {
        "id": "0EW_0J6aD1Wj"
      }
    },
    {
      "cell_type": "code",
      "source": [
        "import numpy as np\n",
        "def generate_key_matrix(key):\n",
        "    key = key.replace(\" \", \"\").upper()\n",
        "    key_length = len(key)\n",
        "    matrix_size = int(np.sqrt(key_length))\n",
        "    key_matrix = np.array([ord(char) - ord('A') for char in key])\n",
        "    key_matrix = np.resize(key_matrix, (matrix_size, matrix_size))\n",
        "    return key_matrix\n",
        "# key_matrix=generate_key_matrix(\"AWESOME INTRODUCTION TO COMPUTER SECURITY AND FORENSICSU\")\n",
        "# print(key_matrix)"
      ],
      "metadata": {
        "id": "7nuqmditQBOT"
      },
      "execution_count": 93,
      "outputs": []
    },
    {
      "cell_type": "code",
      "source": [
        "def encrypt(message, key_matrix):\n",
        "    msg_copy=message\n",
        "    message = message.replace(\" \", \"\").upper()\n",
        "    message_length = len(message)\n",
        "    matrix_size = key_matrix.shape[0]    #return the length of square key matrix\n",
        "    # padding message if needed\n",
        "    padding_needed = matrix_size - (message_length % matrix_size)\n",
        "    if padding_needed != matrix_size:\n",
        "        message += 'X' * padding_needed\n",
        "        print(message)\n",
        "        message_length += padding_needed\n",
        "\n",
        "    encrypted_message = \"\"\n",
        "    for i in range(0, message_length, matrix_size):\n",
        "        message_block = np.array([ord(char) - ord('A') for char in message[i:i+matrix_size]])\n",
        "        # column vector with matrix_size rows and 1 column\n",
        "        message_block = np.resize(message_block, (matrix_size, 1))\n",
        "        # performs matrix multiplication\n",
        "        cipher_text_block = np.dot(key_matrix, message_block) % 26\n",
        "        for i in range(cipher_text_block.shape[0]):\n",
        "            if(msg_copy[i]==' '):\n",
        "                encrypted_message+=' ';\n",
        "            encrypted_message += chr( cipher_text_block[i][0] + ord('A'))\n",
        "    return encrypted_message\n",
        "\n",
        "message=\"SUST CSE\"\n",
        "key_matrix=generate_key_matrix(\"AWESOME INTRODUCTION TO COMPUTER SECURITY AND FORENSICSU\")\n",
        "print(key_matrix)\n",
        "encrypt(message, key_matrix)"
      ],
      "metadata": {
        "colab": {
          "base_uri": "https://localhost:8080/",
          "height": 157
        },
        "id": "030RlMNaaaLo",
        "outputId": "c9b6f10b-ebdd-48c3-eb76-25499807909c"
      },
      "execution_count": 94,
      "outputs": [
        {
          "output_type": "stream",
          "name": "stdout",
          "text": [
            "[[ 0 22  4 18 14 12  4]\n",
            " [ 8 13 19 17 14  3 20]\n",
            " [ 2 19  8 14 13 19 14]\n",
            " [ 2 14 12 15 20 19  4]\n",
            " [17 18  4  2 20 17  8]\n",
            " [19 24  0 13  3  5 14]\n",
            " [17  4 13 18  8  2 18]]\n"
          ]
        },
        {
          "output_type": "execute_result",
          "data": {
            "text/plain": [
              "'WJCT KZU'"
            ],
            "application/vnd.google.colaboratory.intrinsic+json": {
              "type": "string"
            }
          },
          "metadata": {},
          "execution_count": 94
        }
      ]
    },
    {
      "cell_type": "markdown",
      "source": [
        "**Decryption using *Hill cypher*:**"
      ],
      "metadata": {
        "id": "Yx0Idm5rCbR5"
      }
    },
    {
      "cell_type": "code",
      "source": [
        "import numpy as np\n",
        "# calculate inverse of a square matrix\n",
        "def inverse_matrix(matrix):\n",
        "    # Calculate the determinant of the matrix\n",
        "    det = int(round(np.linalg.det(matrix)))\n",
        "    # Check if the matrix is invertible (i.e., determinant is non-zero)\n",
        "    if det == 0:\n",
        "        raise ValueError(\"Matrix is singular and cannot be inverted.\")\n",
        "    inv_det=1\n",
        "    # calculate inverse determinent\n",
        "    for n in range(1,30):\n",
        "      if (n*det)%26==1:\n",
        "        inv_det=n\n",
        "        break\n",
        "    # calculate adj matrix\n",
        "    adj = (det * np.linalg.inv(key_matrix)).astype(int) % 26\n",
        "    # Calculate the inverse of the matrix\n",
        "    inv_matrix = (inv_det*adj)%26\n",
        "\n",
        "    return inv_matrix"
      ],
      "metadata": {
        "id": "GH0yffV7ko7L"
      },
      "execution_count": 95,
      "outputs": []
    },
    {
      "cell_type": "code",
      "source": [
        "# generate matrix for a given key\n",
        "def generate_key_matrix(key):\n",
        "    key = key.replace(\" \", \"\")  # Remove spaces from the key\n",
        "    matrix_size = int(np.sqrt(len(key)))  # Calculate the size of the square matrix\n",
        "    key_matrix = np.array([ord(char) - ord('A') for char in key])  # Convert characters to ASCII values\n",
        "    key_matrix = key_matrix.reshape(matrix_size, matrix_size)  # Reshape to square matrix\n",
        "    return key_matrix"
      ],
      "metadata": {
        "id": "An1t9JxPC0yu"
      },
      "execution_count": 96,
      "outputs": []
    },
    {
      "cell_type": "code",
      "source": [
        "def decrypt(encrypted_message, key_matrix):\n",
        "    message_length = len(encrypted_message)\n",
        "    # Get the size of the square key matrix\n",
        "    matrix_size = key_matrix.shape[0]\n",
        "\n",
        "    # Calculate the inverse key matrix\n",
        "    key_matrix_inv = inverse_matrix(key_matrix)\n",
        "    print(\"Inverse of the key matrix:\\n\",key_matrix_inv)\n",
        "    decrypted_message = \"\"\n",
        "    for i in range(0, message_length, matrix_size):\n",
        "        encrypted_block = np.array([ord(char) - ord('A') for char in encrypted_message[i:i + matrix_size]])\n",
        "        encrypted_block = np.resize(encrypted_block, (matrix_size, 1))\n",
        "        decrypted_block = np.dot(key_matrix_inv, encrypted_block) % 26\n",
        "        for j in range(decrypted_block.shape[0]):\n",
        "            decrypted_message += chr(int(decrypted_block[j][0]) + ord('A'))\n",
        "\n",
        "    return decrypted_message"
      ],
      "metadata": {
        "id": "ckoXuEj-C6od"
      },
      "execution_count": 97,
      "outputs": []
    },
    {
      "cell_type": "code",
      "source": [
        "key=\"GYB NQK URP\"\n",
        "key_matrix = generate_key_matrix(key)\n",
        "print(\"Key Matrix:\")\n",
        "print(key_matrix)\n",
        "\n",
        "# Example encrypted message\n",
        "encrypted_message = \"POH\"\n",
        "decrypted_message = decrypt(encrypted_message, key_matrix)\n",
        "print(\"Decrypted message:\", decrypted_message)"
      ],
      "metadata": {
        "colab": {
          "base_uri": "https://localhost:8080/"
        },
        "id": "VJP5Rdm-DMUs",
        "outputId": "5a80b9cb-810f-44cb-d615-f7b05db9d1e0"
      },
      "execution_count": 98,
      "outputs": [
        {
          "output_type": "stream",
          "name": "stdout",
          "text": [
            "Key Matrix:\n",
            "[[ 6 24  1]\n",
            " [13 16 10]\n",
            " [20 17 15]]\n",
            "Inverse of the key matrix:\n",
            " [[ 8  5 10]\n",
            " [22  8 21]\n",
            " [21 12  8]]\n",
            "Decrypted message: ART\n"
          ]
        }
      ]
    }
  ]
}